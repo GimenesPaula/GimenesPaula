{
  "cells": [
    {
      "cell_type": "markdown",
      "metadata": {
        "id": "view-in-github",
        "colab_type": "text"
      },
      "source": [
        "<a href=\"https://colab.research.google.com/github/GimenesPaula/GimenesPaula/blob/main/Projeto%201.ipynb\" target=\"_parent\"><img src=\"https://colab.research.google.com/assets/colab-badge.svg\" alt=\"Open In Colab\"/></a>"
      ]
    },
    {
      "cell_type": "markdown",
      "metadata": {
        "id": "vVjUgiszCybk"
      },
      "source": [
        "# Fazer Upload planilhas\n",
        "1.   Launches\n",
        "2.   Inci\n",
        "3.   Sales\n",
        "4.   Project"
      ]
    },
    {
      "cell_type": "code",
      "execution_count": 1,
      "metadata": {
        "colab": {
          "base_uri": "https://localhost:8080/",
          "height": 90
        },
        "id": "AyFbHvz1mw8q",
        "outputId": "11e4bfe6-0c78-4064-a607-e4e3c2818026"
      },
      "outputs": [
        {
          "output_type": "display_data",
          "data": {
            "text/plain": [
              "<IPython.core.display.HTML object>"
            ],
            "text/html": [
              "\n",
              "     <input type=\"file\" id=\"files-3a31de27-0772-4ec6-962f-4b6dc200b914\" name=\"files[]\" multiple disabled\n",
              "        style=\"border:none\" />\n",
              "     <output id=\"result-3a31de27-0772-4ec6-962f-4b6dc200b914\">\n",
              "      Upload widget is only available when the cell has been executed in the\n",
              "      current browser session. Please rerun this cell to enable.\n",
              "      </output>\n",
              "      <script>// Copyright 2017 Google LLC\n",
              "//\n",
              "// Licensed under the Apache License, Version 2.0 (the \"License\");\n",
              "// you may not use this file except in compliance with the License.\n",
              "// You may obtain a copy of the License at\n",
              "//\n",
              "//      http://www.apache.org/licenses/LICENSE-2.0\n",
              "//\n",
              "// Unless required by applicable law or agreed to in writing, software\n",
              "// distributed under the License is distributed on an \"AS IS\" BASIS,\n",
              "// WITHOUT WARRANTIES OR CONDITIONS OF ANY KIND, either express or implied.\n",
              "// See the License for the specific language governing permissions and\n",
              "// limitations under the License.\n",
              "\n",
              "/**\n",
              " * @fileoverview Helpers for google.colab Python module.\n",
              " */\n",
              "(function(scope) {\n",
              "function span(text, styleAttributes = {}) {\n",
              "  const element = document.createElement('span');\n",
              "  element.textContent = text;\n",
              "  for (const key of Object.keys(styleAttributes)) {\n",
              "    element.style[key] = styleAttributes[key];\n",
              "  }\n",
              "  return element;\n",
              "}\n",
              "\n",
              "// Max number of bytes which will be uploaded at a time.\n",
              "const MAX_PAYLOAD_SIZE = 100 * 1024;\n",
              "\n",
              "function _uploadFiles(inputId, outputId) {\n",
              "  const steps = uploadFilesStep(inputId, outputId);\n",
              "  const outputElement = document.getElementById(outputId);\n",
              "  // Cache steps on the outputElement to make it available for the next call\n",
              "  // to uploadFilesContinue from Python.\n",
              "  outputElement.steps = steps;\n",
              "\n",
              "  return _uploadFilesContinue(outputId);\n",
              "}\n",
              "\n",
              "// This is roughly an async generator (not supported in the browser yet),\n",
              "// where there are multiple asynchronous steps and the Python side is going\n",
              "// to poll for completion of each step.\n",
              "// This uses a Promise to block the python side on completion of each step,\n",
              "// then passes the result of the previous step as the input to the next step.\n",
              "function _uploadFilesContinue(outputId) {\n",
              "  const outputElement = document.getElementById(outputId);\n",
              "  const steps = outputElement.steps;\n",
              "\n",
              "  const next = steps.next(outputElement.lastPromiseValue);\n",
              "  return Promise.resolve(next.value.promise).then((value) => {\n",
              "    // Cache the last promise value to make it available to the next\n",
              "    // step of the generator.\n",
              "    outputElement.lastPromiseValue = value;\n",
              "    return next.value.response;\n",
              "  });\n",
              "}\n",
              "\n",
              "/**\n",
              " * Generator function which is called between each async step of the upload\n",
              " * process.\n",
              " * @param {string} inputId Element ID of the input file picker element.\n",
              " * @param {string} outputId Element ID of the output display.\n",
              " * @return {!Iterable<!Object>} Iterable of next steps.\n",
              " */\n",
              "function* uploadFilesStep(inputId, outputId) {\n",
              "  const inputElement = document.getElementById(inputId);\n",
              "  inputElement.disabled = false;\n",
              "\n",
              "  const outputElement = document.getElementById(outputId);\n",
              "  outputElement.innerHTML = '';\n",
              "\n",
              "  const pickedPromise = new Promise((resolve) => {\n",
              "    inputElement.addEventListener('change', (e) => {\n",
              "      resolve(e.target.files);\n",
              "    });\n",
              "  });\n",
              "\n",
              "  const cancel = document.createElement('button');\n",
              "  inputElement.parentElement.appendChild(cancel);\n",
              "  cancel.textContent = 'Cancel upload';\n",
              "  const cancelPromise = new Promise((resolve) => {\n",
              "    cancel.onclick = () => {\n",
              "      resolve(null);\n",
              "    };\n",
              "  });\n",
              "\n",
              "  // Wait for the user to pick the files.\n",
              "  const files = yield {\n",
              "    promise: Promise.race([pickedPromise, cancelPromise]),\n",
              "    response: {\n",
              "      action: 'starting',\n",
              "    }\n",
              "  };\n",
              "\n",
              "  cancel.remove();\n",
              "\n",
              "  // Disable the input element since further picks are not allowed.\n",
              "  inputElement.disabled = true;\n",
              "\n",
              "  if (!files) {\n",
              "    return {\n",
              "      response: {\n",
              "        action: 'complete',\n",
              "      }\n",
              "    };\n",
              "  }\n",
              "\n",
              "  for (const file of files) {\n",
              "    const li = document.createElement('li');\n",
              "    li.append(span(file.name, {fontWeight: 'bold'}));\n",
              "    li.append(span(\n",
              "        `(${file.type || 'n/a'}) - ${file.size} bytes, ` +\n",
              "        `last modified: ${\n",
              "            file.lastModifiedDate ? file.lastModifiedDate.toLocaleDateString() :\n",
              "                                    'n/a'} - `));\n",
              "    const percent = span('0% done');\n",
              "    li.appendChild(percent);\n",
              "\n",
              "    outputElement.appendChild(li);\n",
              "\n",
              "    const fileDataPromise = new Promise((resolve) => {\n",
              "      const reader = new FileReader();\n",
              "      reader.onload = (e) => {\n",
              "        resolve(e.target.result);\n",
              "      };\n",
              "      reader.readAsArrayBuffer(file);\n",
              "    });\n",
              "    // Wait for the data to be ready.\n",
              "    let fileData = yield {\n",
              "      promise: fileDataPromise,\n",
              "      response: {\n",
              "        action: 'continue',\n",
              "      }\n",
              "    };\n",
              "\n",
              "    // Use a chunked sending to avoid message size limits. See b/62115660.\n",
              "    let position = 0;\n",
              "    do {\n",
              "      const length = Math.min(fileData.byteLength - position, MAX_PAYLOAD_SIZE);\n",
              "      const chunk = new Uint8Array(fileData, position, length);\n",
              "      position += length;\n",
              "\n",
              "      const base64 = btoa(String.fromCharCode.apply(null, chunk));\n",
              "      yield {\n",
              "        response: {\n",
              "          action: 'append',\n",
              "          file: file.name,\n",
              "          data: base64,\n",
              "        },\n",
              "      };\n",
              "\n",
              "      let percentDone = fileData.byteLength === 0 ?\n",
              "          100 :\n",
              "          Math.round((position / fileData.byteLength) * 100);\n",
              "      percent.textContent = `${percentDone}% done`;\n",
              "\n",
              "    } while (position < fileData.byteLength);\n",
              "  }\n",
              "\n",
              "  // All done.\n",
              "  yield {\n",
              "    response: {\n",
              "      action: 'complete',\n",
              "    }\n",
              "  };\n",
              "}\n",
              "\n",
              "scope.google = scope.google || {};\n",
              "scope.google.colab = scope.google.colab || {};\n",
              "scope.google.colab._files = {\n",
              "  _uploadFiles,\n",
              "  _uploadFilesContinue,\n",
              "};\n",
              "})(self);\n",
              "</script> "
            ]
          },
          "metadata": {}
        },
        {
          "output_type": "stream",
          "name": "stdout",
          "text": [
            "Saving 2024_16_08.xlsx to 2024_16_08.xlsx\n"
          ]
        }
      ],
      "source": [
        "#Launches\n",
        "from google.colab import files\n",
        "uploaded = files.upload()"
      ]
    },
    {
      "cell_type": "code",
      "execution_count": 2,
      "metadata": {
        "id": "Igi2-PETU4sg"
      },
      "outputs": [],
      "source": [
        "filename = next(iter(uploaded))"
      ]
    },
    {
      "cell_type": "code",
      "execution_count": 3,
      "metadata": {
        "id": "lB3QSzOoTf86",
        "colab": {
          "base_uri": "https://localhost:8080/",
          "height": 90
        },
        "outputId": "316f388d-2909-4062-f52f-4a72dbf15255"
      },
      "outputs": [
        {
          "output_type": "display_data",
          "data": {
            "text/plain": [
              "<IPython.core.display.HTML object>"
            ],
            "text/html": [
              "\n",
              "     <input type=\"file\" id=\"files-a4b90ab8-3e33-4234-8ab0-a4af17b81952\" name=\"files[]\" multiple disabled\n",
              "        style=\"border:none\" />\n",
              "     <output id=\"result-a4b90ab8-3e33-4234-8ab0-a4af17b81952\">\n",
              "      Upload widget is only available when the cell has been executed in the\n",
              "      current browser session. Please rerun this cell to enable.\n",
              "      </output>\n",
              "      <script>// Copyright 2017 Google LLC\n",
              "//\n",
              "// Licensed under the Apache License, Version 2.0 (the \"License\");\n",
              "// you may not use this file except in compliance with the License.\n",
              "// You may obtain a copy of the License at\n",
              "//\n",
              "//      http://www.apache.org/licenses/LICENSE-2.0\n",
              "//\n",
              "// Unless required by applicable law or agreed to in writing, software\n",
              "// distributed under the License is distributed on an \"AS IS\" BASIS,\n",
              "// WITHOUT WARRANTIES OR CONDITIONS OF ANY KIND, either express or implied.\n",
              "// See the License for the specific language governing permissions and\n",
              "// limitations under the License.\n",
              "\n",
              "/**\n",
              " * @fileoverview Helpers for google.colab Python module.\n",
              " */\n",
              "(function(scope) {\n",
              "function span(text, styleAttributes = {}) {\n",
              "  const element = document.createElement('span');\n",
              "  element.textContent = text;\n",
              "  for (const key of Object.keys(styleAttributes)) {\n",
              "    element.style[key] = styleAttributes[key];\n",
              "  }\n",
              "  return element;\n",
              "}\n",
              "\n",
              "// Max number of bytes which will be uploaded at a time.\n",
              "const MAX_PAYLOAD_SIZE = 100 * 1024;\n",
              "\n",
              "function _uploadFiles(inputId, outputId) {\n",
              "  const steps = uploadFilesStep(inputId, outputId);\n",
              "  const outputElement = document.getElementById(outputId);\n",
              "  // Cache steps on the outputElement to make it available for the next call\n",
              "  // to uploadFilesContinue from Python.\n",
              "  outputElement.steps = steps;\n",
              "\n",
              "  return _uploadFilesContinue(outputId);\n",
              "}\n",
              "\n",
              "// This is roughly an async generator (not supported in the browser yet),\n",
              "// where there are multiple asynchronous steps and the Python side is going\n",
              "// to poll for completion of each step.\n",
              "// This uses a Promise to block the python side on completion of each step,\n",
              "// then passes the result of the previous step as the input to the next step.\n",
              "function _uploadFilesContinue(outputId) {\n",
              "  const outputElement = document.getElementById(outputId);\n",
              "  const steps = outputElement.steps;\n",
              "\n",
              "  const next = steps.next(outputElement.lastPromiseValue);\n",
              "  return Promise.resolve(next.value.promise).then((value) => {\n",
              "    // Cache the last promise value to make it available to the next\n",
              "    // step of the generator.\n",
              "    outputElement.lastPromiseValue = value;\n",
              "    return next.value.response;\n",
              "  });\n",
              "}\n",
              "\n",
              "/**\n",
              " * Generator function which is called between each async step of the upload\n",
              " * process.\n",
              " * @param {string} inputId Element ID of the input file picker element.\n",
              " * @param {string} outputId Element ID of the output display.\n",
              " * @return {!Iterable<!Object>} Iterable of next steps.\n",
              " */\n",
              "function* uploadFilesStep(inputId, outputId) {\n",
              "  const inputElement = document.getElementById(inputId);\n",
              "  inputElement.disabled = false;\n",
              "\n",
              "  const outputElement = document.getElementById(outputId);\n",
              "  outputElement.innerHTML = '';\n",
              "\n",
              "  const pickedPromise = new Promise((resolve) => {\n",
              "    inputElement.addEventListener('change', (e) => {\n",
              "      resolve(e.target.files);\n",
              "    });\n",
              "  });\n",
              "\n",
              "  const cancel = document.createElement('button');\n",
              "  inputElement.parentElement.appendChild(cancel);\n",
              "  cancel.textContent = 'Cancel upload';\n",
              "  const cancelPromise = new Promise((resolve) => {\n",
              "    cancel.onclick = () => {\n",
              "      resolve(null);\n",
              "    };\n",
              "  });\n",
              "\n",
              "  // Wait for the user to pick the files.\n",
              "  const files = yield {\n",
              "    promise: Promise.race([pickedPromise, cancelPromise]),\n",
              "    response: {\n",
              "      action: 'starting',\n",
              "    }\n",
              "  };\n",
              "\n",
              "  cancel.remove();\n",
              "\n",
              "  // Disable the input element since further picks are not allowed.\n",
              "  inputElement.disabled = true;\n",
              "\n",
              "  if (!files) {\n",
              "    return {\n",
              "      response: {\n",
              "        action: 'complete',\n",
              "      }\n",
              "    };\n",
              "  }\n",
              "\n",
              "  for (const file of files) {\n",
              "    const li = document.createElement('li');\n",
              "    li.append(span(file.name, {fontWeight: 'bold'}));\n",
              "    li.append(span(\n",
              "        `(${file.type || 'n/a'}) - ${file.size} bytes, ` +\n",
              "        `last modified: ${\n",
              "            file.lastModifiedDate ? file.lastModifiedDate.toLocaleDateString() :\n",
              "                                    'n/a'} - `));\n",
              "    const percent = span('0% done');\n",
              "    li.appendChild(percent);\n",
              "\n",
              "    outputElement.appendChild(li);\n",
              "\n",
              "    const fileDataPromise = new Promise((resolve) => {\n",
              "      const reader = new FileReader();\n",
              "      reader.onload = (e) => {\n",
              "        resolve(e.target.result);\n",
              "      };\n",
              "      reader.readAsArrayBuffer(file);\n",
              "    });\n",
              "    // Wait for the data to be ready.\n",
              "    let fileData = yield {\n",
              "      promise: fileDataPromise,\n",
              "      response: {\n",
              "        action: 'continue',\n",
              "      }\n",
              "    };\n",
              "\n",
              "    // Use a chunked sending to avoid message size limits. See b/62115660.\n",
              "    let position = 0;\n",
              "    do {\n",
              "      const length = Math.min(fileData.byteLength - position, MAX_PAYLOAD_SIZE);\n",
              "      const chunk = new Uint8Array(fileData, position, length);\n",
              "      position += length;\n",
              "\n",
              "      const base64 = btoa(String.fromCharCode.apply(null, chunk));\n",
              "      yield {\n",
              "        response: {\n",
              "          action: 'append',\n",
              "          file: file.name,\n",
              "          data: base64,\n",
              "        },\n",
              "      };\n",
              "\n",
              "      let percentDone = fileData.byteLength === 0 ?\n",
              "          100 :\n",
              "          Math.round((position / fileData.byteLength) * 100);\n",
              "      percent.textContent = `${percentDone}% done`;\n",
              "\n",
              "    } while (position < fileData.byteLength);\n",
              "  }\n",
              "\n",
              "  // All done.\n",
              "  yield {\n",
              "    response: {\n",
              "      action: 'complete',\n",
              "    }\n",
              "  };\n",
              "}\n",
              "\n",
              "scope.google = scope.google || {};\n",
              "scope.google.colab = scope.google.colab || {};\n",
              "scope.google.colab._files = {\n",
              "  _uploadFiles,\n",
              "  _uploadFilesContinue,\n",
              "};\n",
              "})(self);\n",
              "</script> "
            ]
          },
          "metadata": {}
        },
        {
          "output_type": "stream",
          "name": "stdout",
          "text": [
            "Saving inci_16_08.xlsx to inci_16_08.xlsx\n"
          ]
        }
      ],
      "source": [
        "# INCI name produtos\n",
        "from google.colab import files\n",
        "inci = files.upload()"
      ]
    },
    {
      "cell_type": "code",
      "execution_count": 4,
      "metadata": {
        "id": "jlNGmhCHUWCd"
      },
      "outputs": [],
      "source": [
        "filename2 = next(iter(inci))"
      ]
    },
    {
      "cell_type": "code",
      "execution_count": 5,
      "metadata": {
        "id": "fHn40Bxeyxda",
        "colab": {
          "base_uri": "https://localhost:8080/",
          "height": 90
        },
        "outputId": "68001279-f019-4e60-d164-b32b8e804f01"
      },
      "outputs": [
        {
          "output_type": "display_data",
          "data": {
            "text/plain": [
              "<IPython.core.display.HTML object>"
            ],
            "text/html": [
              "\n",
              "     <input type=\"file\" id=\"files-b07f44d5-e9af-4537-bf0d-4817e1d6e91c\" name=\"files[]\" multiple disabled\n",
              "        style=\"border:none\" />\n",
              "     <output id=\"result-b07f44d5-e9af-4537-bf0d-4817e1d6e91c\">\n",
              "      Upload widget is only available when the cell has been executed in the\n",
              "      current browser session. Please rerun this cell to enable.\n",
              "      </output>\n",
              "      <script>// Copyright 2017 Google LLC\n",
              "//\n",
              "// Licensed under the Apache License, Version 2.0 (the \"License\");\n",
              "// you may not use this file except in compliance with the License.\n",
              "// You may obtain a copy of the License at\n",
              "//\n",
              "//      http://www.apache.org/licenses/LICENSE-2.0\n",
              "//\n",
              "// Unless required by applicable law or agreed to in writing, software\n",
              "// distributed under the License is distributed on an \"AS IS\" BASIS,\n",
              "// WITHOUT WARRANTIES OR CONDITIONS OF ANY KIND, either express or implied.\n",
              "// See the License for the specific language governing permissions and\n",
              "// limitations under the License.\n",
              "\n",
              "/**\n",
              " * @fileoverview Helpers for google.colab Python module.\n",
              " */\n",
              "(function(scope) {\n",
              "function span(text, styleAttributes = {}) {\n",
              "  const element = document.createElement('span');\n",
              "  element.textContent = text;\n",
              "  for (const key of Object.keys(styleAttributes)) {\n",
              "    element.style[key] = styleAttributes[key];\n",
              "  }\n",
              "  return element;\n",
              "}\n",
              "\n",
              "// Max number of bytes which will be uploaded at a time.\n",
              "const MAX_PAYLOAD_SIZE = 100 * 1024;\n",
              "\n",
              "function _uploadFiles(inputId, outputId) {\n",
              "  const steps = uploadFilesStep(inputId, outputId);\n",
              "  const outputElement = document.getElementById(outputId);\n",
              "  // Cache steps on the outputElement to make it available for the next call\n",
              "  // to uploadFilesContinue from Python.\n",
              "  outputElement.steps = steps;\n",
              "\n",
              "  return _uploadFilesContinue(outputId);\n",
              "}\n",
              "\n",
              "// This is roughly an async generator (not supported in the browser yet),\n",
              "// where there are multiple asynchronous steps and the Python side is going\n",
              "// to poll for completion of each step.\n",
              "// This uses a Promise to block the python side on completion of each step,\n",
              "// then passes the result of the previous step as the input to the next step.\n",
              "function _uploadFilesContinue(outputId) {\n",
              "  const outputElement = document.getElementById(outputId);\n",
              "  const steps = outputElement.steps;\n",
              "\n",
              "  const next = steps.next(outputElement.lastPromiseValue);\n",
              "  return Promise.resolve(next.value.promise).then((value) => {\n",
              "    // Cache the last promise value to make it available to the next\n",
              "    // step of the generator.\n",
              "    outputElement.lastPromiseValue = value;\n",
              "    return next.value.response;\n",
              "  });\n",
              "}\n",
              "\n",
              "/**\n",
              " * Generator function which is called between each async step of the upload\n",
              " * process.\n",
              " * @param {string} inputId Element ID of the input file picker element.\n",
              " * @param {string} outputId Element ID of the output display.\n",
              " * @return {!Iterable<!Object>} Iterable of next steps.\n",
              " */\n",
              "function* uploadFilesStep(inputId, outputId) {\n",
              "  const inputElement = document.getElementById(inputId);\n",
              "  inputElement.disabled = false;\n",
              "\n",
              "  const outputElement = document.getElementById(outputId);\n",
              "  outputElement.innerHTML = '';\n",
              "\n",
              "  const pickedPromise = new Promise((resolve) => {\n",
              "    inputElement.addEventListener('change', (e) => {\n",
              "      resolve(e.target.files);\n",
              "    });\n",
              "  });\n",
              "\n",
              "  const cancel = document.createElement('button');\n",
              "  inputElement.parentElement.appendChild(cancel);\n",
              "  cancel.textContent = 'Cancel upload';\n",
              "  const cancelPromise = new Promise((resolve) => {\n",
              "    cancel.onclick = () => {\n",
              "      resolve(null);\n",
              "    };\n",
              "  });\n",
              "\n",
              "  // Wait for the user to pick the files.\n",
              "  const files = yield {\n",
              "    promise: Promise.race([pickedPromise, cancelPromise]),\n",
              "    response: {\n",
              "      action: 'starting',\n",
              "    }\n",
              "  };\n",
              "\n",
              "  cancel.remove();\n",
              "\n",
              "  // Disable the input element since further picks are not allowed.\n",
              "  inputElement.disabled = true;\n",
              "\n",
              "  if (!files) {\n",
              "    return {\n",
              "      response: {\n",
              "        action: 'complete',\n",
              "      }\n",
              "    };\n",
              "  }\n",
              "\n",
              "  for (const file of files) {\n",
              "    const li = document.createElement('li');\n",
              "    li.append(span(file.name, {fontWeight: 'bold'}));\n",
              "    li.append(span(\n",
              "        `(${file.type || 'n/a'}) - ${file.size} bytes, ` +\n",
              "        `last modified: ${\n",
              "            file.lastModifiedDate ? file.lastModifiedDate.toLocaleDateString() :\n",
              "                                    'n/a'} - `));\n",
              "    const percent = span('0% done');\n",
              "    li.appendChild(percent);\n",
              "\n",
              "    outputElement.appendChild(li);\n",
              "\n",
              "    const fileDataPromise = new Promise((resolve) => {\n",
              "      const reader = new FileReader();\n",
              "      reader.onload = (e) => {\n",
              "        resolve(e.target.result);\n",
              "      };\n",
              "      reader.readAsArrayBuffer(file);\n",
              "    });\n",
              "    // Wait for the data to be ready.\n",
              "    let fileData = yield {\n",
              "      promise: fileDataPromise,\n",
              "      response: {\n",
              "        action: 'continue',\n",
              "      }\n",
              "    };\n",
              "\n",
              "    // Use a chunked sending to avoid message size limits. See b/62115660.\n",
              "    let position = 0;\n",
              "    do {\n",
              "      const length = Math.min(fileData.byteLength - position, MAX_PAYLOAD_SIZE);\n",
              "      const chunk = new Uint8Array(fileData, position, length);\n",
              "      position += length;\n",
              "\n",
              "      const base64 = btoa(String.fromCharCode.apply(null, chunk));\n",
              "      yield {\n",
              "        response: {\n",
              "          action: 'append',\n",
              "          file: file.name,\n",
              "          data: base64,\n",
              "        },\n",
              "      };\n",
              "\n",
              "      let percentDone = fileData.byteLength === 0 ?\n",
              "          100 :\n",
              "          Math.round((position / fileData.byteLength) * 100);\n",
              "      percent.textContent = `${percentDone}% done`;\n",
              "\n",
              "    } while (position < fileData.byteLength);\n",
              "  }\n",
              "\n",
              "  // All done.\n",
              "  yield {\n",
              "    response: {\n",
              "      action: 'complete',\n",
              "    }\n",
              "  };\n",
              "}\n",
              "\n",
              "scope.google = scope.google || {};\n",
              "scope.google.colab = scope.google.colab || {};\n",
              "scope.google.colab._files = {\n",
              "  _uploadFiles,\n",
              "  _uploadFilesContinue,\n",
              "};\n",
              "})(self);\n",
              "</script> "
            ]
          },
          "metadata": {}
        },
        {
          "output_type": "stream",
          "name": "stdout",
          "text": [
            "Saving Projetos_20_08.xlsx to Projetos_20_08.xlsx\n"
          ]
        }
      ],
      "source": [
        "#Projetos Distribuidores\n",
        "from google.colab import files\n",
        "proj = files.upload()"
      ]
    },
    {
      "cell_type": "code",
      "execution_count": 6,
      "metadata": {
        "id": "Ol0WCLoMy5vq"
      },
      "outputs": [],
      "source": [
        "filename3 = next(iter(proj))"
      ]
    },
    {
      "cell_type": "code",
      "execution_count": 7,
      "metadata": {
        "id": "-IovYkI07S51",
        "colab": {
          "base_uri": "https://localhost:8080/",
          "height": 90
        },
        "outputId": "b5b5d7a7-97b4-4b8a-9633-7d7a4f7c19dd"
      },
      "outputs": [
        {
          "output_type": "display_data",
          "data": {
            "text/plain": [
              "<IPython.core.display.HTML object>"
            ],
            "text/html": [
              "\n",
              "     <input type=\"file\" id=\"files-9d399b43-4c03-4347-a8d0-ff5884422978\" name=\"files[]\" multiple disabled\n",
              "        style=\"border:none\" />\n",
              "     <output id=\"result-9d399b43-4c03-4347-a8d0-ff5884422978\">\n",
              "      Upload widget is only available when the cell has been executed in the\n",
              "      current browser session. Please rerun this cell to enable.\n",
              "      </output>\n",
              "      <script>// Copyright 2017 Google LLC\n",
              "//\n",
              "// Licensed under the Apache License, Version 2.0 (the \"License\");\n",
              "// you may not use this file except in compliance with the License.\n",
              "// You may obtain a copy of the License at\n",
              "//\n",
              "//      http://www.apache.org/licenses/LICENSE-2.0\n",
              "//\n",
              "// Unless required by applicable law or agreed to in writing, software\n",
              "// distributed under the License is distributed on an \"AS IS\" BASIS,\n",
              "// WITHOUT WARRANTIES OR CONDITIONS OF ANY KIND, either express or implied.\n",
              "// See the License for the specific language governing permissions and\n",
              "// limitations under the License.\n",
              "\n",
              "/**\n",
              " * @fileoverview Helpers for google.colab Python module.\n",
              " */\n",
              "(function(scope) {\n",
              "function span(text, styleAttributes = {}) {\n",
              "  const element = document.createElement('span');\n",
              "  element.textContent = text;\n",
              "  for (const key of Object.keys(styleAttributes)) {\n",
              "    element.style[key] = styleAttributes[key];\n",
              "  }\n",
              "  return element;\n",
              "}\n",
              "\n",
              "// Max number of bytes which will be uploaded at a time.\n",
              "const MAX_PAYLOAD_SIZE = 100 * 1024;\n",
              "\n",
              "function _uploadFiles(inputId, outputId) {\n",
              "  const steps = uploadFilesStep(inputId, outputId);\n",
              "  const outputElement = document.getElementById(outputId);\n",
              "  // Cache steps on the outputElement to make it available for the next call\n",
              "  // to uploadFilesContinue from Python.\n",
              "  outputElement.steps = steps;\n",
              "\n",
              "  return _uploadFilesContinue(outputId);\n",
              "}\n",
              "\n",
              "// This is roughly an async generator (not supported in the browser yet),\n",
              "// where there are multiple asynchronous steps and the Python side is going\n",
              "// to poll for completion of each step.\n",
              "// This uses a Promise to block the python side on completion of each step,\n",
              "// then passes the result of the previous step as the input to the next step.\n",
              "function _uploadFilesContinue(outputId) {\n",
              "  const outputElement = document.getElementById(outputId);\n",
              "  const steps = outputElement.steps;\n",
              "\n",
              "  const next = steps.next(outputElement.lastPromiseValue);\n",
              "  return Promise.resolve(next.value.promise).then((value) => {\n",
              "    // Cache the last promise value to make it available to the next\n",
              "    // step of the generator.\n",
              "    outputElement.lastPromiseValue = value;\n",
              "    return next.value.response;\n",
              "  });\n",
              "}\n",
              "\n",
              "/**\n",
              " * Generator function which is called between each async step of the upload\n",
              " * process.\n",
              " * @param {string} inputId Element ID of the input file picker element.\n",
              " * @param {string} outputId Element ID of the output display.\n",
              " * @return {!Iterable<!Object>} Iterable of next steps.\n",
              " */\n",
              "function* uploadFilesStep(inputId, outputId) {\n",
              "  const inputElement = document.getElementById(inputId);\n",
              "  inputElement.disabled = false;\n",
              "\n",
              "  const outputElement = document.getElementById(outputId);\n",
              "  outputElement.innerHTML = '';\n",
              "\n",
              "  const pickedPromise = new Promise((resolve) => {\n",
              "    inputElement.addEventListener('change', (e) => {\n",
              "      resolve(e.target.files);\n",
              "    });\n",
              "  });\n",
              "\n",
              "  const cancel = document.createElement('button');\n",
              "  inputElement.parentElement.appendChild(cancel);\n",
              "  cancel.textContent = 'Cancel upload';\n",
              "  const cancelPromise = new Promise((resolve) => {\n",
              "    cancel.onclick = () => {\n",
              "      resolve(null);\n",
              "    };\n",
              "  });\n",
              "\n",
              "  // Wait for the user to pick the files.\n",
              "  const files = yield {\n",
              "    promise: Promise.race([pickedPromise, cancelPromise]),\n",
              "    response: {\n",
              "      action: 'starting',\n",
              "    }\n",
              "  };\n",
              "\n",
              "  cancel.remove();\n",
              "\n",
              "  // Disable the input element since further picks are not allowed.\n",
              "  inputElement.disabled = true;\n",
              "\n",
              "  if (!files) {\n",
              "    return {\n",
              "      response: {\n",
              "        action: 'complete',\n",
              "      }\n",
              "    };\n",
              "  }\n",
              "\n",
              "  for (const file of files) {\n",
              "    const li = document.createElement('li');\n",
              "    li.append(span(file.name, {fontWeight: 'bold'}));\n",
              "    li.append(span(\n",
              "        `(${file.type || 'n/a'}) - ${file.size} bytes, ` +\n",
              "        `last modified: ${\n",
              "            file.lastModifiedDate ? file.lastModifiedDate.toLocaleDateString() :\n",
              "                                    'n/a'} - `));\n",
              "    const percent = span('0% done');\n",
              "    li.appendChild(percent);\n",
              "\n",
              "    outputElement.appendChild(li);\n",
              "\n",
              "    const fileDataPromise = new Promise((resolve) => {\n",
              "      const reader = new FileReader();\n",
              "      reader.onload = (e) => {\n",
              "        resolve(e.target.result);\n",
              "      };\n",
              "      reader.readAsArrayBuffer(file);\n",
              "    });\n",
              "    // Wait for the data to be ready.\n",
              "    let fileData = yield {\n",
              "      promise: fileDataPromise,\n",
              "      response: {\n",
              "        action: 'continue',\n",
              "      }\n",
              "    };\n",
              "\n",
              "    // Use a chunked sending to avoid message size limits. See b/62115660.\n",
              "    let position = 0;\n",
              "    do {\n",
              "      const length = Math.min(fileData.byteLength - position, MAX_PAYLOAD_SIZE);\n",
              "      const chunk = new Uint8Array(fileData, position, length);\n",
              "      position += length;\n",
              "\n",
              "      const base64 = btoa(String.fromCharCode.apply(null, chunk));\n",
              "      yield {\n",
              "        response: {\n",
              "          action: 'append',\n",
              "          file: file.name,\n",
              "          data: base64,\n",
              "        },\n",
              "      };\n",
              "\n",
              "      let percentDone = fileData.byteLength === 0 ?\n",
              "          100 :\n",
              "          Math.round((position / fileData.byteLength) * 100);\n",
              "      percent.textContent = `${percentDone}% done`;\n",
              "\n",
              "    } while (position < fileData.byteLength);\n",
              "  }\n",
              "\n",
              "  // All done.\n",
              "  yield {\n",
              "    response: {\n",
              "      action: 'complete',\n",
              "    }\n",
              "  };\n",
              "}\n",
              "\n",
              "scope.google = scope.google || {};\n",
              "scope.google.colab = scope.google.colab || {};\n",
              "scope.google.colab._files = {\n",
              "  _uploadFiles,\n",
              "  _uploadFilesContinue,\n",
              "};\n",
              "})(self);\n",
              "</script> "
            ]
          },
          "metadata": {}
        },
        {
          "output_type": "stream",
          "name": "stdout",
          "text": [
            "Saving Vendas_16_08.xlsx to Vendas_16_08.xlsx\n"
          ]
        }
      ],
      "source": [
        "#Vendas Distribuidores\n",
        "from google.colab import files\n",
        "dist = files.upload()"
      ]
    },
    {
      "cell_type": "code",
      "execution_count": 8,
      "metadata": {
        "id": "fjis3yuW7S52"
      },
      "outputs": [],
      "source": [
        "filename4 = next(iter(dist))"
      ]
    },
    {
      "cell_type": "markdown",
      "metadata": {
        "id": "P6-oQmnu0ay7"
      },
      "source": [
        "# Bibliotecas Phyton"
      ]
    },
    {
      "cell_type": "code",
      "execution_count": 9,
      "metadata": {
        "id": "OUttnnRjUFkr"
      },
      "outputs": [],
      "source": [
        "#Carrega Bibliotecas\n",
        "import pandas as pd\n",
        "import numpy as np\n",
        "import re"
      ]
    },
    {
      "cell_type": "code",
      "execution_count": 10,
      "metadata": {
        "colab": {
          "base_uri": "https://localhost:8080/"
        },
        "id": "bYgOUb49mE-B",
        "outputId": "fa62ead6-c083-4515-e256-fee728a8fcc8"
      },
      "outputs": [
        {
          "output_type": "stream",
          "name": "stdout",
          "text": [
            "Collecting unidecode\n",
            "  Downloading Unidecode-1.3.8-py3-none-any.whl.metadata (13 kB)\n",
            "Downloading Unidecode-1.3.8-py3-none-any.whl (235 kB)\n",
            "\u001b[2K   \u001b[90m━━━━━━━━━━━━━━━━━━━━━━━━━━━━━━━━━━━━━━━━\u001b[0m \u001b[32m235.5/235.5 kB\u001b[0m \u001b[31m3.5 MB/s\u001b[0m eta \u001b[36m0:00:00\u001b[0m\n",
            "\u001b[?25hInstalling collected packages: unidecode\n",
            "Successfully installed unidecode-1.3.8\n"
          ]
        }
      ],
      "source": [
        "pip install unidecode"
      ]
    },
    {
      "cell_type": "code",
      "execution_count": 11,
      "metadata": {
        "id": "Lr8uDiyKlneW"
      },
      "outputs": [],
      "source": [
        "from unidecode import unidecode"
      ]
    },
    {
      "cell_type": "markdown",
      "metadata": {
        "id": "knAADVNN0iEf"
      },
      "source": [
        "#Carrega Bases de Dados 1) Lançamento; 2) INCI; 3) Projetos; 4) Vendas"
      ]
    },
    {
      "cell_type": "markdown",
      "source": [
        "## Upload Lançamentos\n",
        "\n",
        "\n",
        "\n"
      ],
      "metadata": {
        "id": "VlyW6J7xOQg9"
      }
    },
    {
      "cell_type": "code",
      "execution_count": 65,
      "metadata": {
        "colab": {
          "base_uri": "https://localhost:8080/",
          "height": 993
        },
        "id": "kXNHpqFaTMgx",
        "outputId": "50d3c246-9400-4a38-de42-a270d992653e"
      },
      "outputs": [
        {
          "output_type": "execute_result",
          "data": {
            "text/plain": [
              "Record ID                       2055\n",
              "Date/Published                   123\n",
              "Product                         1358\n",
              "Brand                           1372\n",
              "Company                          529\n",
              "Market                             1\n",
              "Category                           4\n",
              "Sub-Category                      38\n",
              "Product Description             2054\n",
              "Launch Type                        5\n",
              "Manufacturer                     480\n",
              "Location of Manufacture           24\n",
              "Manufacturer Company Address     343\n",
              "Ingredients (Standard form)     2016\n",
              "Price in local currency          686\n",
              "Primary Image Link              1697\n",
              "Pet                                0\n",
              "Convenience                       20\n",
              "Minus                              0\n",
              "Functional                        85\n",
              "Natural                           25\n",
              "Plus                               2\n",
              "Positioning                       15\n",
              "Suitable for                       7\n",
              "Demographic                        8\n",
              "Free from                         52\n",
              "Beauty enhancing                 120\n",
              "Ethical & environmental           68\n",
              "Product tested                    25\n",
              "dtype: int64"
            ],
            "text/html": [
              "<div>\n",
              "<style scoped>\n",
              "    .dataframe tbody tr th:only-of-type {\n",
              "        vertical-align: middle;\n",
              "    }\n",
              "\n",
              "    .dataframe tbody tr th {\n",
              "        vertical-align: top;\n",
              "    }\n",
              "\n",
              "    .dataframe thead th {\n",
              "        text-align: right;\n",
              "    }\n",
              "</style>\n",
              "<table border=\"1\" class=\"dataframe\">\n",
              "  <thead>\n",
              "    <tr style=\"text-align: right;\">\n",
              "      <th></th>\n",
              "      <th>0</th>\n",
              "    </tr>\n",
              "  </thead>\n",
              "  <tbody>\n",
              "    <tr>\n",
              "      <th>Record ID</th>\n",
              "      <td>2055</td>\n",
              "    </tr>\n",
              "    <tr>\n",
              "      <th>Date/Published</th>\n",
              "      <td>123</td>\n",
              "    </tr>\n",
              "    <tr>\n",
              "      <th>Product</th>\n",
              "      <td>1358</td>\n",
              "    </tr>\n",
              "    <tr>\n",
              "      <th>Brand</th>\n",
              "      <td>1372</td>\n",
              "    </tr>\n",
              "    <tr>\n",
              "      <th>Company</th>\n",
              "      <td>529</td>\n",
              "    </tr>\n",
              "    <tr>\n",
              "      <th>Market</th>\n",
              "      <td>1</td>\n",
              "    </tr>\n",
              "    <tr>\n",
              "      <th>Category</th>\n",
              "      <td>4</td>\n",
              "    </tr>\n",
              "    <tr>\n",
              "      <th>Sub-Category</th>\n",
              "      <td>38</td>\n",
              "    </tr>\n",
              "    <tr>\n",
              "      <th>Product Description</th>\n",
              "      <td>2054</td>\n",
              "    </tr>\n",
              "    <tr>\n",
              "      <th>Launch Type</th>\n",
              "      <td>5</td>\n",
              "    </tr>\n",
              "    <tr>\n",
              "      <th>Manufacturer</th>\n",
              "      <td>480</td>\n",
              "    </tr>\n",
              "    <tr>\n",
              "      <th>Location of Manufacture</th>\n",
              "      <td>24</td>\n",
              "    </tr>\n",
              "    <tr>\n",
              "      <th>Manufacturer Company Address</th>\n",
              "      <td>343</td>\n",
              "    </tr>\n",
              "    <tr>\n",
              "      <th>Ingredients (Standard form)</th>\n",
              "      <td>2016</td>\n",
              "    </tr>\n",
              "    <tr>\n",
              "      <th>Price in local currency</th>\n",
              "      <td>686</td>\n",
              "    </tr>\n",
              "    <tr>\n",
              "      <th>Primary Image Link</th>\n",
              "      <td>1697</td>\n",
              "    </tr>\n",
              "    <tr>\n",
              "      <th>Pet</th>\n",
              "      <td>0</td>\n",
              "    </tr>\n",
              "    <tr>\n",
              "      <th>Convenience</th>\n",
              "      <td>20</td>\n",
              "    </tr>\n",
              "    <tr>\n",
              "      <th>Minus</th>\n",
              "      <td>0</td>\n",
              "    </tr>\n",
              "    <tr>\n",
              "      <th>Functional</th>\n",
              "      <td>85</td>\n",
              "    </tr>\n",
              "    <tr>\n",
              "      <th>Natural</th>\n",
              "      <td>25</td>\n",
              "    </tr>\n",
              "    <tr>\n",
              "      <th>Plus</th>\n",
              "      <td>2</td>\n",
              "    </tr>\n",
              "    <tr>\n",
              "      <th>Positioning</th>\n",
              "      <td>15</td>\n",
              "    </tr>\n",
              "    <tr>\n",
              "      <th>Suitable for</th>\n",
              "      <td>7</td>\n",
              "    </tr>\n",
              "    <tr>\n",
              "      <th>Demographic</th>\n",
              "      <td>8</td>\n",
              "    </tr>\n",
              "    <tr>\n",
              "      <th>Free from</th>\n",
              "      <td>52</td>\n",
              "    </tr>\n",
              "    <tr>\n",
              "      <th>Beauty enhancing</th>\n",
              "      <td>120</td>\n",
              "    </tr>\n",
              "    <tr>\n",
              "      <th>Ethical &amp; environmental</th>\n",
              "      <td>68</td>\n",
              "    </tr>\n",
              "    <tr>\n",
              "      <th>Product tested</th>\n",
              "      <td>25</td>\n",
              "    </tr>\n",
              "  </tbody>\n",
              "</table>\n",
              "</div><br><label><b>dtype:</b> int64</label>"
            ]
          },
          "metadata": {},
          "execution_count": 65
        }
      ],
      "source": [
        "#Carrega o banco de dados como tabela\n",
        "data = '/content/'+filename\n",
        "df_launches = pd.read_excel(data)\n",
        "pd.options.display.max_columns = None\n",
        "df_launches.nunique()"
      ]
    },
    {
      "cell_type": "markdown",
      "metadata": {
        "id": "fhw11yYVTbwX"
      },
      "source": [
        "##Upload INCI"
      ]
    },
    {
      "cell_type": "code",
      "execution_count": 66,
      "metadata": {
        "colab": {
          "base_uri": "https://localhost:8080/",
          "height": 178
        },
        "id": "PGa0p525T_xG",
        "outputId": "174778e1-33b7-4f9b-c71c-f249afc6073a"
      },
      "outputs": [
        {
          "output_type": "execute_result",
          "data": {
            "text/plain": [
              "Produto        50\n",
              "Ingrediente    49\n",
              "Prioridade      3\n",
              "dtype: int64"
            ],
            "text/html": [
              "<div>\n",
              "<style scoped>\n",
              "    .dataframe tbody tr th:only-of-type {\n",
              "        vertical-align: middle;\n",
              "    }\n",
              "\n",
              "    .dataframe tbody tr th {\n",
              "        vertical-align: top;\n",
              "    }\n",
              "\n",
              "    .dataframe thead th {\n",
              "        text-align: right;\n",
              "    }\n",
              "</style>\n",
              "<table border=\"1\" class=\"dataframe\">\n",
              "  <thead>\n",
              "    <tr style=\"text-align: right;\">\n",
              "      <th></th>\n",
              "      <th>0</th>\n",
              "    </tr>\n",
              "  </thead>\n",
              "  <tbody>\n",
              "    <tr>\n",
              "      <th>Produto</th>\n",
              "      <td>50</td>\n",
              "    </tr>\n",
              "    <tr>\n",
              "      <th>Ingrediente</th>\n",
              "      <td>49</td>\n",
              "    </tr>\n",
              "    <tr>\n",
              "      <th>Prioridade</th>\n",
              "      <td>3</td>\n",
              "    </tr>\n",
              "  </tbody>\n",
              "</table>\n",
              "</div><br><label><b>dtype:</b> int64</label>"
            ]
          },
          "metadata": {},
          "execution_count": 66
        }
      ],
      "source": [
        "data = '/content/'+filename2\n",
        "df_inci = pd.read_excel(data)\n",
        "pd.options.display.max_columns=None\n",
        "df_inci.nunique()"
      ]
    },
    {
      "cell_type": "markdown",
      "metadata": {
        "id": "jZgbxW5f0sVT"
      },
      "source": [
        "##Upload Projetos"
      ]
    },
    {
      "cell_type": "code",
      "execution_count": 67,
      "metadata": {
        "colab": {
          "base_uri": "https://localhost:8080/",
          "height": 272
        },
        "id": "bhMAxqun0sVU",
        "outputId": "39df0cdf-5c5d-4211-c267-4a52d6637b32"
      },
      "outputs": [
        {
          "output_type": "execute_result",
          "data": {
            "text/plain": [
              "Distributor       4\n",
              "Customer        812\n",
              "UF               19\n",
              "Material        183\n",
              "Inicio         1297\n",
              "Status           17\n",
              "dtype: int64"
            ],
            "text/html": [
              "<div>\n",
              "<style scoped>\n",
              "    .dataframe tbody tr th:only-of-type {\n",
              "        vertical-align: middle;\n",
              "    }\n",
              "\n",
              "    .dataframe tbody tr th {\n",
              "        vertical-align: top;\n",
              "    }\n",
              "\n",
              "    .dataframe thead th {\n",
              "        text-align: right;\n",
              "    }\n",
              "</style>\n",
              "<table border=\"1\" class=\"dataframe\">\n",
              "  <thead>\n",
              "    <tr style=\"text-align: right;\">\n",
              "      <th></th>\n",
              "      <th>0</th>\n",
              "    </tr>\n",
              "  </thead>\n",
              "  <tbody>\n",
              "    <tr>\n",
              "      <th>Distributor</th>\n",
              "      <td>4</td>\n",
              "    </tr>\n",
              "    <tr>\n",
              "      <th>Customer</th>\n",
              "      <td>812</td>\n",
              "    </tr>\n",
              "    <tr>\n",
              "      <th>UF</th>\n",
              "      <td>19</td>\n",
              "    </tr>\n",
              "    <tr>\n",
              "      <th>Material</th>\n",
              "      <td>183</td>\n",
              "    </tr>\n",
              "    <tr>\n",
              "      <th>Inicio</th>\n",
              "      <td>1297</td>\n",
              "    </tr>\n",
              "    <tr>\n",
              "      <th>Status</th>\n",
              "      <td>17</td>\n",
              "    </tr>\n",
              "  </tbody>\n",
              "</table>\n",
              "</div><br><label><b>dtype:</b> int64</label>"
            ]
          },
          "metadata": {},
          "execution_count": 67
        }
      ],
      "source": [
        "data = '/content/'+filename3\n",
        "df_proj = pd.read_excel(data)\n",
        "pd.options.display.max_columns=None\n",
        "df_proj.nunique()"
      ]
    },
    {
      "cell_type": "markdown",
      "metadata": {
        "id": "a5ppBsEI7sqB"
      },
      "source": [
        "## Upload Vendas"
      ]
    },
    {
      "cell_type": "code",
      "execution_count": 68,
      "metadata": {
        "colab": {
          "base_uri": "https://localhost:8080/",
          "height": 241
        },
        "id": "X05326R47xvH",
        "outputId": "1ab312e1-b635-4c63-9ce7-5f96acc42751"
      },
      "outputs": [
        {
          "output_type": "execute_result",
          "data": {
            "text/plain": [
              "Customer(at distrib)    811\n",
              "Year                      1\n",
              "Distributor               4\n",
              "Material                156\n",
              "Volume                  273\n",
              "dtype: int64"
            ],
            "text/html": [
              "<div>\n",
              "<style scoped>\n",
              "    .dataframe tbody tr th:only-of-type {\n",
              "        vertical-align: middle;\n",
              "    }\n",
              "\n",
              "    .dataframe tbody tr th {\n",
              "        vertical-align: top;\n",
              "    }\n",
              "\n",
              "    .dataframe thead th {\n",
              "        text-align: right;\n",
              "    }\n",
              "</style>\n",
              "<table border=\"1\" class=\"dataframe\">\n",
              "  <thead>\n",
              "    <tr style=\"text-align: right;\">\n",
              "      <th></th>\n",
              "      <th>0</th>\n",
              "    </tr>\n",
              "  </thead>\n",
              "  <tbody>\n",
              "    <tr>\n",
              "      <th>Customer(at distrib)</th>\n",
              "      <td>811</td>\n",
              "    </tr>\n",
              "    <tr>\n",
              "      <th>Year</th>\n",
              "      <td>1</td>\n",
              "    </tr>\n",
              "    <tr>\n",
              "      <th>Distributor</th>\n",
              "      <td>4</td>\n",
              "    </tr>\n",
              "    <tr>\n",
              "      <th>Material</th>\n",
              "      <td>156</td>\n",
              "    </tr>\n",
              "    <tr>\n",
              "      <th>Volume</th>\n",
              "      <td>273</td>\n",
              "    </tr>\n",
              "  </tbody>\n",
              "</table>\n",
              "</div><br><label><b>dtype:</b> int64</label>"
            ]
          },
          "metadata": {},
          "execution_count": 68
        }
      ],
      "source": [
        "data = '/content/'+filename4\n",
        "df_sale = pd.read_excel(data)\n",
        "pd.options.display.max_columns=None\n",
        "df_sale.nunique()"
      ]
    },
    {
      "cell_type": "markdown",
      "metadata": {
        "id": "1gVy5d2g7Mix"
      },
      "source": [
        "# Define funções"
      ]
    },
    {
      "cell_type": "markdown",
      "source": [
        "## Procura INCI"
      ],
      "metadata": {
        "id": "5QW2e4-0Hn66"
      }
    },
    {
      "cell_type": "code",
      "execution_count": 69,
      "metadata": {
        "id": "1B00Mjh2rDOD"
      },
      "outputs": [],
      "source": [
        "#this checks if any combination of INCI as present in Ingredient\n",
        "def verifica_ingrediente(formula,produto,material):\n",
        "  quantidade = len(produto.difference(formula))\n",
        "  if quantidade == 0:\n",
        "    return material\n",
        "  return None"
      ]
    },
    {
      "cell_type": "code",
      "execution_count": 70,
      "metadata": {
        "id": "9Cptl2ShP1Jm"
      },
      "outputs": [],
      "source": [
        "#If last code is true, this returns the material name\n",
        "def procura_produtos(formula, produtos, materiais):\n",
        "  formula = formula.copy()\n",
        "  resultados = []\n",
        "  for prod, mat in zip(produtos, materiais):\n",
        "    resultado = verifica_ingrediente(formula, prod, mat)\n",
        "    if resultado is not None:\n",
        "      formula = formula.difference(prod) ## Para remover os ingredientes já encontrados numa nova busca.\n",
        "      resultados.append(resultado)\n",
        "  return resultados"
      ]
    },
    {
      "cell_type": "markdown",
      "source": [
        "## Transpoe coluna"
      ],
      "metadata": {
        "id": "77cNfXNAHu9p"
      }
    },
    {
      "cell_type": "code",
      "source": [
        "#this code transpose data. Used when we bring each category and the number of lauches.\n",
        "def transpor (df, coluna, linha):\n",
        "  for cat in df[coluna].unique():\n",
        "    f = df[coluna] == cat\n",
        "    df[cat] = df[f][linha]\n",
        "    f = df[cat].isna()\n",
        "    df.loc[f, cat] = df.loc[f, cat].apply(lambda x:[])"
      ],
      "metadata": {
        "id": "ahIPs7pxzSBy"
      },
      "execution_count": 71,
      "outputs": []
    },
    {
      "cell_type": "code",
      "source": [
        "def to_set(x):\n",
        "  try:\n",
        "    if isinstance(x, pd.DataFrame):\n",
        "        return x.apply(to_set)\n",
        "    else:\n",
        "        return set(x.sum())\n",
        "  except:\n",
        "        pass"
      ],
      "metadata": {
        "id": "PN0NChjQMbsC"
      },
      "execution_count": 72,
      "outputs": []
    },
    {
      "cell_type": "code",
      "source": [
        "def transpor_2 (df, coluna, linha):\n",
        "  for cat in df[coluna].unique():\n",
        "    f = df[coluna] == cat\n",
        "    df[cat] = df[f][linha]\n",
        "    f = df[cat].isna()\n",
        "    df.loc[f, cat] = df.loc[f, cat].apply(lambda x:x)"
      ],
      "metadata": {
        "id": "qJadbeSHqyZ5"
      },
      "execution_count": 73,
      "outputs": []
    },
    {
      "cell_type": "markdown",
      "source": [
        "## Remove palavras do dicionário, visando reduzir campo a indice comum"
      ],
      "metadata": {
        "id": "qBMesBvsHyMS"
      }
    },
    {
      "cell_type": "markdown",
      "source": [
        "###Fabricante"
      ],
      "metadata": {
        "id": "yZ2QMtabaRWc"
      }
    },
    {
      "cell_type": "code",
      "execution_count": 74,
      "metadata": {
        "id": "J87L26YK7FmA"
      },
      "outputs": [],
      "source": [
        "#Usado para Fabricantes / Distribuidor\n",
        "def formatar_fabricantes(coluna):\n",
        "  remover = [\n",
        "             'de castro', 'do brasil', 'brasil',\n",
        "             'fabrica', 'fabricacao', 'manuf', 'tercerizacao', 'manufacturing',\n",
        "             'farmacia', 'farmacias', 'farmaceuticos', 'drogaria','drogarias', 'farm',\n",
        "             'cosmetico', 'cometico','cosmeticos', 'cometicos', 'cosmetics', 'cosmetic',\n",
        "             'cosmiatria', 'cosmetica', 'cosmeticas', 'cosm', 'cosme', 'kosmetics', 'cosmet', 'cosmesticos',\n",
        "             'ltda','epp', 'eireli', 'me', 'eirell', 'sa', 'eir', 'ltd',\n",
        "             'indústria','industria', 'industrias', 'industrial', 'indutrial', 'ind', 'industriae',\n",
        "             'comercio', 'comecio', 'comercial', 'corporation', 'com', 'de ae',\n",
        "             'imp', 'exp',  'prod', 'exportacao','importacao','importadora', 'import',\n",
        "             'do', 'e', 'para', 'de', 'le', 'la',\n",
        "             'aerossois', 'aerosol', 'aerossol', 'tecnologia', 'profissional',\n",
        "             'laboratorio','laboratorios', 'laboratories', 'laboratoire', 'instituto', 'group',\n",
        "             'pesquisa', 'desenvolvimento', 'naturais', 'professional', 'aromatizantes',\n",
        "             'produtos', 'Produto', 'saneantes', 'quimica', 'quimicos', 'quimico', 'farmaceutica', 'veterinário',\n",
        "             'higiene','pessoal', 'limpeza', 'botanico', 'beauty',\n",
        "             'perfumes','fragrancias', 'perfumaria', 'medicamentos', 'perf',\n",
        "             'distribuidora', 'dist', 'amostras', 'faturamento',\n",
        "             'international', 'internacional', 'sulamericana', 'nacional',\n",
        "             'nbsp;', 'veer','serv', 'vajerista', 'amaral', 'jbs', 'nova',  'bioage',\n",
        "           ]\n",
        "  pat = '\\\\b({})\\\\b'.format('|'.join(remover))\n",
        "  coluna = (\n",
        "    coluna\n",
        "    .apply(unidecode)\n",
        "    .str.lower()\n",
        "    .replace(\"\\(.*?\\)\",'',regex=True)\n",
        "    .replace('\\.', '',regex=True)\n",
        "    .replace('\\/', '',regex=True)\n",
        "    .replace('\\-', '',regex=True)\n",
        "    .replace(pat,'',regex=True)\n",
        "    .replace(',', '',regex=True)\n",
        "    .replace('\\s+','',regex=True) #Tirar numeros\n",
        "    .str.strip()\n",
        "  )\n",
        "  return coluna"
      ]
    },
    {
      "cell_type": "markdown",
      "source": [
        "###Material"
      ],
      "metadata": {
        "id": "2eyWFa43aT5z"
      }
    },
    {
      "cell_type": "code",
      "execution_count": 75,
      "metadata": {
        "id": "BgL0yfK7QP0d"
      },
      "outputs": [],
      "source": [
        "#Dis dict clean the name of material\n",
        "def formatar_material(coluna):\n",
        "  remover = ['BELSIL®', 'BELSIL', 'BELSIM',\n",
        "             'DRUM', 'ST', 'PE', 'CANISTER', 'RD', 'CARTON', 'IBC PE', '2', 'WOPAL',\n",
        "             'SBPAL', 'STPAL', 'HOBBOCK', 'SACK', 'BOTTLE',\n",
        "             '0,45KG','10KG','15KG','25KG', '30G', '50G', '60G', '100KG', '140KG', '150KG', '160KG',\n",
        "             '180KG', '190KG', '200KG', '210KG', '900KG', '950KG', '190', '20KG',\n",
        "             'KG', 'AMOSTRA', 'PA', 'XY', 'CP', 'SILICONE ELASTOMER GEL',\n",
        "             'BR', 'DE', ' E', 'BLOCKED',\n",
        "             'EMB. 0,100 KG', 'Ver  Pf 100', 'USP',\n",
        "           ]\n",
        "  pat = '\\\\b({})\\\\b'.format('|'.join(remover))\n",
        "  coluna = (\n",
        "    coluna\n",
        "    .replace(pat,'',regex=True)\n",
        "    .replace('\\#','', regex=True)\n",
        "    .replace('\\\"','', regex=True)\n",
        "    .str.replace('\\/', '',regex=True)\n",
        "    .str.replace('\\-', '',regex=True)\n",
        "    .str.replace('\\*', '',regex=True)\n",
        "    .str.title()\n",
        "    .str.strip()\n",
        "  )\n",
        "  return coluna"
      ]
    },
    {
      "cell_type": "markdown",
      "source": [
        "# Dicionários"
      ],
      "metadata": {
        "id": "SbfzL_q1vqHR"
      }
    },
    {
      "cell_type": "markdown",
      "source": [
        "## Status"
      ],
      "metadata": {
        "id": "OfFUIQPmv2ma"
      }
    },
    {
      "cell_type": "code",
      "source": [
        "dict_status = {'aprovado':'Won', 'closed won': 'Won',\n",
        "             'cancelado': 'Closed', 'concluido':'Closed', 'stand by':'Closed', 'finalizado':'Closed',\n",
        "             'closed lost': 'Lost', 'cancelado/reprovado':'Lost', 'reprovado':'Lost',\n",
        "             'em andamento': 'Active', 'teste':'Active', 'em teste':'Active',\n",
        "             'prospecting':'Active', 'qualification':'Active',\n",
        "           }"
      ],
      "metadata": {
        "id": "OhWmK7yqacKz"
      },
      "execution_count": 76,
      "outputs": []
    },
    {
      "cell_type": "markdown",
      "source": [
        "## Estados"
      ],
      "metadata": {
        "id": "5gDkfYBBv4tt"
      }
    },
    {
      "cell_type": "code",
      "execution_count": 77,
      "metadata": {
        "id": "wEeDnbW8Ga3j"
      },
      "outputs": [],
      "source": [
        "dict = {'AC':'AC', 'AL':'AL', 'AM':'AM', 'AP':'AP', 'BA':'BA', 'CE':'CE', 'DF':'DF', 'ES':'ES', 'GO':'GO', 'MA':'MA',\n",
        "     'MG':'MG', 'MS':'MS', 'MT':'MT', 'PA':'PA', 'PB':'PB', 'PE':'PE', 'PI':'PI', 'PR':'PR', 'RJ':'RJ', 'RN':'RN',\n",
        "     'RO':'RO', 'RR':'RR', 'RS':'RS', 'SC':'SC', 'SE':'SE', 'SP':'SP', 'TO':'TO', 'Sao Paulo':'SP', 'São Paulo':'SP',\n",
        "     'Sao Paolo':'SP','Osasco': 'SP', 'Mogi das Cruzes': 'SP', 'Cotia':'SP', 'Diadema':'SP', 'São Roque':'SP',\n",
        "     'São Sebastião':'SP', 'Lins':'SP', 'Cajamar':'SP', 'Pirassununga':'SP', 'Paulista': 'SP', 'São Paolo':'SP',\n",
        "     'Elisario':'SP', 'Valinhos':'SP', 'Piracaia':'SP', 'São José do Rio Preto':'SP', 'Sao José do Rio Preto':'SP',\n",
        "     'São José dos Campos':'SP',      'Araras':'SP', 'São Bernardo do Campo':'SP', 'São José dos Campos':'SP',\n",
        "     'Sao Caetano do Sul':'SP', 'São José do Rio Preto':'SP', 'Brodowski':'SP', 'Cajuru':'SP', 'Itaquaquecetuba':'SP',\n",
        "     'Itupeva':'SP', 'SO':'SP', 'Mairiporã':'SP', 'Itaquera':'SP', 'Franco da Rocha':'SP', 'Guarulhos':'SP',\n",
        "     'Bairro Jardim America':'SP', 'Jardim Brazil':'SP', 'Agudos':'SP', 'Itapira':'SP', 'Rib. Preto':'SP', 'Vinhedo':'SP',\n",
        "     'Lorena':'SP', 'Caieiras': 'SP', 'Louveira':'SP', 'Taboao da Serra':'SP', 'Hortôlandia':'SP', 'Americana':'SP',\n",
        "     'Macatuba':'SP', 'Boituva':'SP', 'Jandira':'SP', 'Bom Jesus':'SP', 'Atibaia':'SP',\n",
        "     'Ribeirão Preto':'SP', 'Cabreúva': 'SP', 'Presidente Prudente':'SP', 'Jurubatuba':'SP',\n",
        "     'Jaú':'SP',\n",
        "     'Rio de Janeiro':'RJ', 'Rio De Janeiro':'RJ', 'Nova Iguaçu': 'RJ', 'Nova Iguacu': 'RJ', 'Nivopolis':'RJ',\n",
        "     'Duque de Caixas':'RJ', 'Engenheiro Pedreira':'RJ', 'Areal':'RJ', 'Duque de Caxias':'RJ',\n",
        "     'Vila Velha':'ES', 'Marechal Floriano':'ES', 'Cariacica':'ES', 'Bom Pastor':'ES',\n",
        "     'Belo Horizonte':'MG', 'Minas Gerais':'MG', 'Pocos de Caldas':'MG', 'Viçosa':'MG', 'Vicosa':'MG',\n",
        "     'Pouso Alegre': 'MG', 'Uberlândia':'MG', 'Uberlandia':'MG', 'Ipatinga':'MG', 'Mirabela':'MG','Nova Lima':'MG',\n",
        "     'São José da Lapa':'MG', 'Sao José da Lapa':'MG', 'Sao Jose da Lapa':'MG', 'Divinópolis':'MG',\n",
        "     'Tres Pontas':'MG', 'Castelo BH':'MG', 'Varginha':'MG', 'Elói Mendes':'MG', 'Sete Lagoas':'MG',\n",
        "     'Lagoa Santa':'MG',\n",
        "     'Porto Alegre':'RS', 'Estância Velha': 'RS', 'Caxias do Sul':'RS', 'Passo Fundo':'RS', 'Gravatai':'RS',\n",
        "     'Panambi':'RS', 'Gramado':'RS', 'Roca Sales':'RS',\n",
        "     'Santa Catarina':'SC', 'Joinville':'SC','Camboriu':'SC', 'Maluche':'SC', 'Araquari':'SC', 'Criciúma': 'SC',\n",
        "     'Criciuma': 'SC', 'Chapecó':'SC', 'Três Barras': 'SC', 'Palhoça':'SC', 'Palhoca':'SC',\n",
        "     'Colombo':'PR', 'Paraná':'PR', 'Curitiba':'PR', 'Sao José dos Pinhais':'PR','BR 116 Km 85':'PR',\n",
        "     'Cambé':'PR', 'Fazenda Rio Grande':'PR', 'Mandaguaçu':'PR', 'Pinhais':'PR',\n",
        "     'Goiana':'GO', 'Goiânia':'GO', 'Anápolis':'GO', 'Anapolis':'GO', 'Go':'GO', 'Itapuranga': 'GO',\n",
        "     'Guapó':'GO', 'Itajaí':'GO',\n",
        "     'Brasília': 'DF', 'Brasilia': 'DF',\n",
        "     'Rondônia':'RO','Novo Hamburgo':'RO','Manaus':'AM', 'Pará':'PA',\n",
        "     'Bahia':'BA', 'Lauro de Freites': 'BA', 'Lauro de Freitas': 'BA', 'Av. Queira Deus':'BA',\n",
        "     'Vila Cia Sul':'BA', 'Juazeiro':'BA',\n",
        "     'Recife':'PE', 'Camaragibe': 'PE', 'Abreu e Lima':'PE', 'Fortaleza':'CE', 'Ceará':'CE', 'Caucaia':'CE',\n",
        "     'Aracaju': 'SE', 'Nossa Sra. do Socorro':'SE',\n",
        "     }"
      ]
    },
    {
      "cell_type": "markdown",
      "source": [
        "## Clientes"
      ],
      "metadata": {
        "id": "spfVpvQuwHuT"
      }
    },
    {
      "cell_type": "code",
      "source": [
        "dictCustomer  = {'haskell':'gram', 'amendbemestar':'bemestar', 'belezanatural':'cor', 'cedralinoar':'cedral', 'novacedral(dvr)inoar':'cedral'}"
      ],
      "metadata": {
        "id": "GU8IgsBfwJvN"
      },
      "execution_count": 78,
      "outputs": []
    },
    {
      "cell_type": "markdown",
      "metadata": {
        "id": "WkJ3duNN6K0g"
      },
      "source": [
        "# Relatório de Vendas"
      ]
    },
    {
      "cell_type": "code",
      "execution_count": 79,
      "metadata": {
        "id": "PJ4XnBjd8x0t"
      },
      "outputs": [],
      "source": [
        "# remove textos desnecessários em Material\n",
        "df_sale['Material']= formatar_material(df_sale['Material'])\n",
        "df_sale['Material'] = df_sale['Material'].astype(str)"
      ]
    },
    {
      "cell_type": "code",
      "execution_count": 80,
      "metadata": {
        "id": "YyeRjtvJgIIx"
      },
      "outputs": [],
      "source": [
        "#Cria um indice para a coluna Fabricante\n",
        "df_sale['KeyManuf'] = formatar_fabricantes(df_sale['Customer(at distrib)'])\n",
        "df_sale['Distributor'] = formatar_fabricantes(df_sale['Distributor'])"
      ]
    },
    {
      "cell_type": "code",
      "source": [
        "for key in dictCustomer.keys():\n",
        "    df_sale['KeyManuf'] = df_sale['KeyManuf'].replace(key, dictCustomer[key])"
      ],
      "metadata": {
        "id": "OZQmrA-R1Nit"
      },
      "execution_count": 81,
      "outputs": []
    },
    {
      "cell_type": "code",
      "execution_count": 82,
      "metadata": {
        "id": "Iu0a-l3hLHKE"
      },
      "outputs": [],
      "source": [
        "#agrupo os produtos em uma lista, por cliente\n",
        "df_sale_unic = df_sale.groupby(['KeyManuf','Distributor']).agg({'Material':lambda x:list(set(x))}).reset_index()"
      ]
    },
    {
      "cell_type": "code",
      "execution_count": 83,
      "metadata": {
        "id": "uc1E9IoecmcM"
      },
      "outputs": [],
      "source": [
        "#tranforma lista acima em objeto iterável, e renomeia coluna\n",
        "df_sale_unic['Material'] = df_sale_unic['Material'].apply(set)\n",
        "df_sale_unic.rename(columns={'Material': 'Sales'}, inplace=True)"
      ]
    },
    {
      "cell_type": "code",
      "source": [
        "#remove duplicadas\n",
        "df_sale_unic.drop_duplicates(subset=['KeyManuf', 'Distributor'], keep='first', inplace=True)"
      ],
      "metadata": {
        "id": "30Y-3UBjwpED"
      },
      "execution_count": 84,
      "outputs": []
    },
    {
      "cell_type": "markdown",
      "metadata": {
        "id": "W_FXVv4o_a3U"
      },
      "source": [
        "# Relatório Projetos"
      ]
    },
    {
      "cell_type": "code",
      "execution_count": 85,
      "metadata": {
        "id": "EVINAc6__a3W"
      },
      "outputs": [],
      "source": [
        "# Reduz as colunas Fabricantes, Material e Distribuidor, a indice\n",
        "df_proj['Material']= formatar_material(df_proj['Material'])\n",
        "df_proj['Distributor'] = formatar_fabricantes(df_proj['Distributor'])\n",
        "df_proj['KeyManuf'] = formatar_fabricantes(df_proj['Customer'])\n",
        "df_proj['Customer'] = df_proj['Customer'].astype(str)\n",
        "df_proj['Status'] = df_proj['Status'].astype(str)"
      ]
    },
    {
      "cell_type": "code",
      "source": [
        "df_proj['Status'] = df_proj['Status'].str.lower().map(dict_status)\n",
        "#Exibe a quantidade de casos únicos\n",
        "df_proj['Status'].value_counts(dropna=False)"
      ],
      "metadata": {
        "id": "a-cwt7B3bYW1",
        "outputId": "fa1c9a54-459d-4d37-806d-01d9fe7bb5a9",
        "colab": {
          "base_uri": "https://localhost:8080/",
          "height": 241
        }
      },
      "execution_count": 86,
      "outputs": [
        {
          "output_type": "execute_result",
          "data": {
            "text/plain": [
              "Status\n",
              "Active    2664\n",
              "Won        512\n",
              "Lost        87\n",
              "Closed      42\n",
              "Name: count, dtype: int64"
            ],
            "text/html": [
              "<div>\n",
              "<style scoped>\n",
              "    .dataframe tbody tr th:only-of-type {\n",
              "        vertical-align: middle;\n",
              "    }\n",
              "\n",
              "    .dataframe tbody tr th {\n",
              "        vertical-align: top;\n",
              "    }\n",
              "\n",
              "    .dataframe thead th {\n",
              "        text-align: right;\n",
              "    }\n",
              "</style>\n",
              "<table border=\"1\" class=\"dataframe\">\n",
              "  <thead>\n",
              "    <tr style=\"text-align: right;\">\n",
              "      <th></th>\n",
              "      <th>count</th>\n",
              "    </tr>\n",
              "    <tr>\n",
              "      <th>Status</th>\n",
              "      <th></th>\n",
              "    </tr>\n",
              "  </thead>\n",
              "  <tbody>\n",
              "    <tr>\n",
              "      <th>Active</th>\n",
              "      <td>2664</td>\n",
              "    </tr>\n",
              "    <tr>\n",
              "      <th>Won</th>\n",
              "      <td>512</td>\n",
              "    </tr>\n",
              "    <tr>\n",
              "      <th>Lost</th>\n",
              "      <td>87</td>\n",
              "    </tr>\n",
              "    <tr>\n",
              "      <th>Closed</th>\n",
              "      <td>42</td>\n",
              "    </tr>\n",
              "  </tbody>\n",
              "</table>\n",
              "</div><br><label><b>dtype:</b> int64</label>"
            ]
          },
          "metadata": {},
          "execution_count": 86
        }
      ]
    },
    {
      "cell_type": "code",
      "source": [
        "for key in dictCustomer.keys():\n",
        "    df_proj['KeyManuf'] = df_proj['KeyManuf'].replace(key, dictCustomer[key])"
      ],
      "metadata": {
        "id": "lKD2a1EdvkT6"
      },
      "execution_count": 87,
      "outputs": []
    },
    {
      "cell_type": "code",
      "execution_count": 88,
      "metadata": {
        "id": "XyRak-ppIKtG"
      },
      "outputs": [],
      "source": [
        "#agrupo todos os produtos em projeto em uma lista, por cliente\n",
        "df_proj_a = df_proj.groupby(['KeyManuf','Distributor','Status']).agg({'Material':lambda x:list(set(x))}).reset_index()"
      ]
    },
    {
      "cell_type": "code",
      "source": [
        "transpor(df_proj_a, 'Status', 'Material')"
      ],
      "metadata": {
        "id": "TRJplqzijP1-"
      },
      "execution_count": 89,
      "outputs": []
    },
    {
      "cell_type": "code",
      "source": [
        "df_proj_unic = df_proj_a.groupby(['KeyManuf', 'Distributor'])[['Active', 'Won', 'Closed', 'Lost']].apply(to_set)"
      ],
      "metadata": {
        "id": "iclCwbDYprSW"
      },
      "execution_count": 90,
      "outputs": []
    },
    {
      "cell_type": "markdown",
      "source": [
        "# Agrupar Vendas Projetos"
      ],
      "metadata": {
        "id": "YMJh6C7A8tOy"
      }
    },
    {
      "cell_type": "code",
      "source": [
        "#Baseado no relatório de Projetos, verifica se ocorreram vendas\n",
        "df_proj_vend = df_proj_unic.merge(df_sale_unic, on=['KeyManuf', 'Distributor'], how='left')"
      ],
      "metadata": {
        "id": "QqvtL3sq8tOz"
      },
      "execution_count": 91,
      "outputs": []
    },
    {
      "cell_type": "code",
      "source": [
        "#Baseado no relatório de vendas, verifica-se se ocorreram projetos.\n",
        "df_vend_proj = df_sale_unic.merge(df_proj_unic, on=['KeyManuf', 'Distributor'], how='left')"
      ],
      "metadata": {
        "id": "aeTjNpXpC6hQ"
      },
      "execution_count": 92,
      "outputs": []
    },
    {
      "cell_type": "code",
      "source": [
        "#Agrupa relatórios acima. O primeiro incluirá clientes com projetos, mas sem vendas. O segundo incluirá clientes com vendas, mas sem projetos.\n",
        "df_vend_proj_cons = pd.concat([df_proj_vend, df_vend_proj])\n",
        "df_vend_proj_cons.drop_duplicates(subset=['KeyManuf', 'Distributor'], keep='first', inplace=True)\n",
        "df_vend_proj_cons.to_excel('Vendas e Projetos.xlsx')"
      ],
      "metadata": {
        "id": "gMry8Wgf_140"
      },
      "execution_count": 93,
      "outputs": []
    },
    {
      "cell_type": "markdown",
      "source": [
        "# Mintel"
      ],
      "metadata": {
        "id": "KSZxw3EnVkEu"
      }
    },
    {
      "cell_type": "markdown",
      "metadata": {
        "id": "3VeM_1iAD1B8"
      },
      "source": [
        "## Define Estados\n"
      ]
    },
    {
      "cell_type": "code",
      "execution_count": 94,
      "metadata": {
        "colab": {
          "base_uri": "https://localhost:8080/",
          "height": 648
        },
        "id": "5ZsFzJGhTJyK",
        "outputId": "956b320e-4bac-4d35-e056-37ca3646cc35"
      },
      "outputs": [
        {
          "output_type": "execute_result",
          "data": {
            "text/plain": [
              "State\n",
              "SP     960\n",
              "NaN    458\n",
              "MG     127\n",
              "RJ     116\n",
              "PR      83\n",
              "GO      81\n",
              "RS      71\n",
              "SC      49\n",
              "CE      22\n",
              "BA      22\n",
              "ES      20\n",
              "SE      14\n",
              "PE      12\n",
              "DF      11\n",
              "RO       6\n",
              "AM       2\n",
              "PA       1\n",
              "Name: count, dtype: int64"
            ],
            "text/html": [
              "<div>\n",
              "<style scoped>\n",
              "    .dataframe tbody tr th:only-of-type {\n",
              "        vertical-align: middle;\n",
              "    }\n",
              "\n",
              "    .dataframe tbody tr th {\n",
              "        vertical-align: top;\n",
              "    }\n",
              "\n",
              "    .dataframe thead th {\n",
              "        text-align: right;\n",
              "    }\n",
              "</style>\n",
              "<table border=\"1\" class=\"dataframe\">\n",
              "  <thead>\n",
              "    <tr style=\"text-align: right;\">\n",
              "      <th></th>\n",
              "      <th>count</th>\n",
              "    </tr>\n",
              "    <tr>\n",
              "      <th>State</th>\n",
              "      <th></th>\n",
              "    </tr>\n",
              "  </thead>\n",
              "  <tbody>\n",
              "    <tr>\n",
              "      <th>SP</th>\n",
              "      <td>960</td>\n",
              "    </tr>\n",
              "    <tr>\n",
              "      <th>NaN</th>\n",
              "      <td>458</td>\n",
              "    </tr>\n",
              "    <tr>\n",
              "      <th>MG</th>\n",
              "      <td>127</td>\n",
              "    </tr>\n",
              "    <tr>\n",
              "      <th>RJ</th>\n",
              "      <td>116</td>\n",
              "    </tr>\n",
              "    <tr>\n",
              "      <th>PR</th>\n",
              "      <td>83</td>\n",
              "    </tr>\n",
              "    <tr>\n",
              "      <th>GO</th>\n",
              "      <td>81</td>\n",
              "    </tr>\n",
              "    <tr>\n",
              "      <th>RS</th>\n",
              "      <td>71</td>\n",
              "    </tr>\n",
              "    <tr>\n",
              "      <th>SC</th>\n",
              "      <td>49</td>\n",
              "    </tr>\n",
              "    <tr>\n",
              "      <th>CE</th>\n",
              "      <td>22</td>\n",
              "    </tr>\n",
              "    <tr>\n",
              "      <th>BA</th>\n",
              "      <td>22</td>\n",
              "    </tr>\n",
              "    <tr>\n",
              "      <th>ES</th>\n",
              "      <td>20</td>\n",
              "    </tr>\n",
              "    <tr>\n",
              "      <th>SE</th>\n",
              "      <td>14</td>\n",
              "    </tr>\n",
              "    <tr>\n",
              "      <th>PE</th>\n",
              "      <td>12</td>\n",
              "    </tr>\n",
              "    <tr>\n",
              "      <th>DF</th>\n",
              "      <td>11</td>\n",
              "    </tr>\n",
              "    <tr>\n",
              "      <th>RO</th>\n",
              "      <td>6</td>\n",
              "    </tr>\n",
              "    <tr>\n",
              "      <th>AM</th>\n",
              "      <td>2</td>\n",
              "    </tr>\n",
              "    <tr>\n",
              "      <th>PA</th>\n",
              "      <td>1</td>\n",
              "    </tr>\n",
              "  </tbody>\n",
              "</table>\n",
              "</div><br><label><b>dtype:</b> int64</label>"
            ]
          },
          "metadata": {},
          "execution_count": 94
        }
      ],
      "source": [
        "df_launches['State'] = df_launches['Manufacturer Company Address'].str.extract('('+'|'.join(dict)+')',expand=False).map(dict)\n",
        "#Exibe a quantidade de casos únicos\n",
        "df_launches['State'].value_counts(dropna=False)\n",
        "#Em output se filtra estados vazios"
      ]
    },
    {
      "cell_type": "markdown",
      "metadata": {
        "id": "vn35qqvE365N"
      },
      "source": [
        "## Contém Silicone?"
      ]
    },
    {
      "cell_type": "code",
      "execution_count": 95,
      "metadata": {
        "id": "NitdJrkZ4AAI"
      },
      "outputs": [],
      "source": [
        "#Dicionário Silicones geral\n",
        "dictOTHERS = {'methicone':'1', 'Dimethicone':'1','methicone Crosspolymer':'1','methiconol':'1',\n",
        "              'ylsiloxysilicate':'1', 'ylsilsesquioxane':'1', 'Disiloxane':'1', 'Silica':'1','siloxane':'1'}"
      ]
    },
    {
      "cell_type": "code",
      "execution_count": 96,
      "metadata": {
        "id": "wndnsH7K4Ei-"
      },
      "outputs": [],
      "source": [
        "df_launches['Silicone'] = df_launches['Ingredients (Standard form)'].str.extract('('+'|'.join(dictOTHERS)+')',expand=False).map(dictOTHERS)"
      ]
    },
    {
      "cell_type": "markdown",
      "source": [
        "## Claim Livre de Silicones?\n"
      ],
      "metadata": {
        "id": "JVXtBfRl6Xkc"
      }
    },
    {
      "cell_type": "code",
      "source": [
        "dictSil = {'Silicone':'1'}"
      ],
      "metadata": {
        "id": "Bni5i_oTSOnL"
      },
      "execution_count": 97,
      "outputs": []
    },
    {
      "cell_type": "code",
      "source": [
        "df_launches['Free from'] = df_launches['Free from'].str.extract('('+'|'.join(dictSil)+')',expand=False).map(dictSil)"
      ],
      "metadata": {
        "id": "6VRYGUb46W3q"
      },
      "execution_count": 98,
      "outputs": []
    },
    {
      "cell_type": "markdown",
      "metadata": {
        "id": "n5nfkYcz3wwd"
      },
      "source": [
        "## Busca Produtos com INCI listado\n",
        "\n"
      ]
    },
    {
      "cell_type": "code",
      "execution_count": 99,
      "metadata": {
        "id": "ti4plJC7iprg"
      },
      "outputs": [],
      "source": [
        "df_inci.dropna(inplace=True)\n",
        "df_inci['Produto'] = formatar_material(df_inci['Produto'])"
      ]
    },
    {
      "cell_type": "code",
      "execution_count": 100,
      "metadata": {
        "id": "c9emFW0KhhCR"
      },
      "outputs": [],
      "source": [
        "#Cria uma lista iterável dos ingredientes nos Produtos\n",
        "df_inci['Ing'] = formatar_material(df_inci['Ingrediente']).str.split(', ').apply(set)"
      ]
    },
    {
      "cell_type": "code",
      "execution_count": 101,
      "metadata": {
        "id": "MbmbbpwXON7n"
      },
      "outputs": [],
      "source": [
        "#Conta a quantidade de ingredientes\n",
        "df_inci.sort_values('Prioridade', ascending=True, inplace=True)"
      ]
    },
    {
      "cell_type": "code",
      "execution_count": 102,
      "metadata": {
        "id": "gbHWJuxUovNV"
      },
      "outputs": [],
      "source": [
        " #Dicionário de palavras a remover da coluna Ingredientes no Mintel\n",
        " dictIng={' Andor ':',',\n",
        "          ', ':',',\n",
        "          ' ,':',',\n",
        "          ' (And) ':',',\n",
        "          }"
      ]
    },
    {
      "cell_type": "code",
      "execution_count": 103,
      "metadata": {
        "id": "KBOE6Nl3jFt2"
      },
      "outputs": [],
      "source": [
        "#Cria uma lista iterável das formulas do mintel\n",
        "df_launches['Ingredients (Standard form)'] = df_launches['Ingredients (Standard form)'].astype(str)\n",
        "df_launches['Ing'] = formatar_material(df_launches['Ingredients (Standard form)']).replace(dictIng,regex=True).dropna().str.split(',').apply(set)"
      ]
    },
    {
      "cell_type": "code",
      "execution_count": 104,
      "metadata": {
        "id": "-nHUMNVCR52m"
      },
      "outputs": [],
      "source": [
        "#Aplica a função Procura Produtos\n",
        "df_launches[''] = df_launches['Ing'].apply(lambda formulacao:procura_produtos(formulacao, df_inci['Ing'], df_inci['Produto']))"
      ]
    },
    {
      "cell_type": "markdown",
      "metadata": {
        "id": "ZUcdV8gzAfYI"
      },
      "source": [
        "## Remover Clientes Diretos\n"
      ]
    },
    {
      "cell_type": "code",
      "execution_count": 105,
      "metadata": {
        "id": "OgG0Y6yYAlwX"
      },
      "outputs": [],
      "source": [
        "dictClientes = {'Devintex Cosméticos':'1', 'Devintex':'1','Procosa Produtos de Beleza':'1', 'Colgate-Palmolive':'1', 'Unilever':'1',\n",
        "                'Savoy Indústria de Cosméticos':'1', 'Beiersdorf':'1', 'Johnson & Johnson':'1',\n",
        "                'Procter & Gamble':'1','Química Amparo':'1', \"Oréal\":'1', 'Procosa':'1',\n",
        "                'Unilever Brasil Industrial':'1', 'Botica Comercial Farmacêutica':'1'}\n",
        "dictMarcas = { 'Boticário':'1', 'Siàge':'1', 'Natura ':'1', 'Avon ':'1', 'Eudora':'1',\n",
        "              'Wella':'1', 'The Body Shop':'1', 'Quem Disse,':'1', 'Salon Line':'1', 'Maybelline':'1'}\n",
        "df_launches['Clientes']= df_launches['Manufacturer'].str.extract('('+'|'.join(dictClientes)+')',expand=False).map(dictClientes)\n",
        "df_launches['Clientes2'] = df_launches['Brand'].str.extract('('+'|'.join(dictMarcas)+')',expand=False).map(dictMarcas)\n",
        "df_ = df_launches[df_launches['Clientes']=='1']\n",
        "df_ = df_[df_['Clientes2']=='1']\n",
        "df_.to_excel(\"LancClientes.xlsx\")"
      ]
    },
    {
      "cell_type": "code",
      "source": [
        "#Remove clientes  da base de tratamento\n",
        "df_launches = df_launches[df_launches['Clientes']!='1']\n",
        "df_launches = df_launches[df_launches['Clientes2']!='1']"
      ],
      "metadata": {
        "id": "lLAvvmWs8qn3"
      },
      "execution_count": 106,
      "outputs": []
    },
    {
      "cell_type": "markdown",
      "metadata": {
        "id": "7xSvsWdw_a3b"
      },
      "source": [
        "## Relatório Linha a Linha\n",
        "\n"
      ]
    },
    {
      "cell_type": "code",
      "execution_count": 107,
      "metadata": {
        "id": "uTOH0pWXEQz0"
      },
      "outputs": [],
      "source": [
        "#Cria a coluna que irá indexar a mistura com a planilha do mintel\n",
        "df_launches['Manufacturer']=df_launches['Manufacturer'].astype(str)\n",
        "df_launches['KeyManuf'] = formatar_fabricantes(df_launches['Manufacturer'])"
      ]
    },
    {
      "cell_type": "code",
      "execution_count": 108,
      "metadata": {
        "id": "CJNvGzmRwKxW"
      },
      "outputs": [],
      "source": [
        "col=['Sub-Category', 'Product', 'Brand', 'Company', 'Manufacturer', 'KeyManuf', 'State', 'Free from', 'Price in local currency',\n",
        "     'Silicone', '', 'Ing', 'Manufacturer Company Address',]"
      ]
    },
    {
      "cell_type": "code",
      "execution_count": 109,
      "metadata": {
        "id": "RFmNqS0N0wnN"
      },
      "outputs": [],
      "source": [
        "df_launches[col].to_excel(\"Lancamentos Linha a Linha.xlsx\")"
      ]
    },
    {
      "cell_type": "markdown",
      "source": [
        "## Gera Relatório de Lançamentos com Categorias Transposta"
      ],
      "metadata": {
        "id": "ZO6UQ6CVw1kK"
      }
    },
    {
      "cell_type": "code",
      "source": [
        "df_launches['indice'] = 1"
      ],
      "metadata": {
        "id": "TI7gL3uejjHO"
      },
      "execution_count": 110,
      "outputs": []
    },
    {
      "cell_type": "code",
      "source": [
        "transpor_2(df_launches, 'Category', 'indice')"
      ],
      "metadata": {
        "id": "d6NwrwDMjxQJ"
      },
      "execution_count": 111,
      "outputs": []
    },
    {
      "cell_type": "code",
      "source": [
        "#renomeia coluna categoria\n",
        "df_launches.rename(columns={'Skincare':'Skin', 'Hair Products':'Hair',\n",
        "                          'Soap & Bath Products':'Bath', 'Colour Cosmetics': 'Make',\n",
        "                            'Record ID':'Total Lançamentos'},inplace=True)"
      ],
      "metadata": {
        "id": "k84Zt9iv5XWw"
      },
      "execution_count": 112,
      "outputs": []
    },
    {
      "cell_type": "code",
      "source": [
        "df_c = df_launches.groupby(['KeyManuf', 'State'])[['Skin', 'Hair', 'Make', 'Bath']].apply(lambda x:x.count())"
      ],
      "metadata": {
        "id": "pnnOunJAb3LS"
      },
      "execution_count": 113,
      "outputs": []
    },
    {
      "cell_type": "code",
      "source": [
        "#cria tabela que lista o fabricante, o estado e o total de lançamentos, quais tem silicone,\n",
        "#e quais tem o claim sem silicone.\n",
        "df_b = df_launches.groupby(['KeyManuf', 'State']).agg({\n",
        "                                            'Total Lançamentos': 'count',\n",
        "                                             'Silicone':'count',\n",
        "                                             'Free from':'count',\n",
        "                                              '':to_set})"
      ],
      "metadata": {
        "id": "0XbVBHRaEw9C"
      },
      "execution_count": 114,
      "outputs": []
    },
    {
      "cell_type": "code",
      "source": [
        "#Une tabelas anteriores\n",
        "df_launches_fab = pd.concat([df_c, df_b], axis=1).reset_index()"
      ],
      "metadata": {
        "id": "5esinVdynt5R"
      },
      "execution_count": 115,
      "outputs": []
    },
    {
      "cell_type": "markdown",
      "source": [
        "# Group all reports"
      ],
      "metadata": {
        "id": "X4Fjc-WYxeS9"
      }
    },
    {
      "cell_type": "code",
      "source": [
        "#agrupa lançamentos com vendas e projetos\n",
        "df_launches_vend_proj = df_launches_fab.merge(df_vend_proj_cons, on='KeyManuf', how='left')"
      ],
      "metadata": {
        "id": "o177mmdCsnd7"
      },
      "execution_count": 116,
      "outputs": []
    },
    {
      "cell_type": "markdown",
      "source": [
        "# Generate a Report will all information"
      ],
      "metadata": {
        "id": "oPQqKFgIM6N0"
      }
    },
    {
      "cell_type": "code",
      "source": [
        "df_launches_vend_proj.to_excel('Final.xlsx')"
      ],
      "metadata": {
        "id": "IpyGwO1d_76A"
      },
      "execution_count": 117,
      "outputs": []
    }
  ],
  "metadata": {
    "colab": {
      "provenance": [],
      "toc_visible": true,
      "include_colab_link": true
    },
    "kernelspec": {
      "display_name": "Python 3",
      "name": "python3"
    },
    "language_info": {
      "name": "python"
    }
  },
  "nbformat": 4,
  "nbformat_minor": 0
}