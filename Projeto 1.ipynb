{
  "cells": [
    {
      "cell_type": "markdown",
      "metadata": {
        "id": "view-in-github",
        "colab_type": "text"
      },
      "source": [
        "<a href=\"https://colab.research.google.com/github/GimenesPaula/GimenesPaula/blob/main/Projeto%201.ipynb\" target=\"_parent\"><img src=\"https://colab.research.google.com/assets/colab-badge.svg\" alt=\"Open In Colab\"/></a>"
      ]
    },
    {
      "cell_type": "markdown",
      "metadata": {
        "id": "vVjUgiszCybk"
      },
      "source": [
        "# Fazer Upload planilhas\n",
        "1.   Launches\n",
        "2.   Inci\n",
        "3.   Sales\n",
        "4.   Project"
      ]
    },
    {
      "cell_type": "code",
      "execution_count": 31,
      "metadata": {
        "colab": {
          "base_uri": "https://localhost:8080/",
          "height": 90
        },
        "id": "AyFbHvz1mw8q",
        "outputId": "0b92970b-d1ed-4ec9-952f-0d7be63e63c6"
      },
      "outputs": [
        {
          "output_type": "display_data",
          "data": {
            "text/plain": [
              "<IPython.core.display.HTML object>"
            ],
            "text/html": [
              "\n",
              "     <input type=\"file\" id=\"files-5ef2d9d1-86e8-40cf-9222-b7aedcb72b33\" name=\"files[]\" multiple disabled\n",
              "        style=\"border:none\" />\n",
              "     <output id=\"result-5ef2d9d1-86e8-40cf-9222-b7aedcb72b33\">\n",
              "      Upload widget is only available when the cell has been executed in the\n",
              "      current browser session. Please rerun this cell to enable.\n",
              "      </output>\n",
              "      <script>// Copyright 2017 Google LLC\n",
              "//\n",
              "// Licensed under the Apache License, Version 2.0 (the \"License\");\n",
              "// you may not use this file except in compliance with the License.\n",
              "// You may obtain a copy of the License at\n",
              "//\n",
              "//      http://www.apache.org/licenses/LICENSE-2.0\n",
              "//\n",
              "// Unless required by applicable law or agreed to in writing, software\n",
              "// distributed under the License is distributed on an \"AS IS\" BASIS,\n",
              "// WITHOUT WARRANTIES OR CONDITIONS OF ANY KIND, either express or implied.\n",
              "// See the License for the specific language governing permissions and\n",
              "// limitations under the License.\n",
              "\n",
              "/**\n",
              " * @fileoverview Helpers for google.colab Python module.\n",
              " */\n",
              "(function(scope) {\n",
              "function span(text, styleAttributes = {}) {\n",
              "  const element = document.createElement('span');\n",
              "  element.textContent = text;\n",
              "  for (const key of Object.keys(styleAttributes)) {\n",
              "    element.style[key] = styleAttributes[key];\n",
              "  }\n",
              "  return element;\n",
              "}\n",
              "\n",
              "// Max number of bytes which will be uploaded at a time.\n",
              "const MAX_PAYLOAD_SIZE = 100 * 1024;\n",
              "\n",
              "function _uploadFiles(inputId, outputId) {\n",
              "  const steps = uploadFilesStep(inputId, outputId);\n",
              "  const outputElement = document.getElementById(outputId);\n",
              "  // Cache steps on the outputElement to make it available for the next call\n",
              "  // to uploadFilesContinue from Python.\n",
              "  outputElement.steps = steps;\n",
              "\n",
              "  return _uploadFilesContinue(outputId);\n",
              "}\n",
              "\n",
              "// This is roughly an async generator (not supported in the browser yet),\n",
              "// where there are multiple asynchronous steps and the Python side is going\n",
              "// to poll for completion of each step.\n",
              "// This uses a Promise to block the python side on completion of each step,\n",
              "// then passes the result of the previous step as the input to the next step.\n",
              "function _uploadFilesContinue(outputId) {\n",
              "  const outputElement = document.getElementById(outputId);\n",
              "  const steps = outputElement.steps;\n",
              "\n",
              "  const next = steps.next(outputElement.lastPromiseValue);\n",
              "  return Promise.resolve(next.value.promise).then((value) => {\n",
              "    // Cache the last promise value to make it available to the next\n",
              "    // step of the generator.\n",
              "    outputElement.lastPromiseValue = value;\n",
              "    return next.value.response;\n",
              "  });\n",
              "}\n",
              "\n",
              "/**\n",
              " * Generator function which is called between each async step of the upload\n",
              " * process.\n",
              " * @param {string} inputId Element ID of the input file picker element.\n",
              " * @param {string} outputId Element ID of the output display.\n",
              " * @return {!Iterable<!Object>} Iterable of next steps.\n",
              " */\n",
              "function* uploadFilesStep(inputId, outputId) {\n",
              "  const inputElement = document.getElementById(inputId);\n",
              "  inputElement.disabled = false;\n",
              "\n",
              "  const outputElement = document.getElementById(outputId);\n",
              "  outputElement.innerHTML = '';\n",
              "\n",
              "  const pickedPromise = new Promise((resolve) => {\n",
              "    inputElement.addEventListener('change', (e) => {\n",
              "      resolve(e.target.files);\n",
              "    });\n",
              "  });\n",
              "\n",
              "  const cancel = document.createElement('button');\n",
              "  inputElement.parentElement.appendChild(cancel);\n",
              "  cancel.textContent = 'Cancel upload';\n",
              "  const cancelPromise = new Promise((resolve) => {\n",
              "    cancel.onclick = () => {\n",
              "      resolve(null);\n",
              "    };\n",
              "  });\n",
              "\n",
              "  // Wait for the user to pick the files.\n",
              "  const files = yield {\n",
              "    promise: Promise.race([pickedPromise, cancelPromise]),\n",
              "    response: {\n",
              "      action: 'starting',\n",
              "    }\n",
              "  };\n",
              "\n",
              "  cancel.remove();\n",
              "\n",
              "  // Disable the input element since further picks are not allowed.\n",
              "  inputElement.disabled = true;\n",
              "\n",
              "  if (!files) {\n",
              "    return {\n",
              "      response: {\n",
              "        action: 'complete',\n",
              "      }\n",
              "    };\n",
              "  }\n",
              "\n",
              "  for (const file of files) {\n",
              "    const li = document.createElement('li');\n",
              "    li.append(span(file.name, {fontWeight: 'bold'}));\n",
              "    li.append(span(\n",
              "        `(${file.type || 'n/a'}) - ${file.size} bytes, ` +\n",
              "        `last modified: ${\n",
              "            file.lastModifiedDate ? file.lastModifiedDate.toLocaleDateString() :\n",
              "                                    'n/a'} - `));\n",
              "    const percent = span('0% done');\n",
              "    li.appendChild(percent);\n",
              "\n",
              "    outputElement.appendChild(li);\n",
              "\n",
              "    const fileDataPromise = new Promise((resolve) => {\n",
              "      const reader = new FileReader();\n",
              "      reader.onload = (e) => {\n",
              "        resolve(e.target.result);\n",
              "      };\n",
              "      reader.readAsArrayBuffer(file);\n",
              "    });\n",
              "    // Wait for the data to be ready.\n",
              "    let fileData = yield {\n",
              "      promise: fileDataPromise,\n",
              "      response: {\n",
              "        action: 'continue',\n",
              "      }\n",
              "    };\n",
              "\n",
              "    // Use a chunked sending to avoid message size limits. See b/62115660.\n",
              "    let position = 0;\n",
              "    do {\n",
              "      const length = Math.min(fileData.byteLength - position, MAX_PAYLOAD_SIZE);\n",
              "      const chunk = new Uint8Array(fileData, position, length);\n",
              "      position += length;\n",
              "\n",
              "      const base64 = btoa(String.fromCharCode.apply(null, chunk));\n",
              "      yield {\n",
              "        response: {\n",
              "          action: 'append',\n",
              "          file: file.name,\n",
              "          data: base64,\n",
              "        },\n",
              "      };\n",
              "\n",
              "      let percentDone = fileData.byteLength === 0 ?\n",
              "          100 :\n",
              "          Math.round((position / fileData.byteLength) * 100);\n",
              "      percent.textContent = `${percentDone}% done`;\n",
              "\n",
              "    } while (position < fileData.byteLength);\n",
              "  }\n",
              "\n",
              "  // All done.\n",
              "  yield {\n",
              "    response: {\n",
              "      action: 'complete',\n",
              "    }\n",
              "  };\n",
              "}\n",
              "\n",
              "scope.google = scope.google || {};\n",
              "scope.google.colab = scope.google.colab || {};\n",
              "scope.google.colab._files = {\n",
              "  _uploadFiles,\n",
              "  _uploadFilesContinue,\n",
              "};\n",
              "})(self);\n",
              "</script> "
            ]
          },
          "metadata": {}
        },
        {
          "output_type": "stream",
          "name": "stdout",
          "text": [
            "Saving 2024.xlsx to 2024.xlsx\n"
          ]
        }
      ],
      "source": [
        "#Launches\n",
        "from google.colab import files\n",
        "uploaded = files.upload()"
      ]
    },
    {
      "cell_type": "code",
      "execution_count": 32,
      "metadata": {
        "id": "Igi2-PETU4sg"
      },
      "outputs": [],
      "source": [
        "filename = next(iter(uploaded))"
      ]
    },
    {
      "cell_type": "code",
      "execution_count": 5,
      "metadata": {
        "id": "lB3QSzOoTf86",
        "colab": {
          "base_uri": "https://localhost:8080/",
          "height": 73
        },
        "outputId": "f18e6c18-b1dd-4fae-b7e3-374ab6152287"
      },
      "outputs": [
        {
          "output_type": "display_data",
          "data": {
            "text/plain": [
              "<IPython.core.display.HTML object>"
            ],
            "text/html": [
              "\n",
              "     <input type=\"file\" id=\"files-32dfcce2-8768-4459-b4ac-b42a07d54096\" name=\"files[]\" multiple disabled\n",
              "        style=\"border:none\" />\n",
              "     <output id=\"result-32dfcce2-8768-4459-b4ac-b42a07d54096\">\n",
              "      Upload widget is only available when the cell has been executed in the\n",
              "      current browser session. Please rerun this cell to enable.\n",
              "      </output>\n",
              "      <script>// Copyright 2017 Google LLC\n",
              "//\n",
              "// Licensed under the Apache License, Version 2.0 (the \"License\");\n",
              "// you may not use this file except in compliance with the License.\n",
              "// You may obtain a copy of the License at\n",
              "//\n",
              "//      http://www.apache.org/licenses/LICENSE-2.0\n",
              "//\n",
              "// Unless required by applicable law or agreed to in writing, software\n",
              "// distributed under the License is distributed on an \"AS IS\" BASIS,\n",
              "// WITHOUT WARRANTIES OR CONDITIONS OF ANY KIND, either express or implied.\n",
              "// See the License for the specific language governing permissions and\n",
              "// limitations under the License.\n",
              "\n",
              "/**\n",
              " * @fileoverview Helpers for google.colab Python module.\n",
              " */\n",
              "(function(scope) {\n",
              "function span(text, styleAttributes = {}) {\n",
              "  const element = document.createElement('span');\n",
              "  element.textContent = text;\n",
              "  for (const key of Object.keys(styleAttributes)) {\n",
              "    element.style[key] = styleAttributes[key];\n",
              "  }\n",
              "  return element;\n",
              "}\n",
              "\n",
              "// Max number of bytes which will be uploaded at a time.\n",
              "const MAX_PAYLOAD_SIZE = 100 * 1024;\n",
              "\n",
              "function _uploadFiles(inputId, outputId) {\n",
              "  const steps = uploadFilesStep(inputId, outputId);\n",
              "  const outputElement = document.getElementById(outputId);\n",
              "  // Cache steps on the outputElement to make it available for the next call\n",
              "  // to uploadFilesContinue from Python.\n",
              "  outputElement.steps = steps;\n",
              "\n",
              "  return _uploadFilesContinue(outputId);\n",
              "}\n",
              "\n",
              "// This is roughly an async generator (not supported in the browser yet),\n",
              "// where there are multiple asynchronous steps and the Python side is going\n",
              "// to poll for completion of each step.\n",
              "// This uses a Promise to block the python side on completion of each step,\n",
              "// then passes the result of the previous step as the input to the next step.\n",
              "function _uploadFilesContinue(outputId) {\n",
              "  const outputElement = document.getElementById(outputId);\n",
              "  const steps = outputElement.steps;\n",
              "\n",
              "  const next = steps.next(outputElement.lastPromiseValue);\n",
              "  return Promise.resolve(next.value.promise).then((value) => {\n",
              "    // Cache the last promise value to make it available to the next\n",
              "    // step of the generator.\n",
              "    outputElement.lastPromiseValue = value;\n",
              "    return next.value.response;\n",
              "  });\n",
              "}\n",
              "\n",
              "/**\n",
              " * Generator function which is called between each async step of the upload\n",
              " * process.\n",
              " * @param {string} inputId Element ID of the input file picker element.\n",
              " * @param {string} outputId Element ID of the output display.\n",
              " * @return {!Iterable<!Object>} Iterable of next steps.\n",
              " */\n",
              "function* uploadFilesStep(inputId, outputId) {\n",
              "  const inputElement = document.getElementById(inputId);\n",
              "  inputElement.disabled = false;\n",
              "\n",
              "  const outputElement = document.getElementById(outputId);\n",
              "  outputElement.innerHTML = '';\n",
              "\n",
              "  const pickedPromise = new Promise((resolve) => {\n",
              "    inputElement.addEventListener('change', (e) => {\n",
              "      resolve(e.target.files);\n",
              "    });\n",
              "  });\n",
              "\n",
              "  const cancel = document.createElement('button');\n",
              "  inputElement.parentElement.appendChild(cancel);\n",
              "  cancel.textContent = 'Cancel upload';\n",
              "  const cancelPromise = new Promise((resolve) => {\n",
              "    cancel.onclick = () => {\n",
              "      resolve(null);\n",
              "    };\n",
              "  });\n",
              "\n",
              "  // Wait for the user to pick the files.\n",
              "  const files = yield {\n",
              "    promise: Promise.race([pickedPromise, cancelPromise]),\n",
              "    response: {\n",
              "      action: 'starting',\n",
              "    }\n",
              "  };\n",
              "\n",
              "  cancel.remove();\n",
              "\n",
              "  // Disable the input element since further picks are not allowed.\n",
              "  inputElement.disabled = true;\n",
              "\n",
              "  if (!files) {\n",
              "    return {\n",
              "      response: {\n",
              "        action: 'complete',\n",
              "      }\n",
              "    };\n",
              "  }\n",
              "\n",
              "  for (const file of files) {\n",
              "    const li = document.createElement('li');\n",
              "    li.append(span(file.name, {fontWeight: 'bold'}));\n",
              "    li.append(span(\n",
              "        `(${file.type || 'n/a'}) - ${file.size} bytes, ` +\n",
              "        `last modified: ${\n",
              "            file.lastModifiedDate ? file.lastModifiedDate.toLocaleDateString() :\n",
              "                                    'n/a'} - `));\n",
              "    const percent = span('0% done');\n",
              "    li.appendChild(percent);\n",
              "\n",
              "    outputElement.appendChild(li);\n",
              "\n",
              "    const fileDataPromise = new Promise((resolve) => {\n",
              "      const reader = new FileReader();\n",
              "      reader.onload = (e) => {\n",
              "        resolve(e.target.result);\n",
              "      };\n",
              "      reader.readAsArrayBuffer(file);\n",
              "    });\n",
              "    // Wait for the data to be ready.\n",
              "    let fileData = yield {\n",
              "      promise: fileDataPromise,\n",
              "      response: {\n",
              "        action: 'continue',\n",
              "      }\n",
              "    };\n",
              "\n",
              "    // Use a chunked sending to avoid message size limits. See b/62115660.\n",
              "    let position = 0;\n",
              "    do {\n",
              "      const length = Math.min(fileData.byteLength - position, MAX_PAYLOAD_SIZE);\n",
              "      const chunk = new Uint8Array(fileData, position, length);\n",
              "      position += length;\n",
              "\n",
              "      const base64 = btoa(String.fromCharCode.apply(null, chunk));\n",
              "      yield {\n",
              "        response: {\n",
              "          action: 'append',\n",
              "          file: file.name,\n",
              "          data: base64,\n",
              "        },\n",
              "      };\n",
              "\n",
              "      let percentDone = fileData.byteLength === 0 ?\n",
              "          100 :\n",
              "          Math.round((position / fileData.byteLength) * 100);\n",
              "      percent.textContent = `${percentDone}% done`;\n",
              "\n",
              "    } while (position < fileData.byteLength);\n",
              "  }\n",
              "\n",
              "  // All done.\n",
              "  yield {\n",
              "    response: {\n",
              "      action: 'complete',\n",
              "    }\n",
              "  };\n",
              "}\n",
              "\n",
              "scope.google = scope.google || {};\n",
              "scope.google.colab = scope.google.colab || {};\n",
              "scope.google.colab._files = {\n",
              "  _uploadFiles,\n",
              "  _uploadFilesContinue,\n",
              "};\n",
              "})(self);\n",
              "</script> "
            ]
          },
          "metadata": {}
        },
        {
          "output_type": "stream",
          "name": "stdout",
          "text": [
            "Saving inci.xlsx to inci.xlsx\n"
          ]
        }
      ],
      "source": [
        "# INCI name produtos\n",
        "from google.colab import files\n",
        "inci = files.upload()"
      ]
    },
    {
      "cell_type": "code",
      "execution_count": 6,
      "metadata": {
        "id": "jlNGmhCHUWCd"
      },
      "outputs": [],
      "source": [
        "filename2 = next(iter(inci))"
      ]
    },
    {
      "cell_type": "code",
      "execution_count": 7,
      "metadata": {
        "id": "fHn40Bxeyxda",
        "colab": {
          "base_uri": "https://localhost:8080/",
          "height": 90
        },
        "outputId": "e9033c26-5e3d-4be3-86a9-ff7e8673fe38"
      },
      "outputs": [
        {
          "output_type": "display_data",
          "data": {
            "text/plain": [
              "<IPython.core.display.HTML object>"
            ],
            "text/html": [
              "\n",
              "     <input type=\"file\" id=\"files-4a01a2e0-e32f-46bc-8bc3-a4445327f6e3\" name=\"files[]\" multiple disabled\n",
              "        style=\"border:none\" />\n",
              "     <output id=\"result-4a01a2e0-e32f-46bc-8bc3-a4445327f6e3\">\n",
              "      Upload widget is only available when the cell has been executed in the\n",
              "      current browser session. Please rerun this cell to enable.\n",
              "      </output>\n",
              "      <script>// Copyright 2017 Google LLC\n",
              "//\n",
              "// Licensed under the Apache License, Version 2.0 (the \"License\");\n",
              "// you may not use this file except in compliance with the License.\n",
              "// You may obtain a copy of the License at\n",
              "//\n",
              "//      http://www.apache.org/licenses/LICENSE-2.0\n",
              "//\n",
              "// Unless required by applicable law or agreed to in writing, software\n",
              "// distributed under the License is distributed on an \"AS IS\" BASIS,\n",
              "// WITHOUT WARRANTIES OR CONDITIONS OF ANY KIND, either express or implied.\n",
              "// See the License for the specific language governing permissions and\n",
              "// limitations under the License.\n",
              "\n",
              "/**\n",
              " * @fileoverview Helpers for google.colab Python module.\n",
              " */\n",
              "(function(scope) {\n",
              "function span(text, styleAttributes = {}) {\n",
              "  const element = document.createElement('span');\n",
              "  element.textContent = text;\n",
              "  for (const key of Object.keys(styleAttributes)) {\n",
              "    element.style[key] = styleAttributes[key];\n",
              "  }\n",
              "  return element;\n",
              "}\n",
              "\n",
              "// Max number of bytes which will be uploaded at a time.\n",
              "const MAX_PAYLOAD_SIZE = 100 * 1024;\n",
              "\n",
              "function _uploadFiles(inputId, outputId) {\n",
              "  const steps = uploadFilesStep(inputId, outputId);\n",
              "  const outputElement = document.getElementById(outputId);\n",
              "  // Cache steps on the outputElement to make it available for the next call\n",
              "  // to uploadFilesContinue from Python.\n",
              "  outputElement.steps = steps;\n",
              "\n",
              "  return _uploadFilesContinue(outputId);\n",
              "}\n",
              "\n",
              "// This is roughly an async generator (not supported in the browser yet),\n",
              "// where there are multiple asynchronous steps and the Python side is going\n",
              "// to poll for completion of each step.\n",
              "// This uses a Promise to block the python side on completion of each step,\n",
              "// then passes the result of the previous step as the input to the next step.\n",
              "function _uploadFilesContinue(outputId) {\n",
              "  const outputElement = document.getElementById(outputId);\n",
              "  const steps = outputElement.steps;\n",
              "\n",
              "  const next = steps.next(outputElement.lastPromiseValue);\n",
              "  return Promise.resolve(next.value.promise).then((value) => {\n",
              "    // Cache the last promise value to make it available to the next\n",
              "    // step of the generator.\n",
              "    outputElement.lastPromiseValue = value;\n",
              "    return next.value.response;\n",
              "  });\n",
              "}\n",
              "\n",
              "/**\n",
              " * Generator function which is called between each async step of the upload\n",
              " * process.\n",
              " * @param {string} inputId Element ID of the input file picker element.\n",
              " * @param {string} outputId Element ID of the output display.\n",
              " * @return {!Iterable<!Object>} Iterable of next steps.\n",
              " */\n",
              "function* uploadFilesStep(inputId, outputId) {\n",
              "  const inputElement = document.getElementById(inputId);\n",
              "  inputElement.disabled = false;\n",
              "\n",
              "  const outputElement = document.getElementById(outputId);\n",
              "  outputElement.innerHTML = '';\n",
              "\n",
              "  const pickedPromise = new Promise((resolve) => {\n",
              "    inputElement.addEventListener('change', (e) => {\n",
              "      resolve(e.target.files);\n",
              "    });\n",
              "  });\n",
              "\n",
              "  const cancel = document.createElement('button');\n",
              "  inputElement.parentElement.appendChild(cancel);\n",
              "  cancel.textContent = 'Cancel upload';\n",
              "  const cancelPromise = new Promise((resolve) => {\n",
              "    cancel.onclick = () => {\n",
              "      resolve(null);\n",
              "    };\n",
              "  });\n",
              "\n",
              "  // Wait for the user to pick the files.\n",
              "  const files = yield {\n",
              "    promise: Promise.race([pickedPromise, cancelPromise]),\n",
              "    response: {\n",
              "      action: 'starting',\n",
              "    }\n",
              "  };\n",
              "\n",
              "  cancel.remove();\n",
              "\n",
              "  // Disable the input element since further picks are not allowed.\n",
              "  inputElement.disabled = true;\n",
              "\n",
              "  if (!files) {\n",
              "    return {\n",
              "      response: {\n",
              "        action: 'complete',\n",
              "      }\n",
              "    };\n",
              "  }\n",
              "\n",
              "  for (const file of files) {\n",
              "    const li = document.createElement('li');\n",
              "    li.append(span(file.name, {fontWeight: 'bold'}));\n",
              "    li.append(span(\n",
              "        `(${file.type || 'n/a'}) - ${file.size} bytes, ` +\n",
              "        `last modified: ${\n",
              "            file.lastModifiedDate ? file.lastModifiedDate.toLocaleDateString() :\n",
              "                                    'n/a'} - `));\n",
              "    const percent = span('0% done');\n",
              "    li.appendChild(percent);\n",
              "\n",
              "    outputElement.appendChild(li);\n",
              "\n",
              "    const fileDataPromise = new Promise((resolve) => {\n",
              "      const reader = new FileReader();\n",
              "      reader.onload = (e) => {\n",
              "        resolve(e.target.result);\n",
              "      };\n",
              "      reader.readAsArrayBuffer(file);\n",
              "    });\n",
              "    // Wait for the data to be ready.\n",
              "    let fileData = yield {\n",
              "      promise: fileDataPromise,\n",
              "      response: {\n",
              "        action: 'continue',\n",
              "      }\n",
              "    };\n",
              "\n",
              "    // Use a chunked sending to avoid message size limits. See b/62115660.\n",
              "    let position = 0;\n",
              "    do {\n",
              "      const length = Math.min(fileData.byteLength - position, MAX_PAYLOAD_SIZE);\n",
              "      const chunk = new Uint8Array(fileData, position, length);\n",
              "      position += length;\n",
              "\n",
              "      const base64 = btoa(String.fromCharCode.apply(null, chunk));\n",
              "      yield {\n",
              "        response: {\n",
              "          action: 'append',\n",
              "          file: file.name,\n",
              "          data: base64,\n",
              "        },\n",
              "      };\n",
              "\n",
              "      let percentDone = fileData.byteLength === 0 ?\n",
              "          100 :\n",
              "          Math.round((position / fileData.byteLength) * 100);\n",
              "      percent.textContent = `${percentDone}% done`;\n",
              "\n",
              "    } while (position < fileData.byteLength);\n",
              "  }\n",
              "\n",
              "  // All done.\n",
              "  yield {\n",
              "    response: {\n",
              "      action: 'complete',\n",
              "    }\n",
              "  };\n",
              "}\n",
              "\n",
              "scope.google = scope.google || {};\n",
              "scope.google.colab = scope.google.colab || {};\n",
              "scope.google.colab._files = {\n",
              "  _uploadFiles,\n",
              "  _uploadFilesContinue,\n",
              "};\n",
              "})(self);\n",
              "</script> "
            ]
          },
          "metadata": {}
        },
        {
          "output_type": "stream",
          "name": "stdout",
          "text": [
            "Saving Projetos.xlsx to Projetos.xlsx\n"
          ]
        }
      ],
      "source": [
        "#Projetos Distribuidores\n",
        "from google.colab import files\n",
        "proj = files.upload()"
      ]
    },
    {
      "cell_type": "code",
      "execution_count": 8,
      "metadata": {
        "id": "Ol0WCLoMy5vq"
      },
      "outputs": [],
      "source": [
        "filename3 = next(iter(proj))"
      ]
    },
    {
      "cell_type": "code",
      "execution_count": 9,
      "metadata": {
        "id": "-IovYkI07S51",
        "colab": {
          "base_uri": "https://localhost:8080/",
          "height": 90
        },
        "outputId": "94757c6b-3cfe-401f-f565-128b34408f8e"
      },
      "outputs": [
        {
          "output_type": "display_data",
          "data": {
            "text/plain": [
              "<IPython.core.display.HTML object>"
            ],
            "text/html": [
              "\n",
              "     <input type=\"file\" id=\"files-117019d9-7a0c-4118-a97b-d1d59fab11d7\" name=\"files[]\" multiple disabled\n",
              "        style=\"border:none\" />\n",
              "     <output id=\"result-117019d9-7a0c-4118-a97b-d1d59fab11d7\">\n",
              "      Upload widget is only available when the cell has been executed in the\n",
              "      current browser session. Please rerun this cell to enable.\n",
              "      </output>\n",
              "      <script>// Copyright 2017 Google LLC\n",
              "//\n",
              "// Licensed under the Apache License, Version 2.0 (the \"License\");\n",
              "// you may not use this file except in compliance with the License.\n",
              "// You may obtain a copy of the License at\n",
              "//\n",
              "//      http://www.apache.org/licenses/LICENSE-2.0\n",
              "//\n",
              "// Unless required by applicable law or agreed to in writing, software\n",
              "// distributed under the License is distributed on an \"AS IS\" BASIS,\n",
              "// WITHOUT WARRANTIES OR CONDITIONS OF ANY KIND, either express or implied.\n",
              "// See the License for the specific language governing permissions and\n",
              "// limitations under the License.\n",
              "\n",
              "/**\n",
              " * @fileoverview Helpers for google.colab Python module.\n",
              " */\n",
              "(function(scope) {\n",
              "function span(text, styleAttributes = {}) {\n",
              "  const element = document.createElement('span');\n",
              "  element.textContent = text;\n",
              "  for (const key of Object.keys(styleAttributes)) {\n",
              "    element.style[key] = styleAttributes[key];\n",
              "  }\n",
              "  return element;\n",
              "}\n",
              "\n",
              "// Max number of bytes which will be uploaded at a time.\n",
              "const MAX_PAYLOAD_SIZE = 100 * 1024;\n",
              "\n",
              "function _uploadFiles(inputId, outputId) {\n",
              "  const steps = uploadFilesStep(inputId, outputId);\n",
              "  const outputElement = document.getElementById(outputId);\n",
              "  // Cache steps on the outputElement to make it available for the next call\n",
              "  // to uploadFilesContinue from Python.\n",
              "  outputElement.steps = steps;\n",
              "\n",
              "  return _uploadFilesContinue(outputId);\n",
              "}\n",
              "\n",
              "// This is roughly an async generator (not supported in the browser yet),\n",
              "// where there are multiple asynchronous steps and the Python side is going\n",
              "// to poll for completion of each step.\n",
              "// This uses a Promise to block the python side on completion of each step,\n",
              "// then passes the result of the previous step as the input to the next step.\n",
              "function _uploadFilesContinue(outputId) {\n",
              "  const outputElement = document.getElementById(outputId);\n",
              "  const steps = outputElement.steps;\n",
              "\n",
              "  const next = steps.next(outputElement.lastPromiseValue);\n",
              "  return Promise.resolve(next.value.promise).then((value) => {\n",
              "    // Cache the last promise value to make it available to the next\n",
              "    // step of the generator.\n",
              "    outputElement.lastPromiseValue = value;\n",
              "    return next.value.response;\n",
              "  });\n",
              "}\n",
              "\n",
              "/**\n",
              " * Generator function which is called between each async step of the upload\n",
              " * process.\n",
              " * @param {string} inputId Element ID of the input file picker element.\n",
              " * @param {string} outputId Element ID of the output display.\n",
              " * @return {!Iterable<!Object>} Iterable of next steps.\n",
              " */\n",
              "function* uploadFilesStep(inputId, outputId) {\n",
              "  const inputElement = document.getElementById(inputId);\n",
              "  inputElement.disabled = false;\n",
              "\n",
              "  const outputElement = document.getElementById(outputId);\n",
              "  outputElement.innerHTML = '';\n",
              "\n",
              "  const pickedPromise = new Promise((resolve) => {\n",
              "    inputElement.addEventListener('change', (e) => {\n",
              "      resolve(e.target.files);\n",
              "    });\n",
              "  });\n",
              "\n",
              "  const cancel = document.createElement('button');\n",
              "  inputElement.parentElement.appendChild(cancel);\n",
              "  cancel.textContent = 'Cancel upload';\n",
              "  const cancelPromise = new Promise((resolve) => {\n",
              "    cancel.onclick = () => {\n",
              "      resolve(null);\n",
              "    };\n",
              "  });\n",
              "\n",
              "  // Wait for the user to pick the files.\n",
              "  const files = yield {\n",
              "    promise: Promise.race([pickedPromise, cancelPromise]),\n",
              "    response: {\n",
              "      action: 'starting',\n",
              "    }\n",
              "  };\n",
              "\n",
              "  cancel.remove();\n",
              "\n",
              "  // Disable the input element since further picks are not allowed.\n",
              "  inputElement.disabled = true;\n",
              "\n",
              "  if (!files) {\n",
              "    return {\n",
              "      response: {\n",
              "        action: 'complete',\n",
              "      }\n",
              "    };\n",
              "  }\n",
              "\n",
              "  for (const file of files) {\n",
              "    const li = document.createElement('li');\n",
              "    li.append(span(file.name, {fontWeight: 'bold'}));\n",
              "    li.append(span(\n",
              "        `(${file.type || 'n/a'}) - ${file.size} bytes, ` +\n",
              "        `last modified: ${\n",
              "            file.lastModifiedDate ? file.lastModifiedDate.toLocaleDateString() :\n",
              "                                    'n/a'} - `));\n",
              "    const percent = span('0% done');\n",
              "    li.appendChild(percent);\n",
              "\n",
              "    outputElement.appendChild(li);\n",
              "\n",
              "    const fileDataPromise = new Promise((resolve) => {\n",
              "      const reader = new FileReader();\n",
              "      reader.onload = (e) => {\n",
              "        resolve(e.target.result);\n",
              "      };\n",
              "      reader.readAsArrayBuffer(file);\n",
              "    });\n",
              "    // Wait for the data to be ready.\n",
              "    let fileData = yield {\n",
              "      promise: fileDataPromise,\n",
              "      response: {\n",
              "        action: 'continue',\n",
              "      }\n",
              "    };\n",
              "\n",
              "    // Use a chunked sending to avoid message size limits. See b/62115660.\n",
              "    let position = 0;\n",
              "    do {\n",
              "      const length = Math.min(fileData.byteLength - position, MAX_PAYLOAD_SIZE);\n",
              "      const chunk = new Uint8Array(fileData, position, length);\n",
              "      position += length;\n",
              "\n",
              "      const base64 = btoa(String.fromCharCode.apply(null, chunk));\n",
              "      yield {\n",
              "        response: {\n",
              "          action: 'append',\n",
              "          file: file.name,\n",
              "          data: base64,\n",
              "        },\n",
              "      };\n",
              "\n",
              "      let percentDone = fileData.byteLength === 0 ?\n",
              "          100 :\n",
              "          Math.round((position / fileData.byteLength) * 100);\n",
              "      percent.textContent = `${percentDone}% done`;\n",
              "\n",
              "    } while (position < fileData.byteLength);\n",
              "  }\n",
              "\n",
              "  // All done.\n",
              "  yield {\n",
              "    response: {\n",
              "      action: 'complete',\n",
              "    }\n",
              "  };\n",
              "}\n",
              "\n",
              "scope.google = scope.google || {};\n",
              "scope.google.colab = scope.google.colab || {};\n",
              "scope.google.colab._files = {\n",
              "  _uploadFiles,\n",
              "  _uploadFilesContinue,\n",
              "};\n",
              "})(self);\n",
              "</script> "
            ]
          },
          "metadata": {}
        },
        {
          "output_type": "stream",
          "name": "stdout",
          "text": [
            "Saving Vendas.xlsx to Vendas.xlsx\n"
          ]
        }
      ],
      "source": [
        "#Vendas Distribuidores\n",
        "from google.colab import files\n",
        "dist = files.upload()"
      ]
    },
    {
      "cell_type": "code",
      "execution_count": 10,
      "metadata": {
        "id": "fjis3yuW7S52"
      },
      "outputs": [],
      "source": [
        "filename4 = next(iter(dist))"
      ]
    },
    {
      "cell_type": "markdown",
      "metadata": {
        "id": "P6-oQmnu0ay7"
      },
      "source": [
        "# Bibliotecas Phyton"
      ]
    },
    {
      "cell_type": "code",
      "execution_count": 11,
      "metadata": {
        "id": "OUttnnRjUFkr"
      },
      "outputs": [],
      "source": [
        "#Carrega Bibliotecas\n",
        "import pandas as pd\n",
        "import numpy as np\n",
        "import re"
      ]
    },
    {
      "cell_type": "code",
      "execution_count": 12,
      "metadata": {
        "colab": {
          "base_uri": "https://localhost:8080/"
        },
        "id": "bYgOUb49mE-B",
        "outputId": "e3d12f9c-0bee-4c26-a771-a8470f59c9f7"
      },
      "outputs": [
        {
          "output_type": "stream",
          "name": "stdout",
          "text": [
            "Collecting unidecode\n",
            "  Downloading Unidecode-1.3.8-py3-none-any.whl (235 kB)\n",
            "\u001b[2K     \u001b[90m━━━━━━━━━━━━━━━━━━━━━━━━━━━━━━━━━━━━━━━━\u001b[0m \u001b[32m235.5/235.5 kB\u001b[0m \u001b[31m4.7 MB/s\u001b[0m eta \u001b[36m0:00:00\u001b[0m\n",
            "\u001b[?25hInstalling collected packages: unidecode\n",
            "Successfully installed unidecode-1.3.8\n"
          ]
        }
      ],
      "source": [
        "pip install unidecode"
      ]
    },
    {
      "cell_type": "code",
      "execution_count": 13,
      "metadata": {
        "id": "Lr8uDiyKlneW"
      },
      "outputs": [],
      "source": [
        "from unidecode import unidecode"
      ]
    },
    {
      "cell_type": "markdown",
      "metadata": {
        "id": "knAADVNN0iEf"
      },
      "source": [
        "##Carrega tabela do Mintel"
      ]
    },
    {
      "cell_type": "code",
      "execution_count": 34,
      "metadata": {
        "colab": {
          "base_uri": "https://localhost:8080/"
        },
        "id": "kXNHpqFaTMgx",
        "outputId": "3e9631c2-deef-4d44-d55e-6b5bfc189cb6"
      },
      "outputs": [
        {
          "output_type": "execute_result",
          "data": {
            "text/plain": [
              "Record ID                       1697\n",
              "Date Published                   103\n",
              "Product                         1143\n",
              "Brand                           1160\n",
              "Company                          481\n",
              "Market                             1\n",
              "Category                           4\n",
              "Sub-Category                      38\n",
              "Product Description             1696\n",
              "Launch Type                        5\n",
              "Manufacturer                     434\n",
              "Location of Manufacture           23\n",
              "Manufacturer Company Address     309\n",
              "Ingredients (Standard form)     1667\n",
              "Price in local currency          598\n",
              "Primary Image Link              1697\n",
              "Pet                                0\n",
              "Convenience                       20\n",
              "Minus                              0\n",
              "Functional                        74\n",
              "Natural                           24\n",
              "Plus                               2\n",
              "Positioning                       15\n",
              "Suitable for                       6\n",
              "Demographic                        8\n",
              "Free from                         49\n",
              "Beauty enhancing                 106\n",
              "Ethical & environmental           62\n",
              "Product tested                    23\n",
              "dtype: int64"
            ]
          },
          "metadata": {},
          "execution_count": 34
        }
      ],
      "source": [
        "#Carrega o banco de dados como tabela\n",
        "data = '/content/'+filename\n",
        "df_launches = pd.read_excel(data)\n",
        "pd.options.display.max_columns = None\n",
        "df_launches.nunique()"
      ]
    },
    {
      "cell_type": "markdown",
      "metadata": {
        "id": "fhw11yYVTbwX"
      },
      "source": [
        "##Carrega Tabela de INCI"
      ]
    },
    {
      "cell_type": "code",
      "execution_count": 35,
      "metadata": {
        "colab": {
          "base_uri": "https://localhost:8080/"
        },
        "id": "PGa0p525T_xG",
        "outputId": "4e33926c-80b5-4e1c-9d1f-b422fa4ab877"
      },
      "outputs": [
        {
          "output_type": "execute_result",
          "data": {
            "text/plain": [
              "Produto        52\n",
              "Ingrediente    48\n",
              "Prioridade      3\n",
              "dtype: int64"
            ]
          },
          "metadata": {},
          "execution_count": 35
        }
      ],
      "source": [
        "data = '/content/'+filename2\n",
        "df_inci = pd.read_excel(data)\n",
        "pd.options.display.max_columns=None\n",
        "df_inci.nunique()"
      ]
    },
    {
      "cell_type": "markdown",
      "metadata": {
        "id": "jZgbxW5f0sVT"
      },
      "source": [
        "##Carrega Tabela de Projetos"
      ]
    },
    {
      "cell_type": "code",
      "execution_count": 36,
      "metadata": {
        "colab": {
          "base_uri": "https://localhost:8080/"
        },
        "id": "bhMAxqun0sVU",
        "outputId": "217f752d-6146-409c-fa2e-251bdda9ac50"
      },
      "outputs": [
        {
          "output_type": "execute_result",
          "data": {
            "text/plain": [
              "Distributor      4\n",
              "Customer       628\n",
              "UF              21\n",
              "Material       201\n",
              "dtype: int64"
            ]
          },
          "metadata": {},
          "execution_count": 36
        }
      ],
      "source": [
        "data = '/content/'+filename3\n",
        "df_proj = pd.read_excel(data)\n",
        "pd.options.display.max_columns=None\n",
        "df_proj.nunique()"
      ]
    },
    {
      "cell_type": "markdown",
      "metadata": {
        "id": "a5ppBsEI7sqB"
      },
      "source": [
        "## Carrega Planilha de Vendas do Distribuidor"
      ]
    },
    {
      "cell_type": "code",
      "execution_count": 37,
      "metadata": {
        "colab": {
          "base_uri": "https://localhost:8080/"
        },
        "id": "X05326R47xvH",
        "outputId": "20d2ba57-1c54-43c0-9cb3-d6b11273191d"
      },
      "outputs": [
        {
          "output_type": "execute_result",
          "data": {
            "text/plain": [
              "Customer(at distrib)    1819\n",
              "Country, Customer          1\n",
              "Distributor                3\n",
              "Material                 130\n",
              "Year                     404\n",
              "dtype: int64"
            ]
          },
          "metadata": {},
          "execution_count": 37
        }
      ],
      "source": [
        "data = '/content/'+filename4\n",
        "df_dist = pd.read_excel(data)\n",
        "pd.options.display.max_columns=None\n",
        "df_dist.nunique()"
      ]
    },
    {
      "cell_type": "markdown",
      "metadata": {
        "id": "1gVy5d2g7Mix"
      },
      "source": [
        "# Define funções"
      ]
    },
    {
      "cell_type": "code",
      "execution_count": 38,
      "metadata": {
        "id": "1B00Mjh2rDOD"
      },
      "outputs": [],
      "source": [
        "#this checks if any combination of INCI as present in Ingredient\n",
        "def verifica_ingrediente(formula,produto,material):\n",
        "  quantidade = len(produto.difference(formula))\n",
        "  if quantidade == 0:\n",
        "    return material\n",
        "  return None"
      ]
    },
    {
      "cell_type": "code",
      "execution_count": 39,
      "metadata": {
        "id": "9Cptl2ShP1Jm"
      },
      "outputs": [],
      "source": [
        "#If last code is true, this returns the material name\n",
        "def procura_produtos(formula, produtos, materiais):\n",
        "  formula = formula.copy()\n",
        "  resultados = []\n",
        "  for prod, mat in zip(produtos, materiais):\n",
        "    resultado = verifica_ingrediente(formula, prod, mat)\n",
        "    if resultado is not None:\n",
        "      formula = formula.difference(prod) ## Para remover os ingredientes já encontrados numa nova busca.\n",
        "      resultados.append(resultado)\n",
        "  return resultados"
      ]
    },
    {
      "cell_type": "code",
      "source": [
        "#this code transpose data. Used when we bring each category and the number of lauches.\n",
        "def transpor (df, coluna, linha):\n",
        "  for cat in df[coluna].unique():\n",
        "    f = df[coluna] == cat\n",
        "    df[cat] = df[f][linha]\n",
        "    f = df[cat].isna()\n",
        "    df.loc[f, cat] = df.loc[f, cat].apply(lambda x:[])"
      ],
      "metadata": {
        "id": "ahIPs7pxzSBy"
      },
      "execution_count": 40,
      "outputs": []
    },
    {
      "cell_type": "code",
      "source": [
        "#Code to solve an issue from algoritms\n",
        "def to_set(x):\n",
        "    try:\n",
        "        if isinstance(x, pd.DataFrame):\n",
        "            return x.apply(to_set)\n",
        "        else:\n",
        "            return set(x.sum())\n",
        "    except:\n",
        "        pass"
      ],
      "metadata": {
        "id": "YHNl1iQiyVvh"
      },
      "execution_count": 41,
      "outputs": []
    },
    {
      "cell_type": "code",
      "source": [
        "#ode to solve an issue from algoritms\n",
        "def to_set_2(x):\n",
        "    try:\n",
        "        if isinstance(x, pd.DataFrame):\n",
        "            return x.apply(to_set_2)\n",
        "        else:\n",
        "            return list(set(x))\n",
        "    except:\n",
        "        pass"
      ],
      "metadata": {
        "id": "-7CoZB8mFCbs"
      },
      "execution_count": 42,
      "outputs": []
    },
    {
      "cell_type": "code",
      "execution_count": 43,
      "metadata": {
        "id": "J87L26YK7FmA"
      },
      "outputs": [],
      "source": [
        "#This is a dictionary of words that may be removed from Company, Manufacture\n",
        "#in order to group manufacture despite of spelling mistakes\n",
        "def formatar_fabricantes(coluna):\n",
        "  remover = [\n",
        "             'fabrica', 'fabricacao', 'manuf', 'tercerizacao', 'manufacturing',\n",
        "             'farmacia', 'farmacias', 'farmaceuticos', 'drogaria','drogarias', 'farm',\n",
        "             'cosmetico', 'cometico','cosmeticos', 'cometicos', 'cosmetics',\n",
        "             'cosmiatria', 'cosmetica', 'cosmeticas', 'cosm', 'cosme', 'kosmetics',\n",
        "             'ltda','epp', 'eireli', 'me', 'eirell', 'sa', 'eir', 'ltd',\n",
        "             'indústria','industria', 'industrias', 'industrial', 'indutrial', 'ind', 'industriae',\n",
        "             'comercio', 'comecio', 'comercial', 'corporation', 'com',\n",
        "             'imp', 'exp',  'prod', 'exportacao','importacao','importadora', 'import',\n",
        "             'do', 'e', 'para', 'de', 'le', 'la',\n",
        "             'do brasil', 'aerossois', 'aerosol', 'aerossol', 'tecnologia',\n",
        "             'laboratorio','laboratorios', 'laboratories', 'laboratoire', 'instituto', 'group',\n",
        "             'pesquisa', 'desenvolvimento', 'naturais', 'professional', 'aromatizantes',\n",
        "             'produtos', 'Produto', 'saneantes', 'quimica', 'quimicos', 'quimico', 'farmaceutica', 'veterinário',\n",
        "             'higiene','pessoal', 'limpeza', 'beleza', 'botanico',\n",
        "             'perfumes','fragrancias', 'perfumaria', 'medicamentos', 'perf',\n",
        "             'distribuidora', 'dist',\n",
        "             'international', 'internacional', 'sulamericana', 'nacional',\n",
        "             'nbsp;', 'veer','serv', 'vajerista',\n",
        "           ]\n",
        "  pat = '\\\\b({})\\\\b'.format('|'.join(remover))\n",
        "  coluna = (\n",
        "    coluna\n",
        "    .apply(unidecode)\n",
        "    .str.lower()\n",
        "    .replace('\\.', ' ',regex=True)\n",
        "    .replace('\\/', '',regex=True)\n",
        "    .replace('\\-', '',regex=True)\n",
        "    .replace(pat,'',regex=True)\n",
        "    .replace(',', '',regex=True)\n",
        "    .replace('\\s+','',regex=True) #Tirar numeros\n",
        "    .str.strip()\n",
        "  )\n",
        "  return coluna"
      ]
    },
    {
      "cell_type": "code",
      "execution_count": 44,
      "metadata": {
        "id": "BgL0yfK7QP0d"
      },
      "outputs": [],
      "source": [
        "#Dis dict clean the name of material\n",
        "def formatar_material(coluna):\n",
        "  remover = ['BELSIL®', 'BELSIL', 'BELSIM',\n",
        "             'DRUM', 'ST', 'PE', 'CANISTER', 'RD', 'CARTON', 'IBC PE', '2', 'WOPAL',\n",
        "             'SBPAL', 'STPAL', 'HOBBOCK', 'SACK', 'BOTTLE',\n",
        "             '0,45KG','10KG','15KG','25KG', '30G', '60G', '100KG', '140KG', '150KG', '160KG',\n",
        "             '180KG', '190KG', '200KG', '210KG', '900KG', '950KG', '190',\n",
        "             'KG', 'AMOSTRA', 'PA', 'XY', 'CP', 'SILICONE ELASTOMER GEL',\n",
        "             'BR', 'DE', ' E', 'BLOCKED',\n",
        "             'EMB. 0,100 KG', 'Ver  Pf 100', 'USP',\n",
        "           ]\n",
        "  pat = '\\\\b({})\\\\b'.format('|'.join(remover))\n",
        "  coluna = (\n",
        "    coluna\n",
        "    .replace(pat,'',regex=True)\n",
        "    .replace('\\#','', regex=True)\n",
        "    .replace('\\\"','', regex=True)\n",
        "    .str.replace('\\/', '',regex=True)\n",
        "    .str.replace('\\-', '',regex=True)\n",
        "    .str.replace('\\*', '',regex=True)\n",
        "    .str.title()\n",
        "    .str.strip()\n",
        "  )\n",
        "  return coluna"
      ]
    },
    {
      "cell_type": "markdown",
      "source": [
        "# Mintel"
      ],
      "metadata": {
        "id": "KSZxw3EnVkEu"
      }
    },
    {
      "cell_type": "markdown",
      "metadata": {
        "id": "3VeM_1iAD1B8"
      },
      "source": [
        "## Define Estados\n"
      ]
    },
    {
      "cell_type": "code",
      "execution_count": 45,
      "metadata": {
        "id": "wEeDnbW8Ga3j"
      },
      "outputs": [],
      "source": [
        "dict = {'AC':'AC', 'AL':'AL', 'AM':'AM', 'AP':'AP', 'BA':'BA', 'CE':'CE', 'DF':'DF', 'ES':'ES', 'GO':'GO', 'MA':'MA',\n",
        "     'MG':'MG', 'MS':'MS', 'MT':'MT', 'PA':'PA', 'PB':'PB', 'PE':'PE', 'PI':'PI', 'PR':'PR', 'RJ':'RJ', 'RN':'RN',\n",
        "     'RO':'RO', 'RR':'RR', 'RS':'RS', 'SC':'SC', 'SE':'SE', 'SP':'SP', 'TO':'TO', 'Sao Paulo':'SP', 'São Paulo':'SP',\n",
        "     'Sao Paolo':'SP','Osasco': 'SP', 'Mogi das Cruzes': 'SP', 'Cotia':'SP', 'Diadema':'SP', 'São Roque':'SP',\n",
        "     'São Sebastião':'SP', 'Lins':'SP', 'Cajamar':'SP', 'Pirassununga':'SP', 'Paulista': 'SP', 'São Paolo':'SP',\n",
        "     'Elisario':'SP', 'Valinhos':'SP', 'Piracaia':'SP', 'São José do Rio Preto':'SP', 'Sao José do Rio Preto':'SP',\n",
        "     'São José dos Campos':'SP',      'Araras':'SP', 'São Bernardo do Campo':'SP', 'São José dos Campos':'SP',\n",
        "     'Sao Caetano do Sul':'SP', 'São José do Rio Preto':'SP', 'Brodowski':'SP', 'Cajuru':'SP', 'Itaquaquecetuba':'SP',\n",
        "     'Itupeva':'SP', 'SO':'SP', 'Mairiporã':'SP', 'Itaquera':'SP', 'Franco da Rocha':'SP', 'Guarulhos':'SP',\n",
        "     'Bairro Jardim America':'SP', 'Jardim Brazil':'SP', 'Agudos':'SP', 'Itapira':'SP', 'Rib. Preto':'SP',\n",
        "     'Rio de Janeiro':'RJ', 'Rio De Janeiro':'RJ', 'Nova Iguaçu': 'RJ', 'Nova Iguacu': 'RJ', 'Nivopolis':'RJ',\n",
        "     'Duque de Caixas':'RJ', 'Engenheiro Pedreira':'RJ',\n",
        "     'Vila Velha':'ES', 'Marechal Floriano':'ES',\n",
        "     'Belo Horizonte':'MG', 'Minas Gerais':'MG', 'Pocos de Caldas':'MG', 'Viçosa':'MG', 'Vicosa':'MG',\n",
        "     'Pouso Alegre': 'MG', 'Uberlândia':'MG', 'Uberlandia':'MG', 'Ipatinga':'MG', 'Mirabela':'MG','Nova Lima':'MG',\n",
        "     'São José da Lapa':'MG', 'Sao José da Lapa':'MG', 'Sao Jose da Lapa':'MG',\n",
        "     'Porto Alegre':'RS', 'Estância Velha': 'RS', 'Caxias do Sul':'RS', 'Passo Fundo':'RS', 'Gravatai':'RS',\n",
        "     'Santa Catarina':'SC', 'Joinville':'SC','Camboriu':'SC', 'Maluche':'SC', 'Araquari':'SC', 'Criciúma': 'SC',\n",
        "     'Criciuma': 'SC',\n",
        "     'Colombo':'PR', 'Paraná':'PR', 'Curitiba':'PR', 'Sao José dos Pinhais':'PR','BR 116 Km 85':'PR', 'Cambé':'PR',\n",
        "     'Goiana':'GO', 'Goiânia':'GO', 'Anápolis':'GO', 'Anapolis':'GO', 'Brasilia': 'DF', 'Go':'GO',\n",
        "     'Rondônia':'RO','Novo Hamburgo':'RO','Manaus':'AM', 'Pará':'PA',\n",
        "     'Bahia':'BA', 'Lauro de Freites': 'BA', 'Av. Queira Deus':'BA', 'Vila Cia Sul':'BA',\n",
        "     'Recife':'PE', 'Camaragibe': 'PE', 'Fortaleza':'CE', 'Ceará':'CE'}"
      ]
    },
    {
      "cell_type": "code",
      "execution_count": 46,
      "metadata": {
        "colab": {
          "base_uri": "https://localhost:8080/"
        },
        "id": "5ZsFzJGhTJyK",
        "outputId": "95f7af13-f6db-44cf-b27d-a49c520343a5"
      },
      "outputs": [
        {
          "output_type": "execute_result",
          "data": {
            "text/plain": [
              "State\n",
              "SP     657\n",
              "NaN    589\n",
              "MG      93\n",
              "RJ      86\n",
              "PR      70\n",
              "RS      54\n",
              "GO      52\n",
              "SC      33\n",
              "CE      18\n",
              "BA      12\n",
              "ES       9\n",
              "PE       9\n",
              "RO       6\n",
              "DF       6\n",
              "AM       2\n",
              "PA       1\n",
              "Name: count, dtype: int64"
            ]
          },
          "metadata": {},
          "execution_count": 46
        }
      ],
      "source": [
        "df_launches['State'] = df_launches['Manufacturer Company Address'].str.extract('('+'|'.join(dict)+')',expand=False).map(dict)\n",
        "#Exibe a quantidade de casos únicos\n",
        "df_launches['State'].value_counts(dropna=False)\n",
        "#Em output se filtra estados vazios"
      ]
    },
    {
      "cell_type": "markdown",
      "metadata": {
        "id": "vn35qqvE365N"
      },
      "source": [
        "## Search dictOTHERS words in the ingredient, in order to identify cases where the words occure."
      ]
    },
    {
      "cell_type": "code",
      "execution_count": 47,
      "metadata": {
        "id": "NitdJrkZ4AAI"
      },
      "outputs": [],
      "source": [
        "#Dicionário Silicones geral\n",
        "dictOTHERS = {'methicone':'1', 'Dimethicone':'1','methicone Crosspolymer':'1','methiconol':'1',\n",
        "              'ylsiloxysilicate':'1', 'ylsilsesquioxane':'1', 'Disiloxane':'1', 'Silica':'1','siloxane':'1'}"
      ]
    },
    {
      "cell_type": "code",
      "execution_count": 49,
      "metadata": {
        "id": "wndnsH7K4Ei-"
      },
      "outputs": [],
      "source": [
        "df_launches['Silicone'] = df_launches['Ingredients (Standard form)'].str.extract('('+'|'.join(dictOTHERS)+')',expand=False).map(dictOTHERS)"
      ]
    },
    {
      "cell_type": "markdown",
      "source": [
        "##Search \"Free From\"\n"
      ],
      "metadata": {
        "id": "JVXtBfRl6Xkc"
      }
    },
    {
      "cell_type": "code",
      "source": [
        "dictSil = {'Silicone':'1'}"
      ],
      "metadata": {
        "id": "Bni5i_oTSOnL"
      },
      "execution_count": 50,
      "outputs": []
    },
    {
      "cell_type": "code",
      "source": [
        "df_launches['Free from'] = df_launches['Free from'].str.extract('('+'|'.join(dictSil)+')',expand=False).map(dictSil)"
      ],
      "metadata": {
        "id": "6VRYGUb46W3q"
      },
      "execution_count": 51,
      "outputs": []
    },
    {
      "cell_type": "markdown",
      "metadata": {
        "id": "n5nfkYcz3wwd"
      },
      "source": [
        "## Search ingredients and identify products that mache INCI\n",
        "\n"
      ]
    },
    {
      "cell_type": "code",
      "execution_count": 52,
      "metadata": {
        "id": "ti4plJC7iprg"
      },
      "outputs": [],
      "source": [
        "df_inci.dropna(inplace=True)\n",
        "df_inci['Produto'] = formatar_material(df_inci['Produto'])"
      ]
    },
    {
      "cell_type": "code",
      "execution_count": 53,
      "metadata": {
        "id": "c9emFW0KhhCR"
      },
      "outputs": [],
      "source": [
        "#Cria uma lista iterável dos ingredientes nos Produtos\n",
        "df_inci['Ing'] = formatar_material(df_inci['Ingrediente']).str.split(', ').apply(set)"
      ]
    },
    {
      "cell_type": "code",
      "execution_count": 54,
      "metadata": {
        "id": "MbmbbpwXON7n"
      },
      "outputs": [],
      "source": [
        "#Conta a quantidade de ingredientes\n",
        "df_inci.sort_values('Prioridade', ascending=True, inplace=True)"
      ]
    },
    {
      "cell_type": "code",
      "execution_count": 55,
      "metadata": {
        "id": "gbHWJuxUovNV"
      },
      "outputs": [],
      "source": [
        " #Dicionário de palavras a remover da coluna Ingredientes no Mintel\n",
        " dictIng={' Andor ':',',\n",
        "          ', ':',',\n",
        "          ' ,':',',\n",
        "          ' (And) ':',',\n",
        "          }"
      ]
    },
    {
      "cell_type": "code",
      "execution_count": 56,
      "metadata": {
        "id": "KBOE6Nl3jFt2"
      },
      "outputs": [],
      "source": [
        "#Cria uma lista iterável das formulas do mintel\n",
        "df_launches['Ingredients (Standard form)'] = df_launches['Ingredients (Standard form)'].astype(str)\n",
        "df_launches['Ing'] = formatar_material(df_launches['Ingredients (Standard form)']).replace(dictIng,regex=True).dropna().str.split(',').apply(set)"
      ]
    },
    {
      "cell_type": "code",
      "execution_count": 57,
      "metadata": {
        "id": "-nHUMNVCR52m"
      },
      "outputs": [],
      "source": [
        "#Aplica a função Procura Produtos\n",
        "df_launches[''] = df_launches['Ing'].apply(lambda formulacao:procura_produtos(formulacao, df_inci['Ing'], df_inci['Produto']))"
      ]
    },
    {
      "cell_type": "markdown",
      "metadata": {
        "id": "ZUcdV8gzAfYI"
      },
      "source": [
        "## Remover Clientes  da planilha Mintel\n"
      ]
    },
    {
      "cell_type": "code",
      "execution_count": 58,
      "metadata": {
        "id": "OgG0Y6yYAlwX"
      },
      "outputs": [],
      "source": [
        "dictClientes = {'Devintex Cosméticos':'1', 'Devintex':'1','Procosa Produtos de Beleza':'1', 'Colgate-Palmolive':'1', 'Unilever':'1',\n",
        "                'Savoy Indústria de Cosméticos':'1', 'Beiersdorf':'1', 'Johnson & Johnson':'1',\n",
        "                'Procter & Gamble':'1','Química Amparo':'1', \"Oréal\":'1', 'Procosa':'1',\n",
        "                'Unilever Brasil Industrial':'1', 'Botica Comercial Farmacêutica':'1'}\n",
        "dictMarcas = { 'Boticário':'1', 'Siàge':'1', 'Natura ':'1', 'Avon ':'1', 'Eudora':'1',\n",
        "              'Wella':'1', 'The Body Shop':'1', 'Quem Disse,':'1', 'Salon Line':'1', 'Maybelline':'1'}\n",
        "df_launches['Clientes']= df_launches['Manufacturer'].str.extract('('+'|'.join(dictClientes)+')',expand=False).map(dictClientes)\n",
        "df_launches['Clientes2'] = df_launches['Brand'].str.extract('('+'|'.join(dictMarcas)+')',expand=False).map(dictMarcas)\n",
        "df_ = df_launches[df_launches['Clientes']=='1']\n",
        "df_ = df_[df_['Clientes2']=='1']\n",
        "df_.to_excel(\"LancClientes.xlsx\")"
      ]
    },
    {
      "cell_type": "code",
      "source": [
        "#Remove clientes  da base de tratamento\n",
        "df_launches = df_launches[df_launches['Clientes']!='1']\n",
        "df_launches = df_launches[df_launches['Clientes2']!='1']"
      ],
      "metadata": {
        "id": "lLAvvmWs8qn3"
      },
      "execution_count": 59,
      "outputs": []
    },
    {
      "cell_type": "markdown",
      "source": [
        "## Cria Indice para junção"
      ],
      "metadata": {
        "id": "Sizzlpaf9lcJ"
      }
    },
    {
      "cell_type": "code",
      "execution_count": 60,
      "metadata": {
        "id": "prY-tdyVEQzr"
      },
      "outputs": [],
      "source": [
        "df_launches.set_index(['Record ID'])\n",
        "df_launches['Date Published'] = pd.to_datetime(df_launches['Date Published'], format='%Y-%m-%d')\n",
        "df_launches['Quarter'] = df_launches['Date Published'].dt.quarter\n",
        "df_launches['Year'] = df_launches['Date Published'].dt.year"
      ]
    },
    {
      "cell_type": "code",
      "execution_count": 61,
      "metadata": {
        "id": "uTOH0pWXEQz0"
      },
      "outputs": [],
      "source": [
        "#Cria a coluna que irá indexar a mistura com a planilha do mintel\n",
        "df_launches['Manufacturer']=df_launches['Manufacturer'].astype(str)\n",
        "df_launches['KeyManuf'] = formatar_fabricantes(df_launches['Manufacturer'])"
      ]
    },
    {
      "cell_type": "markdown",
      "metadata": {
        "id": "7xSvsWdw_a3b"
      },
      "source": [
        "## Report: Lauches with Identified Material"
      ]
    },
    {
      "cell_type": "code",
      "source": [
        "df_launches.columns"
      ],
      "metadata": {
        "colab": {
          "base_uri": "https://localhost:8080/"
        },
        "id": "_YICh5-NCg07",
        "outputId": "06e7dfd6-067b-4b2b-df6b-10843d975e30"
      },
      "execution_count": 62,
      "outputs": [
        {
          "output_type": "execute_result",
          "data": {
            "text/plain": [
              "Index(['Record ID', 'Date Published', 'Product', 'Brand', 'Company', 'Market',\n",
              "       'Category', 'Sub-Category', 'Product Description', 'Launch Type',\n",
              "       'Manufacturer', 'Location of Manufacture',\n",
              "       'Manufacturer Company Address', 'Ingredients (Standard form)',\n",
              "       'Price in local currency', 'Primary Image Link', 'Pet', 'Convenience',\n",
              "       'Minus', 'Functional', 'Natural', 'Plus', 'Positioning', 'Suitable for',\n",
              "       'Demographic', 'Free from', 'Beauty enhancing',\n",
              "       'Ethical & environmental', 'Product tested', 'State', 'Silicone', 'Ing',\n",
              "       '', 'Clientes', 'Clientes2', 'Quarter', 'Year', 'KeyManuf'],\n",
              "      dtype='object')"
            ]
          },
          "metadata": {},
          "execution_count": 62
        }
      ]
    },
    {
      "cell_type": "code",
      "execution_count": 63,
      "metadata": {
        "id": "CJNvGzmRwKxW"
      },
      "outputs": [],
      "source": [
        "col=['Quarter','Sub-Category', 'Product', 'Brand', 'Company', 'Manufacturer', 'State', 'Free from', 'Price in local currency',\n",
        "     'Silicone', '', 'Ing', 'Manufacturer Company Address',]"
      ]
    },
    {
      "cell_type": "code",
      "execution_count": 64,
      "metadata": {
        "id": "RFmNqS0N0wnN"
      },
      "outputs": [],
      "source": [
        "df_launches[col].to_excel(\"Lancamentos Linha a Linha.xlsx\")"
      ]
    },
    {
      "cell_type": "markdown",
      "source": [
        "## Generate a Reports on Manufacture activities"
      ],
      "metadata": {
        "id": "ZO6UQ6CVw1kK"
      }
    },
    {
      "cell_type": "code",
      "source": [
        "transpor(df_launches, 'Category', '')"
      ],
      "metadata": {
        "id": "Y7io3HSHy8HD"
      },
      "execution_count": 65,
      "outputs": []
    },
    {
      "cell_type": "code",
      "source": [
        "#renomeia coluna categoria\n",
        "df_launches.rename(columns={'Skincare':'Skin', 'Hair Products':'Hair',\n",
        "                          'Soap & Bath Products':'Bath', 'Record ID': 'Total Lançamentos'},\n",
        "                 inplace=True)"
      ],
      "metadata": {
        "id": "k84Zt9iv5XWw"
      },
      "execution_count": 66,
      "outputs": []
    },
    {
      "cell_type": "code",
      "source": [
        "#Conta numero de lançamentos\n",
        "df_a = df_launches.groupby(['KeyManuf', 'State'])[['Hair', 'Skin', 'Colour Cosmetics', 'Bath']].apply(to_set)"
      ],
      "metadata": {
        "id": "JVTlLS-dykF_"
      },
      "execution_count": 67,
      "outputs": []
    },
    {
      "cell_type": "code",
      "source": [
        "df_b = df_launches.groupby(['KeyManuf', 'State']).agg({\n",
        "                                            'Total Lançamentos': 'count',\n",
        "                                             'Silicone':'count',\n",
        "                                             'Free from':'count',\n",
        "                                             })"
      ],
      "metadata": {
        "id": "0XbVBHRaEw9C"
      },
      "execution_count": 68,
      "outputs": []
    },
    {
      "cell_type": "code",
      "source": [
        "df_launches_fab = pd.concat([df_a, df_b], axis=1).reset_index()"
      ],
      "metadata": {
        "id": "THGwvPIsyqx1"
      },
      "execution_count": 69,
      "outputs": []
    },
    {
      "cell_type": "code",
      "source": [
        "df_launches_fab.to_excel('Manufacturer x Project Status.xlsx')"
      ],
      "metadata": {
        "id": "5esinVdynt5R"
      },
      "execution_count": 70,
      "outputs": []
    },
    {
      "cell_type": "code",
      "source": [
        "df_b.to_excel('Manufacture Lauches.xlsx')"
      ],
      "metadata": {
        "id": "z7KAnVuSAMM-"
      },
      "execution_count": 71,
      "outputs": []
    },
    {
      "cell_type": "markdown",
      "metadata": {
        "id": "WkJ3duNN6K0g"
      },
      "source": [
        "# Prepare Sales Report"
      ]
    },
    {
      "cell_type": "code",
      "execution_count": 72,
      "metadata": {
        "id": "_llMEftfSnxW"
      },
      "outputs": [],
      "source": [
        "#Garantir que apenas serão considerados os clientes com vendas\n",
        "df_dist['Year'].dropna(inplace=True)"
      ]
    },
    {
      "cell_type": "code",
      "execution_count": 73,
      "metadata": {
        "id": "PJ4XnBjd8x0t"
      },
      "outputs": [],
      "source": [
        "df_dist['Material']= formatar_material(df_dist['Material'])\n",
        "df_dist['Material'] = df_dist['Material'].astype(str)"
      ]
    },
    {
      "cell_type": "code",
      "execution_count": 74,
      "metadata": {
        "id": "YyeRjtvJgIIx"
      },
      "outputs": [],
      "source": [
        "df_dist['KeyManuf'] = formatar_fabricantes(df_dist['Customer(at distrib)'])"
      ]
    },
    {
      "cell_type": "code",
      "execution_count": 75,
      "metadata": {
        "id": "Iu0a-l3hLHKE"
      },
      "outputs": [],
      "source": [
        "#agrupo os produtos em uma lista, por cliente\n",
        "df_dist_unic = df_dist.groupby(['KeyManuf','Distributor']).agg({'Year':'sum','Material':lambda x:list(set(x))}).reset_index()"
      ]
    },
    {
      "cell_type": "code",
      "execution_count": 76,
      "metadata": {
        "id": "uc1E9IoecmcM"
      },
      "outputs": [],
      "source": [
        "df_dist_unic['Material'] = df_dist_unic['Material'].apply(set)\n",
        "df_dist_unic.rename(columns={'Material': 'Sales'}, inplace=True)"
      ]
    },
    {
      "cell_type": "code",
      "source": [
        "df_dist_unic.drop_duplicates(subset=['KeyManuf', 'Distributor'], keep='first', inplace=True)"
      ],
      "metadata": {
        "id": "30Y-3UBjwpED"
      },
      "execution_count": 77,
      "outputs": []
    },
    {
      "cell_type": "markdown",
      "metadata": {
        "id": "W_FXVv4o_a3U"
      },
      "source": [
        "# Prepare Project Report"
      ]
    },
    {
      "cell_type": "code",
      "execution_count": 78,
      "metadata": {
        "id": "EVINAc6__a3W"
      },
      "outputs": [],
      "source": [
        "#O nome do material deve estar em formato padrão\n",
        "df_proj['Material']= formatar_material(df_proj['Material'])"
      ]
    },
    {
      "cell_type": "code",
      "source": [
        "#força coluna virar string\n",
        "df_proj['Customer'] = df_proj['Customer'].astype(str)"
      ],
      "metadata": {
        "id": "lAqRIMGbHG_A"
      },
      "execution_count": 79,
      "outputs": []
    },
    {
      "cell_type": "code",
      "execution_count": 80,
      "metadata": {
        "id": "RtxilQLf_a3X"
      },
      "outputs": [],
      "source": [
        "#remove palavras chave\n",
        "df_proj['KeyManuf'] = formatar_fabricantes(df_proj['Customer'])"
      ]
    },
    {
      "cell_type": "code",
      "execution_count": 81,
      "metadata": {
        "id": "XyRak-ppIKtG"
      },
      "outputs": [],
      "source": [
        "#agrupo todos os produtos em projeto em uma lista, por cliente\n",
        "df_proj_unic = df_proj.groupby(['KeyManuf','Distributor']).agg({'Material':lambda x:list(set(x))}).reset_index()"
      ]
    },
    {
      "cell_type": "code",
      "execution_count": 82,
      "metadata": {
        "id": "3Khm7h8mIKtH"
      },
      "outputs": [],
      "source": [
        "#Seta lista acima iterável, e modifica nome de coluna\n",
        "df_proj_unic['Material'] = df_proj_unic['Material'].apply(set)\n",
        "df_proj_unic.rename(columns={'Material': 'Project'}, inplace=True)"
      ]
    },
    {
      "cell_type": "code",
      "source": [
        "#remove duplicados\n",
        "df_proj_unic = df_proj_unic.drop_duplicates(subset=['KeyManuf', 'Distributor'], keep='first', inplace=True)"
      ],
      "metadata": {
        "id": "F6RIl-KeIKtI"
      },
      "execution_count": 89,
      "outputs": []
    },
    {
      "cell_type": "markdown",
      "source": [
        "# Group report Sales and Project"
      ],
      "metadata": {
        "id": "YMJh6C7A8tOy"
      }
    },
    {
      "cell_type": "markdown",
      "source": [
        "**#Ainda não funciona**"
      ],
      "metadata": {
        "id": "ktLsYSM-9UPS"
      }
    },
    {
      "cell_type": "code",
      "source": [
        "df_proj_vend = df_proj_unic.merge(df_dist_unic, on=['KeyManuf', 'Distributor'], how='left')\n",
        "df_vend_proj = df_dist_unic.merge(df_proj_unic, on=['KeyManuf', 'Distributor'], how='left')"
      ],
      "metadata": {
        "id": "QqvtL3sq8tOz"
      },
      "execution_count": 84,
      "outputs": []
    },
    {
      "cell_type": "code",
      "source": [
        "df_proj_vend.to_excel('Projetos com Vendas.xlsx')\n",
        "df_vend_proj.to_excel('Vendas com Projetos.xlsx')"
      ],
      "metadata": {
        "id": "DQf-OCRw84dx"
      },
      "execution_count": 85,
      "outputs": []
    },
    {
      "cell_type": "markdown",
      "source": [
        "# Group all reports"
      ],
      "metadata": {
        "id": "X4Fjc-WYxeS9"
      }
    },
    {
      "cell_type": "code",
      "source": [
        "df_launches_vend_proj = df_launches_fab.merge(df_vend_proj, on='KeyManuf', how='left')"
      ],
      "metadata": {
        "id": "o177mmdCsnd7"
      },
      "execution_count": 86,
      "outputs": []
    },
    {
      "cell_type": "code",
      "source": [
        "df_launches_vend_proj.rename(columns={'': ' Prod Poss','Customer(at distrib)':'Customer Sales','Distributor':'Dist. Sales',\n",
        "                                    'Sales': 'Prod Sales','Year': 'Sales Volume', 'Customer': 'Customer Proj Fab',\n",
        "                                    'Distributor':'Dist Proj Fab', 'Project':'Prod Proj Fab',\n",
        "                                    'Fase':'Fase Proj Fab',\n",
        "                                         },\n",
        "                                inplace=True)"
      ],
      "metadata": {
        "id": "gwt42SOKI5OI"
      },
      "execution_count": 87,
      "outputs": []
    },
    {
      "cell_type": "markdown",
      "source": [
        "# Generate a Report will all information"
      ],
      "metadata": {
        "id": "oPQqKFgIM6N0"
      }
    },
    {
      "cell_type": "code",
      "source": [
        "df_launches_vend_proj.to_excel('Final.xlsx')"
      ],
      "metadata": {
        "id": "IpyGwO1d_76A"
      },
      "execution_count": 88,
      "outputs": []
    }
  ],
  "metadata": {
    "colab": {
      "provenance": [],
      "include_colab_link": true
    },
    "kernelspec": {
      "display_name": "Python 3",
      "name": "python3"
    },
    "language_info": {
      "name": "python"
    }
  },
  "nbformat": 4,
  "nbformat_minor": 0
}