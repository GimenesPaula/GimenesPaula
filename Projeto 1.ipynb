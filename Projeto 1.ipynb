{
  "cells": [
    {
      "cell_type": "markdown",
      "metadata": {
        "id": "vVjUgiszCybk"
      },
      "source": [
        "# Fazer Upload planilhas\n",
        "1.   Mintel\n",
        "2.   Inci Produtos WACKER\n",
        "3.   Vendas Distribuidor\n",
        "4.   Projetos Distribuidor"
      ]
    },
    {
      "cell_type": "code",
      "execution_count": 1,
      "metadata": {
        "colab": {
          "base_uri": "https://localhost:8080/",
          "height": 90
        },
        "id": "AyFbHvz1mw8q",
        "outputId": "c1ae4c56-012b-412c-cb6f-1bc1d646a025"
      },
      "outputs": [
        {
          "output_type": "display_data",
          "data": {
            "text/plain": [
              "<IPython.core.display.HTML object>"
            ],
            "text/html": [
              "\n",
              "     <input type=\"file\" id=\"files-513db346-fb84-493c-adf9-264959455f06\" name=\"files[]\" multiple disabled\n",
              "        style=\"border:none\" />\n",
              "     <output id=\"result-513db346-fb84-493c-adf9-264959455f06\">\n",
              "      Upload widget is only available when the cell has been executed in the\n",
              "      current browser session. Please rerun this cell to enable.\n",
              "      </output>\n",
              "      <script>// Copyright 2017 Google LLC\n",
              "//\n",
              "// Licensed under the Apache License, Version 2.0 (the \"License\");\n",
              "// you may not use this file except in compliance with the License.\n",
              "// You may obtain a copy of the License at\n",
              "//\n",
              "//      http://www.apache.org/licenses/LICENSE-2.0\n",
              "//\n",
              "// Unless required by applicable law or agreed to in writing, software\n",
              "// distributed under the License is distributed on an \"AS IS\" BASIS,\n",
              "// WITHOUT WARRANTIES OR CONDITIONS OF ANY KIND, either express or implied.\n",
              "// See the License for the specific language governing permissions and\n",
              "// limitations under the License.\n",
              "\n",
              "/**\n",
              " * @fileoverview Helpers for google.colab Python module.\n",
              " */\n",
              "(function(scope) {\n",
              "function span(text, styleAttributes = {}) {\n",
              "  const element = document.createElement('span');\n",
              "  element.textContent = text;\n",
              "  for (const key of Object.keys(styleAttributes)) {\n",
              "    element.style[key] = styleAttributes[key];\n",
              "  }\n",
              "  return element;\n",
              "}\n",
              "\n",
              "// Max number of bytes which will be uploaded at a time.\n",
              "const MAX_PAYLOAD_SIZE = 100 * 1024;\n",
              "\n",
              "function _uploadFiles(inputId, outputId) {\n",
              "  const steps = uploadFilesStep(inputId, outputId);\n",
              "  const outputElement = document.getElementById(outputId);\n",
              "  // Cache steps on the outputElement to make it available for the next call\n",
              "  // to uploadFilesContinue from Python.\n",
              "  outputElement.steps = steps;\n",
              "\n",
              "  return _uploadFilesContinue(outputId);\n",
              "}\n",
              "\n",
              "// This is roughly an async generator (not supported in the browser yet),\n",
              "// where there are multiple asynchronous steps and the Python side is going\n",
              "// to poll for completion of each step.\n",
              "// This uses a Promise to block the python side on completion of each step,\n",
              "// then passes the result of the previous step as the input to the next step.\n",
              "function _uploadFilesContinue(outputId) {\n",
              "  const outputElement = document.getElementById(outputId);\n",
              "  const steps = outputElement.steps;\n",
              "\n",
              "  const next = steps.next(outputElement.lastPromiseValue);\n",
              "  return Promise.resolve(next.value.promise).then((value) => {\n",
              "    // Cache the last promise value to make it available to the next\n",
              "    // step of the generator.\n",
              "    outputElement.lastPromiseValue = value;\n",
              "    return next.value.response;\n",
              "  });\n",
              "}\n",
              "\n",
              "/**\n",
              " * Generator function which is called between each async step of the upload\n",
              " * process.\n",
              " * @param {string} inputId Element ID of the input file picker element.\n",
              " * @param {string} outputId Element ID of the output display.\n",
              " * @return {!Iterable<!Object>} Iterable of next steps.\n",
              " */\n",
              "function* uploadFilesStep(inputId, outputId) {\n",
              "  const inputElement = document.getElementById(inputId);\n",
              "  inputElement.disabled = false;\n",
              "\n",
              "  const outputElement = document.getElementById(outputId);\n",
              "  outputElement.innerHTML = '';\n",
              "\n",
              "  const pickedPromise = new Promise((resolve) => {\n",
              "    inputElement.addEventListener('change', (e) => {\n",
              "      resolve(e.target.files);\n",
              "    });\n",
              "  });\n",
              "\n",
              "  const cancel = document.createElement('button');\n",
              "  inputElement.parentElement.appendChild(cancel);\n",
              "  cancel.textContent = 'Cancel upload';\n",
              "  const cancelPromise = new Promise((resolve) => {\n",
              "    cancel.onclick = () => {\n",
              "      resolve(null);\n",
              "    };\n",
              "  });\n",
              "\n",
              "  // Wait for the user to pick the files.\n",
              "  const files = yield {\n",
              "    promise: Promise.race([pickedPromise, cancelPromise]),\n",
              "    response: {\n",
              "      action: 'starting',\n",
              "    }\n",
              "  };\n",
              "\n",
              "  cancel.remove();\n",
              "\n",
              "  // Disable the input element since further picks are not allowed.\n",
              "  inputElement.disabled = true;\n",
              "\n",
              "  if (!files) {\n",
              "    return {\n",
              "      response: {\n",
              "        action: 'complete',\n",
              "      }\n",
              "    };\n",
              "  }\n",
              "\n",
              "  for (const file of files) {\n",
              "    const li = document.createElement('li');\n",
              "    li.append(span(file.name, {fontWeight: 'bold'}));\n",
              "    li.append(span(\n",
              "        `(${file.type || 'n/a'}) - ${file.size} bytes, ` +\n",
              "        `last modified: ${\n",
              "            file.lastModifiedDate ? file.lastModifiedDate.toLocaleDateString() :\n",
              "                                    'n/a'} - `));\n",
              "    const percent = span('0% done');\n",
              "    li.appendChild(percent);\n",
              "\n",
              "    outputElement.appendChild(li);\n",
              "\n",
              "    const fileDataPromise = new Promise((resolve) => {\n",
              "      const reader = new FileReader();\n",
              "      reader.onload = (e) => {\n",
              "        resolve(e.target.result);\n",
              "      };\n",
              "      reader.readAsArrayBuffer(file);\n",
              "    });\n",
              "    // Wait for the data to be ready.\n",
              "    let fileData = yield {\n",
              "      promise: fileDataPromise,\n",
              "      response: {\n",
              "        action: 'continue',\n",
              "      }\n",
              "    };\n",
              "\n",
              "    // Use a chunked sending to avoid message size limits. See b/62115660.\n",
              "    let position = 0;\n",
              "    do {\n",
              "      const length = Math.min(fileData.byteLength - position, MAX_PAYLOAD_SIZE);\n",
              "      const chunk = new Uint8Array(fileData, position, length);\n",
              "      position += length;\n",
              "\n",
              "      const base64 = btoa(String.fromCharCode.apply(null, chunk));\n",
              "      yield {\n",
              "        response: {\n",
              "          action: 'append',\n",
              "          file: file.name,\n",
              "          data: base64,\n",
              "        },\n",
              "      };\n",
              "\n",
              "      let percentDone = fileData.byteLength === 0 ?\n",
              "          100 :\n",
              "          Math.round((position / fileData.byteLength) * 100);\n",
              "      percent.textContent = `${percentDone}% done`;\n",
              "\n",
              "    } while (position < fileData.byteLength);\n",
              "  }\n",
              "\n",
              "  // All done.\n",
              "  yield {\n",
              "    response: {\n",
              "      action: 'complete',\n",
              "    }\n",
              "  };\n",
              "}\n",
              "\n",
              "scope.google = scope.google || {};\n",
              "scope.google.colab = scope.google.colab || {};\n",
              "scope.google.colab._files = {\n",
              "  _uploadFiles,\n",
              "  _uploadFilesContinue,\n",
              "};\n",
              "})(self);\n",
              "</script> "
            ]
          },
          "metadata": {}
        },
        {
          "output_type": "stream",
          "name": "stdout",
          "text": [
            "Saving Q1-2023-Cosmeticos.xlsx to Q1-2023-Cosmeticos.xlsx\n"
          ]
        }
      ],
      "source": [
        "#Mintel\n",
        "from google.colab import files\n",
        "uploaded = files.upload()"
      ]
    },
    {
      "cell_type": "code",
      "execution_count": 2,
      "metadata": {
        "id": "Igi2-PETU4sg"
      },
      "outputs": [],
      "source": [
        "filename = next(iter(uploaded))"
      ]
    },
    {
      "cell_type": "code",
      "execution_count": 3,
      "metadata": {
        "id": "lB3QSzOoTf86",
        "colab": {
          "base_uri": "https://localhost:8080/",
          "height": 73
        },
        "outputId": "42dcfde3-cb8d-4638-afa2-cf133b6b4c34"
      },
      "outputs": [
        {
          "output_type": "display_data",
          "data": {
            "text/plain": [
              "<IPython.core.display.HTML object>"
            ],
            "text/html": [
              "\n",
              "     <input type=\"file\" id=\"files-ffec0c39-a34d-40ae-b5a1-427129861da7\" name=\"files[]\" multiple disabled\n",
              "        style=\"border:none\" />\n",
              "     <output id=\"result-ffec0c39-a34d-40ae-b5a1-427129861da7\">\n",
              "      Upload widget is only available when the cell has been executed in the\n",
              "      current browser session. Please rerun this cell to enable.\n",
              "      </output>\n",
              "      <script>// Copyright 2017 Google LLC\n",
              "//\n",
              "// Licensed under the Apache License, Version 2.0 (the \"License\");\n",
              "// you may not use this file except in compliance with the License.\n",
              "// You may obtain a copy of the License at\n",
              "//\n",
              "//      http://www.apache.org/licenses/LICENSE-2.0\n",
              "//\n",
              "// Unless required by applicable law or agreed to in writing, software\n",
              "// distributed under the License is distributed on an \"AS IS\" BASIS,\n",
              "// WITHOUT WARRANTIES OR CONDITIONS OF ANY KIND, either express or implied.\n",
              "// See the License for the specific language governing permissions and\n",
              "// limitations under the License.\n",
              "\n",
              "/**\n",
              " * @fileoverview Helpers for google.colab Python module.\n",
              " */\n",
              "(function(scope) {\n",
              "function span(text, styleAttributes = {}) {\n",
              "  const element = document.createElement('span');\n",
              "  element.textContent = text;\n",
              "  for (const key of Object.keys(styleAttributes)) {\n",
              "    element.style[key] = styleAttributes[key];\n",
              "  }\n",
              "  return element;\n",
              "}\n",
              "\n",
              "// Max number of bytes which will be uploaded at a time.\n",
              "const MAX_PAYLOAD_SIZE = 100 * 1024;\n",
              "\n",
              "function _uploadFiles(inputId, outputId) {\n",
              "  const steps = uploadFilesStep(inputId, outputId);\n",
              "  const outputElement = document.getElementById(outputId);\n",
              "  // Cache steps on the outputElement to make it available for the next call\n",
              "  // to uploadFilesContinue from Python.\n",
              "  outputElement.steps = steps;\n",
              "\n",
              "  return _uploadFilesContinue(outputId);\n",
              "}\n",
              "\n",
              "// This is roughly an async generator (not supported in the browser yet),\n",
              "// where there are multiple asynchronous steps and the Python side is going\n",
              "// to poll for completion of each step.\n",
              "// This uses a Promise to block the python side on completion of each step,\n",
              "// then passes the result of the previous step as the input to the next step.\n",
              "function _uploadFilesContinue(outputId) {\n",
              "  const outputElement = document.getElementById(outputId);\n",
              "  const steps = outputElement.steps;\n",
              "\n",
              "  const next = steps.next(outputElement.lastPromiseValue);\n",
              "  return Promise.resolve(next.value.promise).then((value) => {\n",
              "    // Cache the last promise value to make it available to the next\n",
              "    // step of the generator.\n",
              "    outputElement.lastPromiseValue = value;\n",
              "    return next.value.response;\n",
              "  });\n",
              "}\n",
              "\n",
              "/**\n",
              " * Generator function which is called between each async step of the upload\n",
              " * process.\n",
              " * @param {string} inputId Element ID of the input file picker element.\n",
              " * @param {string} outputId Element ID of the output display.\n",
              " * @return {!Iterable<!Object>} Iterable of next steps.\n",
              " */\n",
              "function* uploadFilesStep(inputId, outputId) {\n",
              "  const inputElement = document.getElementById(inputId);\n",
              "  inputElement.disabled = false;\n",
              "\n",
              "  const outputElement = document.getElementById(outputId);\n",
              "  outputElement.innerHTML = '';\n",
              "\n",
              "  const pickedPromise = new Promise((resolve) => {\n",
              "    inputElement.addEventListener('change', (e) => {\n",
              "      resolve(e.target.files);\n",
              "    });\n",
              "  });\n",
              "\n",
              "  const cancel = document.createElement('button');\n",
              "  inputElement.parentElement.appendChild(cancel);\n",
              "  cancel.textContent = 'Cancel upload';\n",
              "  const cancelPromise = new Promise((resolve) => {\n",
              "    cancel.onclick = () => {\n",
              "      resolve(null);\n",
              "    };\n",
              "  });\n",
              "\n",
              "  // Wait for the user to pick the files.\n",
              "  const files = yield {\n",
              "    promise: Promise.race([pickedPromise, cancelPromise]),\n",
              "    response: {\n",
              "      action: 'starting',\n",
              "    }\n",
              "  };\n",
              "\n",
              "  cancel.remove();\n",
              "\n",
              "  // Disable the input element since further picks are not allowed.\n",
              "  inputElement.disabled = true;\n",
              "\n",
              "  if (!files) {\n",
              "    return {\n",
              "      response: {\n",
              "        action: 'complete',\n",
              "      }\n",
              "    };\n",
              "  }\n",
              "\n",
              "  for (const file of files) {\n",
              "    const li = document.createElement('li');\n",
              "    li.append(span(file.name, {fontWeight: 'bold'}));\n",
              "    li.append(span(\n",
              "        `(${file.type || 'n/a'}) - ${file.size} bytes, ` +\n",
              "        `last modified: ${\n",
              "            file.lastModifiedDate ? file.lastModifiedDate.toLocaleDateString() :\n",
              "                                    'n/a'} - `));\n",
              "    const percent = span('0% done');\n",
              "    li.appendChild(percent);\n",
              "\n",
              "    outputElement.appendChild(li);\n",
              "\n",
              "    const fileDataPromise = new Promise((resolve) => {\n",
              "      const reader = new FileReader();\n",
              "      reader.onload = (e) => {\n",
              "        resolve(e.target.result);\n",
              "      };\n",
              "      reader.readAsArrayBuffer(file);\n",
              "    });\n",
              "    // Wait for the data to be ready.\n",
              "    let fileData = yield {\n",
              "      promise: fileDataPromise,\n",
              "      response: {\n",
              "        action: 'continue',\n",
              "      }\n",
              "    };\n",
              "\n",
              "    // Use a chunked sending to avoid message size limits. See b/62115660.\n",
              "    let position = 0;\n",
              "    do {\n",
              "      const length = Math.min(fileData.byteLength - position, MAX_PAYLOAD_SIZE);\n",
              "      const chunk = new Uint8Array(fileData, position, length);\n",
              "      position += length;\n",
              "\n",
              "      const base64 = btoa(String.fromCharCode.apply(null, chunk));\n",
              "      yield {\n",
              "        response: {\n",
              "          action: 'append',\n",
              "          file: file.name,\n",
              "          data: base64,\n",
              "        },\n",
              "      };\n",
              "\n",
              "      let percentDone = fileData.byteLength === 0 ?\n",
              "          100 :\n",
              "          Math.round((position / fileData.byteLength) * 100);\n",
              "      percent.textContent = `${percentDone}% done`;\n",
              "\n",
              "    } while (position < fileData.byteLength);\n",
              "  }\n",
              "\n",
              "  // All done.\n",
              "  yield {\n",
              "    response: {\n",
              "      action: 'complete',\n",
              "    }\n",
              "  };\n",
              "}\n",
              "\n",
              "scope.google = scope.google || {};\n",
              "scope.google.colab = scope.google.colab || {};\n",
              "scope.google.colab._files = {\n",
              "  _uploadFiles,\n",
              "  _uploadFilesContinue,\n",
              "};\n",
              "})(self);\n",
              "</script> "
            ]
          },
          "metadata": {}
        },
        {
          "output_type": "stream",
          "name": "stdout",
          "text": [
            "Saving inci.xlsx to inci.xlsx\n"
          ]
        }
      ],
      "source": [
        "# INCI name produtos WACKER\n",
        "from google.colab import files\n",
        "inci = files.upload()"
      ]
    },
    {
      "cell_type": "code",
      "execution_count": 4,
      "metadata": {
        "id": "jlNGmhCHUWCd"
      },
      "outputs": [],
      "source": [
        "filename2 = next(iter(inci))"
      ]
    },
    {
      "cell_type": "code",
      "execution_count": 5,
      "metadata": {
        "id": "fHn40Bxeyxda",
        "colab": {
          "base_uri": "https://localhost:8080/",
          "height": 73
        },
        "outputId": "abcfe700-1245-4f0a-896f-60d70b99c7dd"
      },
      "outputs": [
        {
          "output_type": "display_data",
          "data": {
            "text/plain": [
              "<IPython.core.display.HTML object>"
            ],
            "text/html": [
              "\n",
              "     <input type=\"file\" id=\"files-0e51bb6e-466c-4a57-a7ed-941ba6d49d89\" name=\"files[]\" multiple disabled\n",
              "        style=\"border:none\" />\n",
              "     <output id=\"result-0e51bb6e-466c-4a57-a7ed-941ba6d49d89\">\n",
              "      Upload widget is only available when the cell has been executed in the\n",
              "      current browser session. Please rerun this cell to enable.\n",
              "      </output>\n",
              "      <script>// Copyright 2017 Google LLC\n",
              "//\n",
              "// Licensed under the Apache License, Version 2.0 (the \"License\");\n",
              "// you may not use this file except in compliance with the License.\n",
              "// You may obtain a copy of the License at\n",
              "//\n",
              "//      http://www.apache.org/licenses/LICENSE-2.0\n",
              "//\n",
              "// Unless required by applicable law or agreed to in writing, software\n",
              "// distributed under the License is distributed on an \"AS IS\" BASIS,\n",
              "// WITHOUT WARRANTIES OR CONDITIONS OF ANY KIND, either express or implied.\n",
              "// See the License for the specific language governing permissions and\n",
              "// limitations under the License.\n",
              "\n",
              "/**\n",
              " * @fileoverview Helpers for google.colab Python module.\n",
              " */\n",
              "(function(scope) {\n",
              "function span(text, styleAttributes = {}) {\n",
              "  const element = document.createElement('span');\n",
              "  element.textContent = text;\n",
              "  for (const key of Object.keys(styleAttributes)) {\n",
              "    element.style[key] = styleAttributes[key];\n",
              "  }\n",
              "  return element;\n",
              "}\n",
              "\n",
              "// Max number of bytes which will be uploaded at a time.\n",
              "const MAX_PAYLOAD_SIZE = 100 * 1024;\n",
              "\n",
              "function _uploadFiles(inputId, outputId) {\n",
              "  const steps = uploadFilesStep(inputId, outputId);\n",
              "  const outputElement = document.getElementById(outputId);\n",
              "  // Cache steps on the outputElement to make it available for the next call\n",
              "  // to uploadFilesContinue from Python.\n",
              "  outputElement.steps = steps;\n",
              "\n",
              "  return _uploadFilesContinue(outputId);\n",
              "}\n",
              "\n",
              "// This is roughly an async generator (not supported in the browser yet),\n",
              "// where there are multiple asynchronous steps and the Python side is going\n",
              "// to poll for completion of each step.\n",
              "// This uses a Promise to block the python side on completion of each step,\n",
              "// then passes the result of the previous step as the input to the next step.\n",
              "function _uploadFilesContinue(outputId) {\n",
              "  const outputElement = document.getElementById(outputId);\n",
              "  const steps = outputElement.steps;\n",
              "\n",
              "  const next = steps.next(outputElement.lastPromiseValue);\n",
              "  return Promise.resolve(next.value.promise).then((value) => {\n",
              "    // Cache the last promise value to make it available to the next\n",
              "    // step of the generator.\n",
              "    outputElement.lastPromiseValue = value;\n",
              "    return next.value.response;\n",
              "  });\n",
              "}\n",
              "\n",
              "/**\n",
              " * Generator function which is called between each async step of the upload\n",
              " * process.\n",
              " * @param {string} inputId Element ID of the input file picker element.\n",
              " * @param {string} outputId Element ID of the output display.\n",
              " * @return {!Iterable<!Object>} Iterable of next steps.\n",
              " */\n",
              "function* uploadFilesStep(inputId, outputId) {\n",
              "  const inputElement = document.getElementById(inputId);\n",
              "  inputElement.disabled = false;\n",
              "\n",
              "  const outputElement = document.getElementById(outputId);\n",
              "  outputElement.innerHTML = '';\n",
              "\n",
              "  const pickedPromise = new Promise((resolve) => {\n",
              "    inputElement.addEventListener('change', (e) => {\n",
              "      resolve(e.target.files);\n",
              "    });\n",
              "  });\n",
              "\n",
              "  const cancel = document.createElement('button');\n",
              "  inputElement.parentElement.appendChild(cancel);\n",
              "  cancel.textContent = 'Cancel upload';\n",
              "  const cancelPromise = new Promise((resolve) => {\n",
              "    cancel.onclick = () => {\n",
              "      resolve(null);\n",
              "    };\n",
              "  });\n",
              "\n",
              "  // Wait for the user to pick the files.\n",
              "  const files = yield {\n",
              "    promise: Promise.race([pickedPromise, cancelPromise]),\n",
              "    response: {\n",
              "      action: 'starting',\n",
              "    }\n",
              "  };\n",
              "\n",
              "  cancel.remove();\n",
              "\n",
              "  // Disable the input element since further picks are not allowed.\n",
              "  inputElement.disabled = true;\n",
              "\n",
              "  if (!files) {\n",
              "    return {\n",
              "      response: {\n",
              "        action: 'complete',\n",
              "      }\n",
              "    };\n",
              "  }\n",
              "\n",
              "  for (const file of files) {\n",
              "    const li = document.createElement('li');\n",
              "    li.append(span(file.name, {fontWeight: 'bold'}));\n",
              "    li.append(span(\n",
              "        `(${file.type || 'n/a'}) - ${file.size} bytes, ` +\n",
              "        `last modified: ${\n",
              "            file.lastModifiedDate ? file.lastModifiedDate.toLocaleDateString() :\n",
              "                                    'n/a'} - `));\n",
              "    const percent = span('0% done');\n",
              "    li.appendChild(percent);\n",
              "\n",
              "    outputElement.appendChild(li);\n",
              "\n",
              "    const fileDataPromise = new Promise((resolve) => {\n",
              "      const reader = new FileReader();\n",
              "      reader.onload = (e) => {\n",
              "        resolve(e.target.result);\n",
              "      };\n",
              "      reader.readAsArrayBuffer(file);\n",
              "    });\n",
              "    // Wait for the data to be ready.\n",
              "    let fileData = yield {\n",
              "      promise: fileDataPromise,\n",
              "      response: {\n",
              "        action: 'continue',\n",
              "      }\n",
              "    };\n",
              "\n",
              "    // Use a chunked sending to avoid message size limits. See b/62115660.\n",
              "    let position = 0;\n",
              "    do {\n",
              "      const length = Math.min(fileData.byteLength - position, MAX_PAYLOAD_SIZE);\n",
              "      const chunk = new Uint8Array(fileData, position, length);\n",
              "      position += length;\n",
              "\n",
              "      const base64 = btoa(String.fromCharCode.apply(null, chunk));\n",
              "      yield {\n",
              "        response: {\n",
              "          action: 'append',\n",
              "          file: file.name,\n",
              "          data: base64,\n",
              "        },\n",
              "      };\n",
              "\n",
              "      let percentDone = fileData.byteLength === 0 ?\n",
              "          100 :\n",
              "          Math.round((position / fileData.byteLength) * 100);\n",
              "      percent.textContent = `${percentDone}% done`;\n",
              "\n",
              "    } while (position < fileData.byteLength);\n",
              "  }\n",
              "\n",
              "  // All done.\n",
              "  yield {\n",
              "    response: {\n",
              "      action: 'complete',\n",
              "    }\n",
              "  };\n",
              "}\n",
              "\n",
              "scope.google = scope.google || {};\n",
              "scope.google.colab = scope.google.colab || {};\n",
              "scope.google.colab._files = {\n",
              "  _uploadFiles,\n",
              "  _uploadFilesContinue,\n",
              "};\n",
              "})(self);\n",
              "</script> "
            ]
          },
          "metadata": {}
        },
        {
          "output_type": "stream",
          "name": "stdout",
          "text": [
            "Saving Projetos.xlsx to Projetos.xlsx\n"
          ]
        }
      ],
      "source": [
        "#Projetos Distribuidores\n",
        "from google.colab import files\n",
        "proj = files.upload()"
      ]
    },
    {
      "cell_type": "code",
      "execution_count": 6,
      "metadata": {
        "id": "Ol0WCLoMy5vq"
      },
      "outputs": [],
      "source": [
        "filename3 = next(iter(proj))"
      ]
    },
    {
      "cell_type": "code",
      "execution_count": 7,
      "metadata": {
        "id": "-IovYkI07S51",
        "colab": {
          "base_uri": "https://localhost:8080/",
          "height": 73
        },
        "outputId": "dfcb1f6a-14ed-4fe1-bbfb-e30a72c27e03"
      },
      "outputs": [
        {
          "output_type": "display_data",
          "data": {
            "text/plain": [
              "<IPython.core.display.HTML object>"
            ],
            "text/html": [
              "\n",
              "     <input type=\"file\" id=\"files-227de5fa-e558-4b89-8fa7-ecfeb1cde51b\" name=\"files[]\" multiple disabled\n",
              "        style=\"border:none\" />\n",
              "     <output id=\"result-227de5fa-e558-4b89-8fa7-ecfeb1cde51b\">\n",
              "      Upload widget is only available when the cell has been executed in the\n",
              "      current browser session. Please rerun this cell to enable.\n",
              "      </output>\n",
              "      <script>// Copyright 2017 Google LLC\n",
              "//\n",
              "// Licensed under the Apache License, Version 2.0 (the \"License\");\n",
              "// you may not use this file except in compliance with the License.\n",
              "// You may obtain a copy of the License at\n",
              "//\n",
              "//      http://www.apache.org/licenses/LICENSE-2.0\n",
              "//\n",
              "// Unless required by applicable law or agreed to in writing, software\n",
              "// distributed under the License is distributed on an \"AS IS\" BASIS,\n",
              "// WITHOUT WARRANTIES OR CONDITIONS OF ANY KIND, either express or implied.\n",
              "// See the License for the specific language governing permissions and\n",
              "// limitations under the License.\n",
              "\n",
              "/**\n",
              " * @fileoverview Helpers for google.colab Python module.\n",
              " */\n",
              "(function(scope) {\n",
              "function span(text, styleAttributes = {}) {\n",
              "  const element = document.createElement('span');\n",
              "  element.textContent = text;\n",
              "  for (const key of Object.keys(styleAttributes)) {\n",
              "    element.style[key] = styleAttributes[key];\n",
              "  }\n",
              "  return element;\n",
              "}\n",
              "\n",
              "// Max number of bytes which will be uploaded at a time.\n",
              "const MAX_PAYLOAD_SIZE = 100 * 1024;\n",
              "\n",
              "function _uploadFiles(inputId, outputId) {\n",
              "  const steps = uploadFilesStep(inputId, outputId);\n",
              "  const outputElement = document.getElementById(outputId);\n",
              "  // Cache steps on the outputElement to make it available for the next call\n",
              "  // to uploadFilesContinue from Python.\n",
              "  outputElement.steps = steps;\n",
              "\n",
              "  return _uploadFilesContinue(outputId);\n",
              "}\n",
              "\n",
              "// This is roughly an async generator (not supported in the browser yet),\n",
              "// where there are multiple asynchronous steps and the Python side is going\n",
              "// to poll for completion of each step.\n",
              "// This uses a Promise to block the python side on completion of each step,\n",
              "// then passes the result of the previous step as the input to the next step.\n",
              "function _uploadFilesContinue(outputId) {\n",
              "  const outputElement = document.getElementById(outputId);\n",
              "  const steps = outputElement.steps;\n",
              "\n",
              "  const next = steps.next(outputElement.lastPromiseValue);\n",
              "  return Promise.resolve(next.value.promise).then((value) => {\n",
              "    // Cache the last promise value to make it available to the next\n",
              "    // step of the generator.\n",
              "    outputElement.lastPromiseValue = value;\n",
              "    return next.value.response;\n",
              "  });\n",
              "}\n",
              "\n",
              "/**\n",
              " * Generator function which is called between each async step of the upload\n",
              " * process.\n",
              " * @param {string} inputId Element ID of the input file picker element.\n",
              " * @param {string} outputId Element ID of the output display.\n",
              " * @return {!Iterable<!Object>} Iterable of next steps.\n",
              " */\n",
              "function* uploadFilesStep(inputId, outputId) {\n",
              "  const inputElement = document.getElementById(inputId);\n",
              "  inputElement.disabled = false;\n",
              "\n",
              "  const outputElement = document.getElementById(outputId);\n",
              "  outputElement.innerHTML = '';\n",
              "\n",
              "  const pickedPromise = new Promise((resolve) => {\n",
              "    inputElement.addEventListener('change', (e) => {\n",
              "      resolve(e.target.files);\n",
              "    });\n",
              "  });\n",
              "\n",
              "  const cancel = document.createElement('button');\n",
              "  inputElement.parentElement.appendChild(cancel);\n",
              "  cancel.textContent = 'Cancel upload';\n",
              "  const cancelPromise = new Promise((resolve) => {\n",
              "    cancel.onclick = () => {\n",
              "      resolve(null);\n",
              "    };\n",
              "  });\n",
              "\n",
              "  // Wait for the user to pick the files.\n",
              "  const files = yield {\n",
              "    promise: Promise.race([pickedPromise, cancelPromise]),\n",
              "    response: {\n",
              "      action: 'starting',\n",
              "    }\n",
              "  };\n",
              "\n",
              "  cancel.remove();\n",
              "\n",
              "  // Disable the input element since further picks are not allowed.\n",
              "  inputElement.disabled = true;\n",
              "\n",
              "  if (!files) {\n",
              "    return {\n",
              "      response: {\n",
              "        action: 'complete',\n",
              "      }\n",
              "    };\n",
              "  }\n",
              "\n",
              "  for (const file of files) {\n",
              "    const li = document.createElement('li');\n",
              "    li.append(span(file.name, {fontWeight: 'bold'}));\n",
              "    li.append(span(\n",
              "        `(${file.type || 'n/a'}) - ${file.size} bytes, ` +\n",
              "        `last modified: ${\n",
              "            file.lastModifiedDate ? file.lastModifiedDate.toLocaleDateString() :\n",
              "                                    'n/a'} - `));\n",
              "    const percent = span('0% done');\n",
              "    li.appendChild(percent);\n",
              "\n",
              "    outputElement.appendChild(li);\n",
              "\n",
              "    const fileDataPromise = new Promise((resolve) => {\n",
              "      const reader = new FileReader();\n",
              "      reader.onload = (e) => {\n",
              "        resolve(e.target.result);\n",
              "      };\n",
              "      reader.readAsArrayBuffer(file);\n",
              "    });\n",
              "    // Wait for the data to be ready.\n",
              "    let fileData = yield {\n",
              "      promise: fileDataPromise,\n",
              "      response: {\n",
              "        action: 'continue',\n",
              "      }\n",
              "    };\n",
              "\n",
              "    // Use a chunked sending to avoid message size limits. See b/62115660.\n",
              "    let position = 0;\n",
              "    do {\n",
              "      const length = Math.min(fileData.byteLength - position, MAX_PAYLOAD_SIZE);\n",
              "      const chunk = new Uint8Array(fileData, position, length);\n",
              "      position += length;\n",
              "\n",
              "      const base64 = btoa(String.fromCharCode.apply(null, chunk));\n",
              "      yield {\n",
              "        response: {\n",
              "          action: 'append',\n",
              "          file: file.name,\n",
              "          data: base64,\n",
              "        },\n",
              "      };\n",
              "\n",
              "      let percentDone = fileData.byteLength === 0 ?\n",
              "          100 :\n",
              "          Math.round((position / fileData.byteLength) * 100);\n",
              "      percent.textContent = `${percentDone}% done`;\n",
              "\n",
              "    } while (position < fileData.byteLength);\n",
              "  }\n",
              "\n",
              "  // All done.\n",
              "  yield {\n",
              "    response: {\n",
              "      action: 'complete',\n",
              "    }\n",
              "  };\n",
              "}\n",
              "\n",
              "scope.google = scope.google || {};\n",
              "scope.google.colab = scope.google.colab || {};\n",
              "scope.google.colab._files = {\n",
              "  _uploadFiles,\n",
              "  _uploadFilesContinue,\n",
              "};\n",
              "})(self);\n",
              "</script> "
            ]
          },
          "metadata": {}
        },
        {
          "output_type": "stream",
          "name": "stdout",
          "text": [
            "Saving Vendas.xlsx to Vendas.xlsx\n"
          ]
        }
      ],
      "source": [
        "#Vendas Distribuidores\n",
        "from google.colab import files\n",
        "dist = files.upload()"
      ]
    },
    {
      "cell_type": "code",
      "execution_count": 8,
      "metadata": {
        "id": "fjis3yuW7S52"
      },
      "outputs": [],
      "source": [
        "filename4 = next(iter(dist))"
      ]
    },
    {
      "cell_type": "markdown",
      "metadata": {
        "id": "P6-oQmnu0ay7"
      },
      "source": [
        "# Bibliotecas Phyton"
      ]
    },
    {
      "cell_type": "code",
      "execution_count": 9,
      "metadata": {
        "id": "OUttnnRjUFkr"
      },
      "outputs": [],
      "source": [
        "#Carrega Bibliotecas\n",
        "import pandas as pd\n",
        "import numpy as np\n",
        "import re"
      ]
    },
    {
      "cell_type": "code",
      "execution_count": 10,
      "metadata": {
        "colab": {
          "base_uri": "https://localhost:8080/"
        },
        "id": "bYgOUb49mE-B",
        "outputId": "339ef1f1-42aa-434a-cd64-25b60191a7f7"
      },
      "outputs": [
        {
          "output_type": "stream",
          "name": "stdout",
          "text": [
            "Looking in indexes: https://pypi.org/simple, https://us-python.pkg.dev/colab-wheels/public/simple/\n",
            "Collecting unidecode\n",
            "  Downloading Unidecode-1.3.6-py3-none-any.whl (235 kB)\n",
            "\u001b[2K     \u001b[90m━━━━━━━━━━━━━━━━━━━━━━━━━━━━━━━━━━━━━━\u001b[0m \u001b[32m235.9/235.9 KB\u001b[0m \u001b[31m14.4 MB/s\u001b[0m eta \u001b[36m0:00:00\u001b[0m\n",
            "\u001b[?25hInstalling collected packages: unidecode\n",
            "Successfully installed unidecode-1.3.6\n"
          ]
        }
      ],
      "source": [
        "pip install unidecode"
      ]
    },
    {
      "cell_type": "code",
      "execution_count": 11,
      "metadata": {
        "id": "Lr8uDiyKlneW"
      },
      "outputs": [],
      "source": [
        "from unidecode import unidecode"
      ]
    },
    {
      "cell_type": "markdown",
      "metadata": {
        "id": "knAADVNN0iEf"
      },
      "source": [
        "##Carrega tabela do Mintel"
      ]
    },
    {
      "cell_type": "code",
      "execution_count": 12,
      "metadata": {
        "colab": {
          "base_uri": "https://localhost:8080/"
        },
        "id": "kXNHpqFaTMgx",
        "outputId": "4d0d1dad-33c7-4218-87b4-94cf238f6f4d"
      },
      "outputs": [
        {
          "output_type": "execute_result",
          "data": {
            "text/plain": [
              "Número do Produto               1136\n",
              "Data de Publicação                64\n",
              "Produto                          807\n",
              "Marca                            811\n",
              "Empresa                          347\n",
              "Mercado                            1\n",
              "Categoria                          4\n",
              "Sub-Categoria                     36\n",
              "Descrição do Produto            1136\n",
              "Tipo de Lançamento                 5\n",
              "Fabricante                       330\n",
              "Local de fabricação               20\n",
              "Manufacturer Company Address     339\n",
              "Ingredients (Standard form)     1112\n",
              "Preço em moeda local             510\n",
              "Link da Imagem Primária         1136\n",
              "Animal de Estimação                0\n",
              "Conveniência                      20\n",
              "Menos                              0\n",
              "Funcional                         58\n",
              "Natural                           20\n",
              "Mais                               2\n",
              "Posicionamento                    10\n",
              "Adequado para                      4\n",
              "Demográfico                       10\n",
              "Sem                               41\n",
              "Realce de Beleza                  90\n",
              "Ético e ambiental                 50\n",
              "Produto testado                   23\n",
              "dtype: int64"
            ]
          },
          "metadata": {},
          "execution_count": 12
        }
      ],
      "source": [
        "#Carrega o banco de dados como tabela\n",
        "data = '/content/'+filename\n",
        "df_mintel = pd.read_excel(data)\n",
        "pd.options.display.max_columns = None\n",
        "df_mintel.nunique()"
      ]
    },
    {
      "cell_type": "code",
      "source": [
        "#remove lançamentos Nova Embalagem\n",
        "#df_mintel = df_mintel[df_mintel['Tipo de Lançamento']!='Nova Embalagem']"
      ],
      "metadata": {
        "id": "qFjrza-OICs4"
      },
      "execution_count": 13,
      "outputs": []
    },
    {
      "cell_type": "markdown",
      "metadata": {
        "id": "fhw11yYVTbwX"
      },
      "source": [
        "##Carrega Tabela de INCI Wacker"
      ]
    },
    {
      "cell_type": "code",
      "execution_count": 14,
      "metadata": {
        "colab": {
          "base_uri": "https://localhost:8080/"
        },
        "id": "PGa0p525T_xG",
        "outputId": "e7ffea04-2054-4fd3-8011-03bac49c1df2"
      },
      "outputs": [
        {
          "output_type": "execute_result",
          "data": {
            "text/plain": [
              "Produto        50\n",
              "Ingrediente    46\n",
              "Prioridade      3\n",
              "dtype: int64"
            ]
          },
          "metadata": {},
          "execution_count": 14
        }
      ],
      "source": [
        "data = '/content/'+filename2\n",
        "df_inci = pd.read_excel(data)\n",
        "pd.options.display.max_columns=None\n",
        "df_inci.nunique()"
      ]
    },
    {
      "cell_type": "markdown",
      "metadata": {
        "id": "jZgbxW5f0sVT"
      },
      "source": [
        "##Carrega Tabela de Projetos Wacker"
      ]
    },
    {
      "cell_type": "code",
      "execution_count": 15,
      "metadata": {
        "colab": {
          "base_uri": "https://localhost:8080/"
        },
        "id": "bhMAxqun0sVU",
        "outputId": "4dc0d791-66a3-4fd3-b914-78df8e8546fa"
      },
      "outputs": [
        {
          "output_type": "execute_result",
          "data": {
            "text/plain": [
              "Distribuidor      3\n",
              "Customer        913\n",
              "UF               16\n",
              "Product         144\n",
              "Fase             17\n",
              "dtype: int64"
            ]
          },
          "metadata": {},
          "execution_count": 15
        }
      ],
      "source": [
        "data = '/content/'+filename3\n",
        "df_proj = pd.read_excel(data)\n",
        "pd.options.display.max_columns=None\n",
        "df_proj.nunique()"
      ]
    },
    {
      "cell_type": "markdown",
      "metadata": {
        "id": "a5ppBsEI7sqB"
      },
      "source": [
        "## Carrega Planilha de Vendas do Distribuidor"
      ]
    },
    {
      "cell_type": "code",
      "execution_count": 16,
      "metadata": {
        "colab": {
          "base_uri": "https://localhost:8080/"
        },
        "id": "X05326R47xvH",
        "outputId": "ebc40649-4976-4196-ae19-455c2186456e"
      },
      "outputs": [
        {
          "output_type": "execute_result",
          "data": {
            "text/plain": [
              "Customer(at distrib)        891\n",
              "Country, Customer             1\n",
              "Unnamed: 2                    1\n",
              "Distributor                   4\n",
              "Product management            3\n",
              "Material (at WAC)            55\n",
              "Unnamed: 6                   54\n",
              "Market segment                1\n",
              "Unnamed: 8                    1\n",
              "Application                   6\n",
              "Month last sale|Timeline     12\n",
              "2022                        346\n",
              "dtype: int64"
            ]
          },
          "metadata": {},
          "execution_count": 16
        }
      ],
      "source": [
        "data = '/content/'+filename4\n",
        "df_dist = pd.read_excel(data)\n",
        "pd.options.display.max_columns=None\n",
        "df_dist.nunique()"
      ]
    },
    {
      "cell_type": "markdown",
      "metadata": {
        "id": "1gVy5d2g7Mix"
      },
      "source": [
        "# Define funções"
      ]
    },
    {
      "cell_type": "code",
      "execution_count": 17,
      "metadata": {
        "id": "1B00Mjh2rDOD"
      },
      "outputs": [],
      "source": [
        "#Cruza Mintel e INCI\n",
        "def verifica_ingrediente(formula,produto,material):\n",
        "  quantidade = len(produto.difference(formula))\n",
        "  if quantidade == 0:\n",
        "    return material\n",
        "  return None"
      ]
    },
    {
      "cell_type": "code",
      "execution_count": 18,
      "metadata": {
        "id": "9Cptl2ShP1Jm"
      },
      "outputs": [],
      "source": [
        "#Retorna possíveis produtos Baseado em Mintel\n",
        "def procura_produtos(formula, produtos, materiais):\n",
        "  formula = formula.copy()\n",
        "  resultados = []\n",
        "  for prod, mat in zip(produtos, materiais):\n",
        "    resultado = verifica_ingrediente(formula, prod, mat)\n",
        "    if resultado is not None:\n",
        "      formula = formula.difference(prod) ## Para remover os ingredientes já encontrados numa nova busca.\n",
        "      resultados.append(resultado)\n",
        "  return resultados"
      ]
    },
    {
      "cell_type": "code",
      "source": [
        "#Transpor\n",
        "def transpor (df, coluna, linha):\n",
        "  for cat in df[coluna].unique():\n",
        "    f = df[coluna] == cat\n",
        "    df[cat] = df[f][linha]\n",
        "    f = df[cat].isna()  \n",
        "    df.loc[f, cat] = df.loc[f, cat].apply(lambda x:[])"
      ],
      "metadata": {
        "id": "ahIPs7pxzSBy"
      },
      "execution_count": 19,
      "outputs": []
    },
    {
      "cell_type": "code",
      "source": [
        "#Resolver problemas de set\n",
        "def to_set(x):\n",
        "    try:\n",
        "        if isinstance(x, pd.DataFrame):\n",
        "            return x.apply(to_set)\n",
        "        else:\n",
        "            return set(x.sum())\n",
        "    except:\n",
        "        pass"
      ],
      "metadata": {
        "id": "YHNl1iQiyVvh"
      },
      "execution_count": 20,
      "outputs": []
    },
    {
      "cell_type": "code",
      "source": [
        "#Resolver problemas de set\n",
        "def to_set_2(x):\n",
        "    try:\n",
        "        if isinstance(x, pd.DataFrame):\n",
        "            return x.apply(to_set_2)\n",
        "        else:\n",
        "            return list(set(x))\n",
        "    except:\n",
        "        pass"
      ],
      "metadata": {
        "id": "-7CoZB8mFCbs"
      },
      "execution_count": 21,
      "outputs": []
    },
    {
      "cell_type": "code",
      "execution_count": 22,
      "metadata": {
        "id": "J87L26YK7FmA"
      },
      "outputs": [],
      "source": [
        "def formatar_fabricantes(coluna):\n",
        "  remover = [\n",
        "             'fabrica', 'fabricacao', 'manuf', 'tercerizacao', 'manufacturing',\n",
        "             'farmacia', 'farmacias', 'farmaceuticos', 'drogaria','drogarias', 'farm',\n",
        "             'cosmetico', 'cometico','cosmeticos', 'cometicos', 'cosmetics',\n",
        "             'cosmiatria', 'cosmetica', 'cosmeticas', 'cosm', 'cosme', 'kosmetics',\n",
        "             'ltda','epp', 'eireli', 'me', 'eirell', 'sa', 'eir', 'ltd',\n",
        "             'indústria','industria', 'industrias', 'industrial', 'indutrial', 'ind', 'industriae',\n",
        "             'comercio', 'comecio', 'comercial', 'corporation', 'com', \n",
        "             'imp', 'exp',  'prod', 'exportacao','importacao','importadora', 'import',\n",
        "             'do', 'e', 'para', 'de', 'le', 'la',\n",
        "             'do brasil', 'aerossois', 'aerosol', 'aerossol', 'tecnologia', \n",
        "             'laboratorio','laboratorios', 'laboratories', 'laboratoire', 'instituto', 'group', \n",
        "             'pesquisa', 'desenvolvimento', 'naturais', 'professional', 'aromatizantes',\n",
        "             'produtos', 'produto', 'saneantes', 'quimica', 'quimicos', 'quimico', 'farmaceutica', 'veterinário',\n",
        "             'higiene','pessoal', 'limpeza', 'beleza', 'botanico',\n",
        "             'perfumes','fragrancias', 'perfumaria', 'medicamentos', 'perf',\n",
        "             '\\.', \"\\'\", '\\d+', #Remove números\n",
        "             'aw', 'a w', 'a  w', 'distribuidora', 'dist', \n",
        "             'international', 'internacional', 'sulamericana', 'nacional',\n",
        "             'nbsp;', 'veer','serv', 'vajerista', \n",
        "           ]\n",
        "  pat = '\\\\b({})\\\\b'.format('|'.join(remover))\n",
        "  coluna = (\n",
        "    coluna\n",
        "    .apply(unidecode)\n",
        "    .str.lower()\n",
        "    .replace('\\.', ' ',regex=True)\n",
        "    .replace('\\&', ' ',regex=True)\n",
        "    .replace('\\/', '',regex=True)\n",
        "    .replace('\\-', '',regex=True) \n",
        "    .replace(pat,'',regex=True)\n",
        "    .replace(',', '',regex=True) \n",
        "    .replace('\\s+','',regex=True) #Tirar numeros\n",
        "    .str.strip()\n",
        "  )\n",
        "  return coluna"
      ]
    },
    {
      "cell_type": "code",
      "execution_count": 23,
      "metadata": {
        "id": "BgL0yfK7QP0d"
      },
      "outputs": [],
      "source": [
        "def formatar_material(coluna):\n",
        "  remover = ['BELSIL®', 'BELSIL', 'BELSIM',\n",
        "             'DRUM', 'ST', 'PE', 'CANISTER', 'RD', 'CARTON', 'IBC PE', '2', 'WOPAL', \n",
        "             'SBPAL', 'STPAL', 'HOBBOCK', 'SACK', 'BOTTLE',\n",
        "             '0,45KG','10KG','15KG','25KG', '30G', '60G', '100KG', '140KG', '150KG', '160KG',\n",
        "             '180KG', '190KG', '200KG', '210KG', '900KG', '950KG', '190', \n",
        "             'KG', 'AMOSTRA', 'PA', 'XY', 'CP', 'SILICONE ELASTOMER GEL',\n",
        "             'BR', 'DE', ' E', 'BLOCKED',\n",
        "             'EMB. 0,100 KG', 'Ver  Pf 100', 'USP',\n",
        "           ]\n",
        "  pat = '\\\\b({})\\\\b'.format('|'.join(remover))\n",
        "  coluna = (\n",
        "    coluna\n",
        "    .replace(pat,'',regex=True)\n",
        "    .replace('\\#','', regex=True)\n",
        "    .replace('\\\"','', regex=True)\n",
        "    .str.replace('\\/', '',regex=True)\n",
        "    .str.replace('\\-', '',regex=True)\n",
        "    .str.replace('\\*', '',regex=True)      \n",
        "    .str.title()\n",
        "    .str.strip()\n",
        "  )\n",
        "  return coluna"
      ]
    },
    {
      "cell_type": "markdown",
      "source": [
        "# Mintel"
      ],
      "metadata": {
        "id": "KSZxw3EnVkEu"
      }
    },
    {
      "cell_type": "markdown",
      "metadata": {
        "id": "3VeM_1iAD1B8"
      },
      "source": [
        "## Define Estados\n"
      ]
    },
    {
      "cell_type": "code",
      "execution_count": 24,
      "metadata": {
        "id": "wEeDnbW8Ga3j"
      },
      "outputs": [],
      "source": [
        "dict = {'AC':'AC', 'AL':'AL', 'AM':'AM', 'AP':'AP', 'BA':'BA', 'CE':'CE', 'DF':'DF', 'ES':'ES', 'GO':'GO', 'MA':'MA', \n",
        "     'MG':'MG', 'MS':'MS', 'MT':'MT', 'PA':'PA', 'PB':'PB', 'PE':'PE', 'PI':'PI', 'PR':'PR', 'RJ':'RJ', 'RN':'RN',\n",
        "     'RO':'RO', 'RR':'RR', 'RS':'RS', 'SC':'SC', 'SE':'SE', 'SP':'SP', 'TO':'TO', 'Sao Paulo':'SP', 'São Paulo':'SP',\n",
        "     'Sao Paolo':'SP','Osasco': 'SP', 'Mogi das Cruzes': 'SP', 'Cotia':'SP', 'Diadema':'SP', 'São Roque':'SP', \n",
        "     'São Sebastião':'SP', 'Lins':'SP', 'Cajamar':'SP', 'Pirassununga':'SP', 'Paulista': 'SP', 'São Paolo':'SP', \n",
        "     'Elisario':'SP', 'Valinhos':'SP', 'Piracaia':'SP', 'São José do Rio Preto':'SP', 'Sao José do Rio Preto':'SP',\n",
        "     'São José dos Campos':'SP',      'Araras':'SP', 'São Bernardo do Campo':'SP', 'São José dos Campos':'SP',\n",
        "     'Sao Caetano do Sul':'SP', 'São José do Rio Preto':'SP', 'Brodowski':'SP', 'Cajuru':'SP', 'Itaquaquecetuba':'SP', \n",
        "     'Itupeva':'SP', 'SO':'SP', 'Mairiporã':'SP', 'Itaquera':'SP', 'Franco da Rocha':'SP', 'Guarulhos':'SP',\n",
        "     'Bairro Jardim America':'SP', 'Jardim Brazil':'SP', 'Agudos':'SP', 'Itapira':'SP', 'Rib. Preto':'SP',\n",
        "     'Rio de Janeiro':'RJ', 'Rio De Janeiro':'RJ', 'Nova Iguaçu': 'RJ', 'Nova Iguacu': 'RJ', 'Nivopolis':'RJ',\n",
        "     'Duque de Caixas':'RJ', 'Engenheiro Pedreira':'RJ',\n",
        "     'Vila Velha':'ES', 'Marechal Floriano':'ES', \n",
        "     'Belo Horizonte':'MG', 'Minas Gerais':'MG', 'Pocos de Caldas':'MG', 'Viçosa':'MG', 'Vicosa':'MG',\n",
        "     'Pouso Alegre': 'MG', 'Uberlândia':'MG', 'Uberlandia':'MG', 'Ipatinga':'MG', 'Mirabela':'MG','Nova Lima':'MG',\n",
        "     'São José da Lapa':'MG', 'Sao José da Lapa':'MG', 'Sao Jose da Lapa':'MG',\n",
        "     'Porto Alegre':'RS', 'Estância Velha': 'RS', 'Caxias do Sul':'RS', 'Passo Fundo':'RS', 'Gravatai':'RS',\n",
        "     'Santa Catarina':'SC', 'Joinville':'SC','Camboriu':'SC', 'Maluche':'SC', 'Araquari':'SC', 'Criciúma': 'SC',\n",
        "     'Criciuma': 'SC',\n",
        "     'Colombo':'PR', 'Paraná':'PR', 'Curitiba':'PR', 'Sao José dos Pinhais':'PR','BR 116 Km 85':'PR', 'Cambé':'PR',\n",
        "     'Goiana':'GO', 'Goiânia':'GO', 'Anápolis':'GO', 'Anapolis':'GO', 'Brasilia': 'DF', 'Go':'GO',\n",
        "     'Rondônia':'RO','Novo Hamburgo':'RO','Manaus':'AM', 'Pará':'PA',\n",
        "     'Bahia':'BA', 'Lauro de Freites': 'BA', 'Av. Queira Deus':'BA', 'Vila Cia Sul':'BA',\n",
        "     'Recife':'PE', 'Camaragibe': 'PE', 'Fortaleza':'CE', 'Ceará':'CE'}"
      ]
    },
    {
      "cell_type": "code",
      "execution_count": 25,
      "metadata": {
        "colab": {
          "base_uri": "https://localhost:8080/"
        },
        "id": "5ZsFzJGhTJyK",
        "outputId": "6a0357e0-bd49-444b-c9fa-1607c31f8d26"
      },
      "outputs": [
        {
          "output_type": "execute_result",
          "data": {
            "text/plain": [
              "SP     574\n",
              "NaN    220\n",
              "MG      69\n",
              "RJ      60\n",
              "GO      56\n",
              "PR      48\n",
              "RS      40\n",
              "SC      16\n",
              "CE      14\n",
              "BA      13\n",
              "PE      11\n",
              "ES       6\n",
              "PI       3\n",
              "DF       2\n",
              "SE       2\n",
              "AM       1\n",
              "PA       1\n",
              "Name: Estados, dtype: int64"
            ]
          },
          "metadata": {},
          "execution_count": 25
        }
      ],
      "source": [
        "df_mintel['Estados'] = df_mintel['Manufacturer Company Address'].str.extract('('+'|'.join(dict)+')',expand=False).map(dict)\n",
        "#Exibe a quantidade de casos únicos\n",
        "df_mintel['Estados'].value_counts(dropna=False)\n",
        "#Em output se filtra estados vazios"
      ]
    },
    {
      "cell_type": "markdown",
      "metadata": {
        "id": "ZUcdV8gzAfYI"
      },
      "source": [
        "## Remover Clientes WACKER da planilha Mintel\n"
      ]
    },
    {
      "cell_type": "code",
      "execution_count": 26,
      "metadata": {
        "id": "OgG0Y6yYAlwX"
      },
      "outputs": [],
      "source": [
        "dictClientes = {'Devintex Cosméticos':'1', 'Devintex':'1','Procosa Produtos de Beleza':'1', 'Colgate-Palmolive':'1', 'Unilever':'1',\n",
        "                'Savoy Indústria de Cosméticos':'1', 'Beiersdorf':'1', 'Johnson & Johnson':'1',\n",
        "                'Procter & Gamble':'1','Química Amparo':'1', \"Oréal\":'1', 'Procosa':'1',\n",
        "                'Unilever Brasil Industrial':'1', 'Botica Comercial Farmacêutica':'1'}\n",
        "dictMarcas = { 'Boticário':'1', 'Siàge':'1', 'Natura ':'1', 'Avon ':'1', 'Eudora':'1', \n",
        "              'Wella':'1', 'The Body Shop':'1', 'Quem Disse,':'1', 'Salon Line':'1', 'Maybelline':'1'}\n",
        "df_mintel['Clientes']= df_mintel['Fabricante'].str.extract('('+'|'.join(dictClientes)+')',expand=False).map(dictClientes)\n",
        "df_mintel['Clientes2'] = df_mintel['Marca'].str.extract('('+'|'.join(dictMarcas)+')',expand=False).map(dictMarcas)\n",
        "df_wacker = df_mintel[df_mintel['Clientes']=='1']\n",
        "df_wacker = df_wacker[df_wacker['Clientes2']=='1']\n",
        "df_wacker.to_excel(\"LancClientesWACKER.xlsx\") "
      ]
    },
    {
      "cell_type": "code",
      "source": [
        "#Remove clientes Wacker da base de tratamento\n",
        "df_mintel = df_mintel[df_mintel['Clientes']!='1']\n",
        "df_mintel = df_mintel[df_mintel['Clientes2']!='1']"
      ],
      "metadata": {
        "id": "lLAvvmWs8qn3"
      },
      "execution_count": 27,
      "outputs": []
    },
    {
      "cell_type": "markdown",
      "metadata": {
        "id": "2uvEfTzBpPEt"
      },
      "source": [
        "## Define distribuidor por território"
      ]
    },
    {
      "cell_type": "code",
      "execution_count": 28,
      "metadata": {
        "id": "jxB6px-wDzpA"
      },
      "outputs": [],
      "source": [
        "dict_terr = {'PR':'Embacaps', 'RS':'Embacaps', 'SC':'Embacaps',\n",
        "            'BA':'Morais', 'PE':'Morais', 'CE':'Morais',\n",
        "            'SP':'Focus', 'RJ': 'Focus', 'MG':'Focus', 'GO':'Focus', 'ES':'Focus',\n",
        "}\n",
        "df_mintel['Territorio'] = df_mintel['Estados'].str.extract('('+'|'.join(dict_terr)+')',expand=False).map(dict_terr)"
      ]
    },
    {
      "cell_type": "markdown",
      "metadata": {
        "id": "vn35qqvE365N"
      },
      "source": [
        "## Tem Silicone"
      ]
    },
    {
      "cell_type": "code",
      "execution_count": 29,
      "metadata": {
        "id": "NitdJrkZ4AAI"
      },
      "outputs": [],
      "source": [
        "#Dicionário Silicones geral\n",
        "dictOTHERS = {'methicone':'1', 'Dimethicone':'1','methicone Crosspolymer':'1','methiconol':'1',\n",
        "              'ylsiloxysilicate':'1', 'ylsilsesquioxane':'1', 'Disiloxane':'1', 'Silica':'1','siloxane':'1'}"
      ]
    },
    {
      "cell_type": "code",
      "execution_count": 30,
      "metadata": {
        "id": "wndnsH7K4Ei-"
      },
      "outputs": [],
      "source": [
        "df_mintel['Silicone'] = df_mintel['Ingredients (Standard form)'].str.extract('('+'|'.join(dictOTHERS)+')',expand=False).map(dictOTHERS)"
      ]
    },
    {
      "cell_type": "markdown",
      "source": [
        "##Tem Claim Sem Silicone"
      ],
      "metadata": {
        "id": "JVXtBfRl6Xkc"
      }
    },
    {
      "cell_type": "code",
      "source": [
        "dictSil = {'Silicone':'1'}"
      ],
      "metadata": {
        "id": "Bni5i_oTSOnL"
      },
      "execution_count": 31,
      "outputs": []
    },
    {
      "cell_type": "code",
      "source": [
        "df_mintel['Claim Sem Silicone'] = df_mintel['Sem'].str.extract('('+'|'.join(dictSil)+')',expand=False).map(dictSil)"
      ],
      "metadata": {
        "id": "6VRYGUb46W3q"
      },
      "execution_count": 32,
      "outputs": []
    },
    {
      "cell_type": "markdown",
      "metadata": {
        "id": "n5nfkYcz3wwd"
      },
      "source": [
        "## Busca em Ingredientes no Mintel e retorna produto WACKER\n",
        "\n"
      ]
    },
    {
      "cell_type": "code",
      "execution_count": 33,
      "metadata": {
        "id": "ti4plJC7iprg"
      },
      "outputs": [],
      "source": [
        "df_inci.dropna(inplace=True)\n",
        "df_inci['Produto'] = formatar_material(df_inci['Produto'])"
      ]
    },
    {
      "cell_type": "code",
      "execution_count": 34,
      "metadata": {
        "id": "c9emFW0KhhCR"
      },
      "outputs": [],
      "source": [
        "#Cria uma lista iterável dos ingredientes nos Produtos Wacker\n",
        "df_inci['Ing'] = formatar_material(df_inci['Ingrediente']).str.split(', ').apply(set)"
      ]
    },
    {
      "cell_type": "code",
      "execution_count": 35,
      "metadata": {
        "id": "MbmbbpwXON7n"
      },
      "outputs": [],
      "source": [
        "#Conta a quantidade de ingredientes\n",
        "df_inci.sort_values('Prioridade', ascending=True, inplace=True)"
      ]
    },
    {
      "cell_type": "code",
      "execution_count": 36,
      "metadata": {
        "id": "gbHWJuxUovNV"
      },
      "outputs": [],
      "source": [
        " #Dicionário de palavras a remover da coluna Ingredientes no Mintel\n",
        " dictIng={' Andor ':',',\n",
        "          ', ':',',\n",
        "          ' ,':',',\n",
        "          ' (And) ':',',\n",
        "          }"
      ]
    },
    {
      "cell_type": "code",
      "execution_count": 37,
      "metadata": {
        "id": "KBOE6Nl3jFt2"
      },
      "outputs": [],
      "source": [
        "#Cria uma lista iterável das formulas do mintel \n",
        "df_mintel['Ingredients (Standard form)'] = df_mintel['Ingredients (Standard form)'].astype(str)\n",
        "df_mintel['Ing'] = formatar_material(df_mintel['Ingredients (Standard form)']).replace(dictIng,regex=True).dropna().str.split(',').apply(set)"
      ]
    },
    {
      "cell_type": "code",
      "execution_count": 38,
      "metadata": {
        "id": "-nHUMNVCR52m"
      },
      "outputs": [],
      "source": [
        "#Aplica a função Procura Produtos\n",
        "df_mintel['WACKER'] = df_mintel['Ing'].apply(lambda formulacao:procura_produtos(formulacao, df_inci['Ing'], df_inci['Produto']))"
      ]
    },
    {
      "cell_type": "markdown",
      "source": [
        "## Cria Indice para junção"
      ],
      "metadata": {
        "id": "Sizzlpaf9lcJ"
      }
    },
    {
      "cell_type": "code",
      "execution_count": 39,
      "metadata": {
        "id": "prY-tdyVEQzr"
      },
      "outputs": [],
      "source": [
        "df_mintel.set_index(['Número do Produto'])\n",
        "df_mintel['Data de Publicação'] = pd.to_datetime(df_mintel['Data de Publicação'], format='%Y-%m-%d')\n",
        "df_mintel['Trimestre'] = df_mintel['Data de Publicação'].dt.quarter\n",
        "df_mintel['Ano'] = df_mintel['Data de Publicação'].dt.year"
      ]
    },
    {
      "cell_type": "code",
      "execution_count": 40,
      "metadata": {
        "id": "uTOH0pWXEQz0"
      },
      "outputs": [],
      "source": [
        "#Cria a coluna que irá indexar a mistura com a planilha do mintel\n",
        "df_mintel['Fabricante']=df_mintel['Fabricante'].astype(str)\n",
        "df_mintel['Cliente Resumo'] = formatar_fabricantes(df_mintel['Fabricante'])"
      ]
    },
    {
      "cell_type": "code",
      "source": [
        "def join(x):   \n",
        "    r = ' '.join(x.dropna().iloc[:2])\n",
        "    return r\n",
        "#Coloca as duas primeiras palavra da marca\n",
        "df_mintel['Marca']=df_mintel['Marca'].astype(str)\n",
        "df_mintel['Marca Resumo'] = df_mintel['Marca'].str.replace('La','', regex=True).str.split(expand=True).apply(join, axis=1)\n",
        "#df_mintel['Marca Resumo'] = formatar_fabricantes(df_mintel['Marca Resumo'])"
      ],
      "metadata": {
        "id": "NJYXGnqTk3sG"
      },
      "execution_count": 41,
      "outputs": []
    },
    {
      "cell_type": "code",
      "source": [
        "df_mintel['Marca Resumo']"
      ],
      "metadata": {
        "colab": {
          "base_uri": "https://localhost:8080/"
        },
        "id": "F3Cdf4iMu5Y7",
        "outputId": "250abd17-19d7-4bb1-8ad4-98063ad697a8"
      },
      "execution_count": 42,
      "outputs": [
        {
          "output_type": "execute_result",
          "data": {
            "text/plain": [
              "0                   Derma Chem\n",
              "2                    Ruby Rose\n",
              "3       Phállebeauty Cosmetics\n",
              "11            Darrow boratório\n",
              "12               Naos Bioderma\n",
              "                 ...          \n",
              "1131            Face Beautiful\n",
              "1132               Griffus Vou\n",
              "1133          PanVel Instantes\n",
              "1134          PanVel Instantes\n",
              "1135          PanVel Instantes\n",
              "Name: Marca Resumo, Length: 912, dtype: object"
            ]
          },
          "metadata": {},
          "execution_count": 42
        }
      ]
    },
    {
      "cell_type": "markdown",
      "metadata": {
        "id": "7xSvsWdw_a3b"
      },
      "source": [
        "## Baixa relatório Linha a Linha, com analise de ingrediente"
      ]
    },
    {
      "cell_type": "code",
      "source": [
        "df_mintel.columns"
      ],
      "metadata": {
        "colab": {
          "base_uri": "https://localhost:8080/"
        },
        "id": "_YICh5-NCg07",
        "outputId": "cc5f1eb5-08ba-4a1c-855f-b562d0e1ad74"
      },
      "execution_count": 43,
      "outputs": [
        {
          "output_type": "execute_result",
          "data": {
            "text/plain": [
              "Index(['Número do Produto', 'Data de Publicação', 'Produto', 'Marca',\n",
              "       'Empresa', 'Mercado', 'Categoria', 'Sub-Categoria',\n",
              "       'Descrição do Produto', 'Tipo de Lançamento', 'Fabricante',\n",
              "       'Local de fabricação', 'Manufacturer Company Address',\n",
              "       'Ingredients (Standard form)', 'Preço em moeda local',\n",
              "       'Link da Imagem Primária', 'Animal de Estimação', 'Conveniência',\n",
              "       'Menos', 'Funcional', 'Natural', 'Mais', 'Posicionamento',\n",
              "       'Adequado para', 'Demográfico', 'Sem', 'Realce de Beleza',\n",
              "       'Ético e ambiental', 'Produto testado', 'Estados', 'Clientes',\n",
              "       'Clientes2', 'Territorio', 'Silicone', 'Claim Sem Silicone', 'Ing',\n",
              "       'WACKER', 'Trimestre', 'Ano', 'Cliente Resumo', 'Marca Resumo'],\n",
              "      dtype='object')"
            ]
          },
          "metadata": {},
          "execution_count": 43
        }
      ]
    },
    {
      "cell_type": "code",
      "execution_count": 44,
      "metadata": {
        "id": "CJNvGzmRwKxW"
      },
      "outputs": [],
      "source": [
        "col=['Trimestre','Sub-Categoria', 'Produto', 'Marca', 'Empresa', 'Fabricante', 'Estados', 'Sem', 'Preço em moeda local', \n",
        "     'Silicone', 'WACKER', 'Ing', 'Manufacturer Company Address', 'Link da Imagem Primária','Territorio']"
      ]
    },
    {
      "cell_type": "code",
      "execution_count": 45,
      "metadata": {
        "id": "RFmNqS0N0wnN"
      },
      "outputs": [],
      "source": [
        "df_mintel[col].to_excel(\"Lancamentos Linha a Linha.xlsx\")  "
      ]
    },
    {
      "cell_type": "markdown",
      "source": [
        "## Baixar relatório agrupar por Fabricante"
      ],
      "metadata": {
        "id": "ZO6UQ6CVw1kK"
      }
    },
    {
      "cell_type": "code",
      "source": [
        "transpor(df_mintel, 'Categoria', 'WACKER')"
      ],
      "metadata": {
        "id": "Y7io3HSHy8HD"
      },
      "execution_count": 46,
      "outputs": []
    },
    {
      "cell_type": "code",
      "source": [
        "df_mintel.rename(columns={'Produtos para Pele':'Pele', 'Produtos para Cabelos':'Cabelo',\t\n",
        "                          'Sabonetes e Produtos para Banho':'Banho', 'Número do Produto': 'Total Lançamentos'}, \n",
        "                 inplace=True)"
      ],
      "metadata": {
        "id": "k84Zt9iv5XWw"
      },
      "execution_count": 47,
      "outputs": []
    },
    {
      "cell_type": "code",
      "source": [
        "df_a = df_mintel.groupby(['Cliente Resumo', 'Trimestre', 'Estados'])[['Cabelo', 'Pele', 'Maquilagem', 'Banho']].apply(to_set)"
      ],
      "metadata": {
        "id": "JVTlLS-dykF_"
      },
      "execution_count": 48,
      "outputs": []
    },
    {
      "cell_type": "code",
      "source": [
        "df_b = df_mintel.groupby(['Cliente Resumo', 'Trimestre', 'Estados']).agg({\n",
        "                                            'Total Lançamentos': 'count',\n",
        "                                             'Silicone':'count',\n",
        "                                             'Claim Sem Silicone':'count',\n",
        "                                             })"
      ],
      "metadata": {
        "id": "0XbVBHRaEw9C"
      },
      "execution_count": 49,
      "outputs": []
    },
    {
      "cell_type": "code",
      "source": [
        "df_mintel_fab = pd.concat([df_a, df_b], axis=1).reset_index()"
      ],
      "metadata": {
        "id": "THGwvPIsyqx1"
      },
      "execution_count": 50,
      "outputs": []
    },
    {
      "cell_type": "code",
      "source": [
        "#df_mintel_fab.to_excel('Mintel Agrupado Fabricantes.xlsx')"
      ],
      "metadata": {
        "id": "5esinVdynt5R"
      },
      "execution_count": 51,
      "outputs": []
    },
    {
      "cell_type": "markdown",
      "source": [
        "## Filtro de Datas"
      ],
      "metadata": {
        "id": "ryyWOJxxI1h6"
      }
    },
    {
      "cell_type": "code",
      "source": [
        "#df_mintel_fab = df_mintel_fab[df_mintel_fab['Ano'].isin([2022, 2021, 2020])]"
      ],
      "metadata": {
        "id": "jlrFQa0UJW7H"
      },
      "execution_count": 52,
      "outputs": []
    },
    {
      "cell_type": "markdown",
      "metadata": {
        "id": "WkJ3duNN6K0g"
      },
      "source": [
        "# Vendas"
      ]
    },
    {
      "cell_type": "code",
      "execution_count": 53,
      "metadata": {
        "id": "_llMEftfSnxW"
      },
      "outputs": [],
      "source": [
        "#Garantir que apenas serão considerados os clientes com vendas\n",
        "df_dist['2022'].dropna(inplace=True)"
      ]
    },
    {
      "cell_type": "code",
      "execution_count": 54,
      "metadata": {
        "id": "PJ4XnBjd8x0t"
      },
      "outputs": [],
      "source": [
        "df_dist['Unnamed: 6']= formatar_material(df_dist['Unnamed: 6'])\n",
        "df_dist['Unnamed: 6'] = df_dist['Unnamed: 6'].astype(str)"
      ]
    },
    {
      "cell_type": "code",
      "execution_count": 55,
      "metadata": {
        "id": "YyeRjtvJgIIx"
      },
      "outputs": [],
      "source": [
        "df_dist['Cliente Resumo'] = formatar_fabricantes(df_dist['Customer(at distrib)'])"
      ]
    },
    {
      "cell_type": "code",
      "execution_count": 56,
      "metadata": {
        "id": "Iu0a-l3hLHKE"
      },
      "outputs": [],
      "source": [
        "#agrupo os produtos em uma lista, por cliente\n",
        "df_dist_unic = df_dist.groupby(['Cliente Resumo','Distributor']).agg({'2022':'sum','Unnamed: 6':lambda x:list(set(x))}).reset_index()"
      ]
    },
    {
      "cell_type": "code",
      "execution_count": 57,
      "metadata": {
        "id": "uc1E9IoecmcM"
      },
      "outputs": [],
      "source": [
        "df_dist_unic['Unnamed: 6'] = df_dist_unic['Unnamed: 6'].apply(set)\n",
        "df_dist_unic.rename(columns={'Unnamed: 6': 'Sales'}, inplace=True)"
      ]
    },
    {
      "cell_type": "code",
      "source": [
        "df_dist_unic.drop_duplicates(subset=['Cliente Resumo', 'Distributor'], keep='first', inplace=True)\n",
        "df_dist_unic.rename(columns={'Distributor':'Distribuidor'}, inplace=True)"
      ],
      "metadata": {
        "id": "30Y-3UBjwpED"
      },
      "execution_count": 58,
      "outputs": []
    },
    {
      "cell_type": "code",
      "source": [
        "df_dist_unic"
      ],
      "metadata": {
        "id": "EAgU1Ac_m3dq",
        "colab": {
          "base_uri": "https://localhost:8080/",
          "height": 424
        },
        "outputId": "98bb3585-786d-466c-d8fb-1009a2d30de1"
      },
      "execution_count": 59,
      "outputs": [
        {
          "output_type": "execute_result",
          "data": {
            "text/plain": [
              "    Cliente Resumo      Distribuidor    2022  \\\n",
              "0                      FOCUS QUIMICA  5.1724   \n",
              "1                   MORAIS DE CASTRO  0.4770   \n",
              "2               2k          EMBACAPS  0.0050   \n",
              "3               3x          BRENNTAG  0.3800   \n",
              "4            abalo     FOCUS QUIMICA  0.2550   \n",
              "..             ...               ...     ...   \n",
              "857         yantra     FOCUS QUIMICA  0.0300   \n",
              "858            yur     FOCUS QUIMICA  0.0300   \n",
              "859           yuzi     FOCUS QUIMICA  0.2130   \n",
              "860    zaninpharma          EMBACAPS  0.1900   \n",
              "861          zinia     FOCUS QUIMICA  0.0250   \n",
              "\n",
              "                                                 Sales  \n",
              "0                         {Gb 150, Adm 9000, Adm 8105}  \n",
              "1                 {Gb 3020, Dm 6010, Ow 2100, Gb 3021}  \n",
              "2                                               {Eg 5}  \n",
              "3                                            {Dm 1000}  \n",
              "4    {Cm 1306, Dm 6010, Ow 2100, Dm 350, Cm 1000, A...  \n",
              "..                                                 ...  \n",
              "857                                     {Dm 350, Eg 5}  \n",
              "858                                 {Dm 0.65, Tms 803}  \n",
              "859                   {Cm 1000, Dm 350, Tms 803, Eg 5}  \n",
              "860                                           {Dm 350}  \n",
              "861                                 {Cm 740, Adm 8105}  \n",
              "\n",
              "[862 rows x 4 columns]"
            ],
            "text/html": [
              "\n",
              "  <div id=\"df-a7c50c97-65f1-4254-8d96-94db549cc66f\">\n",
              "    <div class=\"colab-df-container\">\n",
              "      <div>\n",
              "<style scoped>\n",
              "    .dataframe tbody tr th:only-of-type {\n",
              "        vertical-align: middle;\n",
              "    }\n",
              "\n",
              "    .dataframe tbody tr th {\n",
              "        vertical-align: top;\n",
              "    }\n",
              "\n",
              "    .dataframe thead th {\n",
              "        text-align: right;\n",
              "    }\n",
              "</style>\n",
              "<table border=\"1\" class=\"dataframe\">\n",
              "  <thead>\n",
              "    <tr style=\"text-align: right;\">\n",
              "      <th></th>\n",
              "      <th>Cliente Resumo</th>\n",
              "      <th>Distribuidor</th>\n",
              "      <th>2022</th>\n",
              "      <th>Sales</th>\n",
              "    </tr>\n",
              "  </thead>\n",
              "  <tbody>\n",
              "    <tr>\n",
              "      <th>0</th>\n",
              "      <td></td>\n",
              "      <td>FOCUS QUIMICA</td>\n",
              "      <td>5.1724</td>\n",
              "      <td>{Gb 150, Adm 9000, Adm 8105}</td>\n",
              "    </tr>\n",
              "    <tr>\n",
              "      <th>1</th>\n",
              "      <td></td>\n",
              "      <td>MORAIS DE CASTRO</td>\n",
              "      <td>0.4770</td>\n",
              "      <td>{Gb 3020, Dm 6010, Ow 2100, Gb 3021}</td>\n",
              "    </tr>\n",
              "    <tr>\n",
              "      <th>2</th>\n",
              "      <td>2k</td>\n",
              "      <td>EMBACAPS</td>\n",
              "      <td>0.0050</td>\n",
              "      <td>{Eg 5}</td>\n",
              "    </tr>\n",
              "    <tr>\n",
              "      <th>3</th>\n",
              "      <td>3x</td>\n",
              "      <td>BRENNTAG</td>\n",
              "      <td>0.3800</td>\n",
              "      <td>{Dm 1000}</td>\n",
              "    </tr>\n",
              "    <tr>\n",
              "      <th>4</th>\n",
              "      <td>abalo</td>\n",
              "      <td>FOCUS QUIMICA</td>\n",
              "      <td>0.2550</td>\n",
              "      <td>{Cm 1306, Dm 6010, Ow 2100, Dm 350, Cm 1000, A...</td>\n",
              "    </tr>\n",
              "    <tr>\n",
              "      <th>...</th>\n",
              "      <td>...</td>\n",
              "      <td>...</td>\n",
              "      <td>...</td>\n",
              "      <td>...</td>\n",
              "    </tr>\n",
              "    <tr>\n",
              "      <th>857</th>\n",
              "      <td>yantra</td>\n",
              "      <td>FOCUS QUIMICA</td>\n",
              "      <td>0.0300</td>\n",
              "      <td>{Dm 350, Eg 5}</td>\n",
              "    </tr>\n",
              "    <tr>\n",
              "      <th>858</th>\n",
              "      <td>yur</td>\n",
              "      <td>FOCUS QUIMICA</td>\n",
              "      <td>0.0300</td>\n",
              "      <td>{Dm 0.65, Tms 803}</td>\n",
              "    </tr>\n",
              "    <tr>\n",
              "      <th>859</th>\n",
              "      <td>yuzi</td>\n",
              "      <td>FOCUS QUIMICA</td>\n",
              "      <td>0.2130</td>\n",
              "      <td>{Cm 1000, Dm 350, Tms 803, Eg 5}</td>\n",
              "    </tr>\n",
              "    <tr>\n",
              "      <th>860</th>\n",
              "      <td>zaninpharma</td>\n",
              "      <td>EMBACAPS</td>\n",
              "      <td>0.1900</td>\n",
              "      <td>{Dm 350}</td>\n",
              "    </tr>\n",
              "    <tr>\n",
              "      <th>861</th>\n",
              "      <td>zinia</td>\n",
              "      <td>FOCUS QUIMICA</td>\n",
              "      <td>0.0250</td>\n",
              "      <td>{Cm 740, Adm 8105}</td>\n",
              "    </tr>\n",
              "  </tbody>\n",
              "</table>\n",
              "<p>862 rows × 4 columns</p>\n",
              "</div>\n",
              "      <button class=\"colab-df-convert\" onclick=\"convertToInteractive('df-a7c50c97-65f1-4254-8d96-94db549cc66f')\"\n",
              "              title=\"Convert this dataframe to an interactive table.\"\n",
              "              style=\"display:none;\">\n",
              "        \n",
              "  <svg xmlns=\"http://www.w3.org/2000/svg\" height=\"24px\"viewBox=\"0 0 24 24\"\n",
              "       width=\"24px\">\n",
              "    <path d=\"M0 0h24v24H0V0z\" fill=\"none\"/>\n",
              "    <path d=\"M18.56 5.44l.94 2.06.94-2.06 2.06-.94-2.06-.94-.94-2.06-.94 2.06-2.06.94zm-11 1L8.5 8.5l.94-2.06 2.06-.94-2.06-.94L8.5 2.5l-.94 2.06-2.06.94zm10 10l.94 2.06.94-2.06 2.06-.94-2.06-.94-.94-2.06-.94 2.06-2.06.94z\"/><path d=\"M17.41 7.96l-1.37-1.37c-.4-.4-.92-.59-1.43-.59-.52 0-1.04.2-1.43.59L10.3 9.45l-7.72 7.72c-.78.78-.78 2.05 0 2.83L4 21.41c.39.39.9.59 1.41.59.51 0 1.02-.2 1.41-.59l7.78-7.78 2.81-2.81c.8-.78.8-2.07 0-2.86zM5.41 20L4 18.59l7.72-7.72 1.47 1.35L5.41 20z\"/>\n",
              "  </svg>\n",
              "      </button>\n",
              "      \n",
              "  <style>\n",
              "    .colab-df-container {\n",
              "      display:flex;\n",
              "      flex-wrap:wrap;\n",
              "      gap: 12px;\n",
              "    }\n",
              "\n",
              "    .colab-df-convert {\n",
              "      background-color: #E8F0FE;\n",
              "      border: none;\n",
              "      border-radius: 50%;\n",
              "      cursor: pointer;\n",
              "      display: none;\n",
              "      fill: #1967D2;\n",
              "      height: 32px;\n",
              "      padding: 0 0 0 0;\n",
              "      width: 32px;\n",
              "    }\n",
              "\n",
              "    .colab-df-convert:hover {\n",
              "      background-color: #E2EBFA;\n",
              "      box-shadow: 0px 1px 2px rgba(60, 64, 67, 0.3), 0px 1px 3px 1px rgba(60, 64, 67, 0.15);\n",
              "      fill: #174EA6;\n",
              "    }\n",
              "\n",
              "    [theme=dark] .colab-df-convert {\n",
              "      background-color: #3B4455;\n",
              "      fill: #D2E3FC;\n",
              "    }\n",
              "\n",
              "    [theme=dark] .colab-df-convert:hover {\n",
              "      background-color: #434B5C;\n",
              "      box-shadow: 0px 1px 3px 1px rgba(0, 0, 0, 0.15);\n",
              "      filter: drop-shadow(0px 1px 2px rgba(0, 0, 0, 0.3));\n",
              "      fill: #FFFFFF;\n",
              "    }\n",
              "  </style>\n",
              "\n",
              "      <script>\n",
              "        const buttonEl =\n",
              "          document.querySelector('#df-a7c50c97-65f1-4254-8d96-94db549cc66f button.colab-df-convert');\n",
              "        buttonEl.style.display =\n",
              "          google.colab.kernel.accessAllowed ? 'block' : 'none';\n",
              "\n",
              "        async function convertToInteractive(key) {\n",
              "          const element = document.querySelector('#df-a7c50c97-65f1-4254-8d96-94db549cc66f');\n",
              "          const dataTable =\n",
              "            await google.colab.kernel.invokeFunction('convertToInteractive',\n",
              "                                                     [key], {});\n",
              "          if (!dataTable) return;\n",
              "\n",
              "          const docLinkHtml = 'Like what you see? Visit the ' +\n",
              "            '<a target=\"_blank\" href=https://colab.research.google.com/notebooks/data_table.ipynb>data table notebook</a>'\n",
              "            + ' to learn more about interactive tables.';\n",
              "          element.innerHTML = '';\n",
              "          dataTable['output_type'] = 'display_data';\n",
              "          await google.colab.output.renderOutput(dataTable, element);\n",
              "          const docLink = document.createElement('div');\n",
              "          docLink.innerHTML = docLinkHtml;\n",
              "          element.appendChild(docLink);\n",
              "        }\n",
              "      </script>\n",
              "    </div>\n",
              "  </div>\n",
              "  "
            ]
          },
          "metadata": {},
          "execution_count": 59
        }
      ]
    },
    {
      "cell_type": "markdown",
      "metadata": {
        "id": "W_FXVv4o_a3U"
      },
      "source": [
        "# Projetos"
      ]
    },
    {
      "cell_type": "code",
      "execution_count": 60,
      "metadata": {
        "id": "EVINAc6__a3W"
      },
      "outputs": [],
      "source": [
        "df_proj['Product']= formatar_material(df_proj['Product'])"
      ]
    },
    {
      "cell_type": "code",
      "execution_count": 61,
      "metadata": {
        "id": "RtxilQLf_a3X"
      },
      "outputs": [],
      "source": [
        "df_proj['Cliente Resumo'] = formatar_fabricantes(df_proj['Customer'])"
      ]
    },
    {
      "cell_type": "code",
      "execution_count": 62,
      "metadata": {
        "id": "66QkAFtcN_9O"
      },
      "outputs": [],
      "source": [
        "#Dicionário Silicones geral\n",
        "dictFASE = {'APROVADO':'APROVADO','Closed Won': 'APROVADO', 'FINALIZADO': 'APROVADO',\n",
        "            'CANCELADO':'CANCELADO', 'CANCELADO/REPROVADO': 'CANCELADO', 'STAND BY':'CANCELADO',\n",
        "            'REPROVADO':'REPROVADO', 'Closed Lost': 'REPROVADO', \n",
        "            'EM ANDAMENTO':'EM ANDAMENTO', 'EM TESTE': 'EM ANDAMENTO', 'Negotiation/Review': 'EM ANDAMENTO',\n",
        "            'Proposal/Price Quote':'EM ANDAMENTO', 'Prospecting':'EM ANDAMENTO',\n",
        "            'Qualification':'EM ANDAMENTO',\n",
        "            }"
      ]
    },
    {
      "cell_type": "code",
      "execution_count": 63,
      "metadata": {
        "id": "XxVpOXPaN_9O"
      },
      "outputs": [],
      "source": [
        "df_proj['FASE'] = df_proj['Fase'].str.strip().str.extract('('+'|'.join(dictFASE)+')',expand=False).map(dictFASE)"
      ]
    },
    {
      "cell_type": "code",
      "source": [
        "df_proj_unic = df_proj.groupby(['Cliente Resumo','UF','Distribuidor','FASE']).agg({\n",
        "                                                          'Product': lambda x:list(set(x)),\n",
        "                                                          }).reset_index()"
      ],
      "metadata": {
        "id": "mtcZTpivAsJd"
      },
      "execution_count": 64,
      "outputs": []
    },
    {
      "cell_type": "code",
      "source": [
        "transpor(df_proj_unic, 'FASE', 'Product')"
      ],
      "metadata": {
        "id": "bT2aqH4Nw8mE"
      },
      "execution_count": 65,
      "outputs": []
    },
    {
      "cell_type": "code",
      "source": [
        "df_proj_unic_2 = df_proj_unic.groupby(['Cliente Resumo', 'UF', 'Distribuidor'])[['CANCELADO', 'EM ANDAMENTO', 'APROVADO', 'REPROVADO']].apply(to_set).reset_index()"
      ],
      "metadata": {
        "id": "oK6bmQ-XujEY"
      },
      "execution_count": 66,
      "outputs": []
    },
    {
      "cell_type": "code",
      "source": [
        "df_proj_unic_2.head(2)#.to_excel('projetosagrupados.xlsx')"
      ],
      "metadata": {
        "id": "Zl_cPUjjnlOA",
        "colab": {
          "base_uri": "https://localhost:8080/",
          "height": 112
        },
        "outputId": "f093a821-19da-4ee9-f6d6-258524349970"
      },
      "execution_count": 67,
      "outputs": [
        {
          "output_type": "execute_result",
          "data": {
            "text/plain": [
              "      Cliente Resumo  UF Distribuidor   CANCELADO EM ANDAMENTO APROVADO  \\\n",
              "0                 2k  SC     EMBACAPS  {Adm 8301}           {}       {}   \n",
              "1  a3eventosservicos  SC     EMBACAPS          {}       {Eg 5}       {}   \n",
              "\n",
              "  REPROVADO  \n",
              "0        {}  \n",
              "1        {}  "
            ],
            "text/html": [
              "\n",
              "  <div id=\"df-d23306b6-96ff-48ab-8259-a84e2bf4e294\">\n",
              "    <div class=\"colab-df-container\">\n",
              "      <div>\n",
              "<style scoped>\n",
              "    .dataframe tbody tr th:only-of-type {\n",
              "        vertical-align: middle;\n",
              "    }\n",
              "\n",
              "    .dataframe tbody tr th {\n",
              "        vertical-align: top;\n",
              "    }\n",
              "\n",
              "    .dataframe thead th {\n",
              "        text-align: right;\n",
              "    }\n",
              "</style>\n",
              "<table border=\"1\" class=\"dataframe\">\n",
              "  <thead>\n",
              "    <tr style=\"text-align: right;\">\n",
              "      <th></th>\n",
              "      <th>Cliente Resumo</th>\n",
              "      <th>UF</th>\n",
              "      <th>Distribuidor</th>\n",
              "      <th>CANCELADO</th>\n",
              "      <th>EM ANDAMENTO</th>\n",
              "      <th>APROVADO</th>\n",
              "      <th>REPROVADO</th>\n",
              "    </tr>\n",
              "  </thead>\n",
              "  <tbody>\n",
              "    <tr>\n",
              "      <th>0</th>\n",
              "      <td>2k</td>\n",
              "      <td>SC</td>\n",
              "      <td>EMBACAPS</td>\n",
              "      <td>{Adm 8301}</td>\n",
              "      <td>{}</td>\n",
              "      <td>{}</td>\n",
              "      <td>{}</td>\n",
              "    </tr>\n",
              "    <tr>\n",
              "      <th>1</th>\n",
              "      <td>a3eventosservicos</td>\n",
              "      <td>SC</td>\n",
              "      <td>EMBACAPS</td>\n",
              "      <td>{}</td>\n",
              "      <td>{Eg 5}</td>\n",
              "      <td>{}</td>\n",
              "      <td>{}</td>\n",
              "    </tr>\n",
              "  </tbody>\n",
              "</table>\n",
              "</div>\n",
              "      <button class=\"colab-df-convert\" onclick=\"convertToInteractive('df-d23306b6-96ff-48ab-8259-a84e2bf4e294')\"\n",
              "              title=\"Convert this dataframe to an interactive table.\"\n",
              "              style=\"display:none;\">\n",
              "        \n",
              "  <svg xmlns=\"http://www.w3.org/2000/svg\" height=\"24px\"viewBox=\"0 0 24 24\"\n",
              "       width=\"24px\">\n",
              "    <path d=\"M0 0h24v24H0V0z\" fill=\"none\"/>\n",
              "    <path d=\"M18.56 5.44l.94 2.06.94-2.06 2.06-.94-2.06-.94-.94-2.06-.94 2.06-2.06.94zm-11 1L8.5 8.5l.94-2.06 2.06-.94-2.06-.94L8.5 2.5l-.94 2.06-2.06.94zm10 10l.94 2.06.94-2.06 2.06-.94-2.06-.94-.94-2.06-.94 2.06-2.06.94z\"/><path d=\"M17.41 7.96l-1.37-1.37c-.4-.4-.92-.59-1.43-.59-.52 0-1.04.2-1.43.59L10.3 9.45l-7.72 7.72c-.78.78-.78 2.05 0 2.83L4 21.41c.39.39.9.59 1.41.59.51 0 1.02-.2 1.41-.59l7.78-7.78 2.81-2.81c.8-.78.8-2.07 0-2.86zM5.41 20L4 18.59l7.72-7.72 1.47 1.35L5.41 20z\"/>\n",
              "  </svg>\n",
              "      </button>\n",
              "      \n",
              "  <style>\n",
              "    .colab-df-container {\n",
              "      display:flex;\n",
              "      flex-wrap:wrap;\n",
              "      gap: 12px;\n",
              "    }\n",
              "\n",
              "    .colab-df-convert {\n",
              "      background-color: #E8F0FE;\n",
              "      border: none;\n",
              "      border-radius: 50%;\n",
              "      cursor: pointer;\n",
              "      display: none;\n",
              "      fill: #1967D2;\n",
              "      height: 32px;\n",
              "      padding: 0 0 0 0;\n",
              "      width: 32px;\n",
              "    }\n",
              "\n",
              "    .colab-df-convert:hover {\n",
              "      background-color: #E2EBFA;\n",
              "      box-shadow: 0px 1px 2px rgba(60, 64, 67, 0.3), 0px 1px 3px 1px rgba(60, 64, 67, 0.15);\n",
              "      fill: #174EA6;\n",
              "    }\n",
              "\n",
              "    [theme=dark] .colab-df-convert {\n",
              "      background-color: #3B4455;\n",
              "      fill: #D2E3FC;\n",
              "    }\n",
              "\n",
              "    [theme=dark] .colab-df-convert:hover {\n",
              "      background-color: #434B5C;\n",
              "      box-shadow: 0px 1px 3px 1px rgba(0, 0, 0, 0.15);\n",
              "      filter: drop-shadow(0px 1px 2px rgba(0, 0, 0, 0.3));\n",
              "      fill: #FFFFFF;\n",
              "    }\n",
              "  </style>\n",
              "\n",
              "      <script>\n",
              "        const buttonEl =\n",
              "          document.querySelector('#df-d23306b6-96ff-48ab-8259-a84e2bf4e294 button.colab-df-convert');\n",
              "        buttonEl.style.display =\n",
              "          google.colab.kernel.accessAllowed ? 'block' : 'none';\n",
              "\n",
              "        async function convertToInteractive(key) {\n",
              "          const element = document.querySelector('#df-d23306b6-96ff-48ab-8259-a84e2bf4e294');\n",
              "          const dataTable =\n",
              "            await google.colab.kernel.invokeFunction('convertToInteractive',\n",
              "                                                     [key], {});\n",
              "          if (!dataTable) return;\n",
              "\n",
              "          const docLinkHtml = 'Like what you see? Visit the ' +\n",
              "            '<a target=\"_blank\" href=https://colab.research.google.com/notebooks/data_table.ipynb>data table notebook</a>'\n",
              "            + ' to learn more about interactive tables.';\n",
              "          element.innerHTML = '';\n",
              "          dataTable['output_type'] = 'display_data';\n",
              "          await google.colab.output.renderOutput(dataTable, element);\n",
              "          const docLink = document.createElement('div');\n",
              "          docLink.innerHTML = docLinkHtml;\n",
              "          element.appendChild(docLink);\n",
              "        }\n",
              "      </script>\n",
              "    </div>\n",
              "  </div>\n",
              "  "
            ]
          },
          "metadata": {},
          "execution_count": 67
        }
      ]
    },
    {
      "cell_type": "markdown",
      "source": [
        "# Agrupar Projeto e Vendas"
      ],
      "metadata": {
        "id": "YMJh6C7A8tOy"
      }
    },
    {
      "cell_type": "code",
      "source": [
        "df_proj_vend = df_proj_unic_2.merge(df_dist_unic, on=['Cliente Resumo', 'Distribuidor'], how='left')"
      ],
      "metadata": {
        "id": "QqvtL3sq8tOz"
      },
      "execution_count": 68,
      "outputs": []
    },
    {
      "cell_type": "code",
      "source": [
        "df_proj_vend.to_excel('Projetos Vendas.xlsx')"
      ],
      "metadata": {
        "id": "DQf-OCRw84dx"
      },
      "execution_count": 69,
      "outputs": []
    },
    {
      "cell_type": "markdown",
      "source": [
        "# Agrupar Vendas e Projetos"
      ],
      "metadata": {
        "id": "PK-fkXB6Bu1i"
      }
    },
    {
      "cell_type": "code",
      "source": [
        "df_vend_proj = df_dist_unic.merge(df_proj_unic_2, on=['Cliente Resumo', 'Distribuidor'], how='left')"
      ],
      "metadata": {
        "id": "BptXKmEUBu1k"
      },
      "execution_count": 70,
      "outputs": []
    },
    {
      "cell_type": "code",
      "source": [
        "#df_vend_proj.to_excel('Vendas Projetos.xlsx')"
      ],
      "metadata": {
        "id": "izuyArJ6Bu1l"
      },
      "execution_count": 71,
      "outputs": []
    },
    {
      "cell_type": "markdown",
      "source": [
        "# Agrupar Mintel e Vendas e Projeto"
      ],
      "metadata": {
        "id": "X4Fjc-WYxeS9"
      }
    },
    {
      "cell_type": "code",
      "source": [
        "df_mintel_vend_proj = df_mintel_fab.merge(df_vend_proj, on='Cliente Resumo', how='left')"
      ],
      "metadata": {
        "id": "o177mmdCsnd7"
      },
      "execution_count": 72,
      "outputs": []
    },
    {
      "cell_type": "code",
      "source": [
        "df_mintel_vend_proj.rename(columns={'WACKER': 'WACKER Prod Poss','Customer(at distrib)':'Customer Sales','Distributor':'Dist. Sales', \n",
        "                                    'Sales': 'Prod Sales','2022': 'Sales Volume', 'Customer': 'Customer Proj Fab',\n",
        "                                    'Distribuidor':'Dist Proj Fab', 'Project':'Prod Proj Fab', \n",
        "                                    'Fase':'Fase Proj Fab',\n",
        "                                         }, \n",
        "                                inplace=True)\n",
        "#df_mintel_vend_proj.drop_duplicates()\n",
        "df_mintel_vend_proj.sample(2)"
      ],
      "metadata": {
        "colab": {
          "base_uri": "https://localhost:8080/",
          "height": 367
        },
        "id": "gwt42SOKI5OI",
        "outputId": "336e4ee5-fd83-4bb3-b4fe-913520ef3e42"
      },
      "execution_count": 73,
      "outputs": [
        {
          "output_type": "execute_result",
          "data": {
            "text/plain": [
              "    Cliente Resumo  Trimestre Estados    Cabelo  \\\n",
              "110     gcferreira          1      SP       NaN   \n",
              "191      naturelle          1      SP  {Cm 740}   \n",
              "\n",
              "                                      Pele Maquilagem Banho  \\\n",
              "110                                    NaN        NaN   NaN   \n",
              "191  {Elastomero, Gb 150, Hdk N20, Cm 740}         {}    {}   \n",
              "\n",
              "     Total Lançamentos  Silicone  Claim Sem Silicone  Dist Proj Fab  \\\n",
              "110                  2         0                   0            NaN   \n",
              "191                 10         9                   0  FOCUS QUIMICA   \n",
              "\n",
              "     Sales Volume                                     Prod Sales   UF  \\\n",
              "110           NaN                                            NaN  NaN   \n",
              "191         0.785  {Adm 8105, Dm 350, Pdm 20, Cm 1000, Adm 9000}   SP   \n",
              "\n",
              "    CANCELADO EM ANDAMENTO APROVADO REPROVADO  \n",
              "110       NaN          NaN      NaN       NaN  \n",
              "191        {}    {Gb 7030}   {Eg 5}        {}  "
            ],
            "text/html": [
              "\n",
              "  <div id=\"df-6f32c83b-6717-41a3-8014-0e93f4dbbdf7\">\n",
              "    <div class=\"colab-df-container\">\n",
              "      <div>\n",
              "<style scoped>\n",
              "    .dataframe tbody tr th:only-of-type {\n",
              "        vertical-align: middle;\n",
              "    }\n",
              "\n",
              "    .dataframe tbody tr th {\n",
              "        vertical-align: top;\n",
              "    }\n",
              "\n",
              "    .dataframe thead th {\n",
              "        text-align: right;\n",
              "    }\n",
              "</style>\n",
              "<table border=\"1\" class=\"dataframe\">\n",
              "  <thead>\n",
              "    <tr style=\"text-align: right;\">\n",
              "      <th></th>\n",
              "      <th>Cliente Resumo</th>\n",
              "      <th>Trimestre</th>\n",
              "      <th>Estados</th>\n",
              "      <th>Cabelo</th>\n",
              "      <th>Pele</th>\n",
              "      <th>Maquilagem</th>\n",
              "      <th>Banho</th>\n",
              "      <th>Total Lançamentos</th>\n",
              "      <th>Silicone</th>\n",
              "      <th>Claim Sem Silicone</th>\n",
              "      <th>Dist Proj Fab</th>\n",
              "      <th>Sales Volume</th>\n",
              "      <th>Prod Sales</th>\n",
              "      <th>UF</th>\n",
              "      <th>CANCELADO</th>\n",
              "      <th>EM ANDAMENTO</th>\n",
              "      <th>APROVADO</th>\n",
              "      <th>REPROVADO</th>\n",
              "    </tr>\n",
              "  </thead>\n",
              "  <tbody>\n",
              "    <tr>\n",
              "      <th>110</th>\n",
              "      <td>gcferreira</td>\n",
              "      <td>1</td>\n",
              "      <td>SP</td>\n",
              "      <td>NaN</td>\n",
              "      <td>NaN</td>\n",
              "      <td>NaN</td>\n",
              "      <td>NaN</td>\n",
              "      <td>2</td>\n",
              "      <td>0</td>\n",
              "      <td>0</td>\n",
              "      <td>NaN</td>\n",
              "      <td>NaN</td>\n",
              "      <td>NaN</td>\n",
              "      <td>NaN</td>\n",
              "      <td>NaN</td>\n",
              "      <td>NaN</td>\n",
              "      <td>NaN</td>\n",
              "      <td>NaN</td>\n",
              "    </tr>\n",
              "    <tr>\n",
              "      <th>191</th>\n",
              "      <td>naturelle</td>\n",
              "      <td>1</td>\n",
              "      <td>SP</td>\n",
              "      <td>{Cm 740}</td>\n",
              "      <td>{Elastomero, Gb 150, Hdk N20, Cm 740}</td>\n",
              "      <td>{}</td>\n",
              "      <td>{}</td>\n",
              "      <td>10</td>\n",
              "      <td>9</td>\n",
              "      <td>0</td>\n",
              "      <td>FOCUS QUIMICA</td>\n",
              "      <td>0.785</td>\n",
              "      <td>{Adm 8105, Dm 350, Pdm 20, Cm 1000, Adm 9000}</td>\n",
              "      <td>SP</td>\n",
              "      <td>{}</td>\n",
              "      <td>{Gb 7030}</td>\n",
              "      <td>{Eg 5}</td>\n",
              "      <td>{}</td>\n",
              "    </tr>\n",
              "  </tbody>\n",
              "</table>\n",
              "</div>\n",
              "      <button class=\"colab-df-convert\" onclick=\"convertToInteractive('df-6f32c83b-6717-41a3-8014-0e93f4dbbdf7')\"\n",
              "              title=\"Convert this dataframe to an interactive table.\"\n",
              "              style=\"display:none;\">\n",
              "        \n",
              "  <svg xmlns=\"http://www.w3.org/2000/svg\" height=\"24px\"viewBox=\"0 0 24 24\"\n",
              "       width=\"24px\">\n",
              "    <path d=\"M0 0h24v24H0V0z\" fill=\"none\"/>\n",
              "    <path d=\"M18.56 5.44l.94 2.06.94-2.06 2.06-.94-2.06-.94-.94-2.06-.94 2.06-2.06.94zm-11 1L8.5 8.5l.94-2.06 2.06-.94-2.06-.94L8.5 2.5l-.94 2.06-2.06.94zm10 10l.94 2.06.94-2.06 2.06-.94-2.06-.94-.94-2.06-.94 2.06-2.06.94z\"/><path d=\"M17.41 7.96l-1.37-1.37c-.4-.4-.92-.59-1.43-.59-.52 0-1.04.2-1.43.59L10.3 9.45l-7.72 7.72c-.78.78-.78 2.05 0 2.83L4 21.41c.39.39.9.59 1.41.59.51 0 1.02-.2 1.41-.59l7.78-7.78 2.81-2.81c.8-.78.8-2.07 0-2.86zM5.41 20L4 18.59l7.72-7.72 1.47 1.35L5.41 20z\"/>\n",
              "  </svg>\n",
              "      </button>\n",
              "      \n",
              "  <style>\n",
              "    .colab-df-container {\n",
              "      display:flex;\n",
              "      flex-wrap:wrap;\n",
              "      gap: 12px;\n",
              "    }\n",
              "\n",
              "    .colab-df-convert {\n",
              "      background-color: #E8F0FE;\n",
              "      border: none;\n",
              "      border-radius: 50%;\n",
              "      cursor: pointer;\n",
              "      display: none;\n",
              "      fill: #1967D2;\n",
              "      height: 32px;\n",
              "      padding: 0 0 0 0;\n",
              "      width: 32px;\n",
              "    }\n",
              "\n",
              "    .colab-df-convert:hover {\n",
              "      background-color: #E2EBFA;\n",
              "      box-shadow: 0px 1px 2px rgba(60, 64, 67, 0.3), 0px 1px 3px 1px rgba(60, 64, 67, 0.15);\n",
              "      fill: #174EA6;\n",
              "    }\n",
              "\n",
              "    [theme=dark] .colab-df-convert {\n",
              "      background-color: #3B4455;\n",
              "      fill: #D2E3FC;\n",
              "    }\n",
              "\n",
              "    [theme=dark] .colab-df-convert:hover {\n",
              "      background-color: #434B5C;\n",
              "      box-shadow: 0px 1px 3px 1px rgba(0, 0, 0, 0.15);\n",
              "      filter: drop-shadow(0px 1px 2px rgba(0, 0, 0, 0.3));\n",
              "      fill: #FFFFFF;\n",
              "    }\n",
              "  </style>\n",
              "\n",
              "      <script>\n",
              "        const buttonEl =\n",
              "          document.querySelector('#df-6f32c83b-6717-41a3-8014-0e93f4dbbdf7 button.colab-df-convert');\n",
              "        buttonEl.style.display =\n",
              "          google.colab.kernel.accessAllowed ? 'block' : 'none';\n",
              "\n",
              "        async function convertToInteractive(key) {\n",
              "          const element = document.querySelector('#df-6f32c83b-6717-41a3-8014-0e93f4dbbdf7');\n",
              "          const dataTable =\n",
              "            await google.colab.kernel.invokeFunction('convertToInteractive',\n",
              "                                                     [key], {});\n",
              "          if (!dataTable) return;\n",
              "\n",
              "          const docLinkHtml = 'Like what you see? Visit the ' +\n",
              "            '<a target=\"_blank\" href=https://colab.research.google.com/notebooks/data_table.ipynb>data table notebook</a>'\n",
              "            + ' to learn more about interactive tables.';\n",
              "          element.innerHTML = '';\n",
              "          dataTable['output_type'] = 'display_data';\n",
              "          await google.colab.output.renderOutput(dataTable, element);\n",
              "          const docLink = document.createElement('div');\n",
              "          docLink.innerHTML = docLinkHtml;\n",
              "          element.appendChild(docLink);\n",
              "        }\n",
              "      </script>\n",
              "    </div>\n",
              "  </div>\n",
              "  "
            ]
          },
          "metadata": {},
          "execution_count": 73
        }
      ]
    },
    {
      "cell_type": "code",
      "source": [
        "df_mintel_vend_proj.to_excel('Mintel Vendas Projeto.xlsx')"
      ],
      "metadata": {
        "id": "IpyGwO1d_76A"
      },
      "execution_count": 74,
      "outputs": []
    }
  ],
  "metadata": {
    "colab": {
      "provenance": [],
      "toc_visible": true
    },
    "kernelspec": {
      "display_name": "Python 3",
      "name": "python3"
    },
    "language_info": {
      "name": "python"
    }
  },
  "nbformat": 4,
  "nbformat_minor": 0
}